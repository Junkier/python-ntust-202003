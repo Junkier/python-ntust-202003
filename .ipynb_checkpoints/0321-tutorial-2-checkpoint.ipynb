{
 "cells": [
  {
   "cell_type": "code",
   "execution_count": 87,
   "metadata": {},
   "outputs": [
    {
     "name": "stdout",
     "output_type": "stream",
     "text": [
      "<class 'str'>\n"
     ]
    }
   ],
   "source": [
    "# requests\n",
    "\n",
    "import requests\n",
    "\n",
    "url = \"https://www.nownews.com/cat/column/\"\n",
    "\n",
    "headers = {\n",
    "    #     :authority: www.nownews.com\n",
    "    #     :method: GET\n",
    "    #     :path: /cat/column/\n",
    "    #     :scheme: https\n",
    "    #     accept: text/html,application/xhtml+xml,application/xml;q=0.9,image/webp,image/apng,*/*;q=0.8,application/signed-exchange;v=b3;q=0.9\n",
    "    #     accept-encoding: gzip, deflate, br\n",
    "    #     accept-language: zh-TW,zh;q=0.9,en-US;q=0.8,en;q=0.7\n",
    "    #     cache-control: max-age=0\n",
    "    #     cookie: __cfduid=d701f5e73777b7088d72ae4297f1523401584769309; __cfruid=65c50de5a9cae71e283ab684107e93a0a045ff5b-1584769309; _ga=GA1.2.1103989353.1584769311; _gid=GA1.2.2026141546.1584769311; dable_uid=44657174.1584754251349; _ss_pp_id=13f37aa5ffa2f2d3e551584726679367; __gads=ID=eff99311521862c2:T=1584769314:S=ALNI_MY-uVNjKI1vYxkPUzxjfnxkA7wIjQ; __asc=5064b019170fb9cb097e38fd3a9; __auc=5064b019170fb9cb097e38fd3a9; _fbp=fb.1.1584769315433.1977075126; freq.58e1afd747e7046f3bb1c295=1; freq.5e661e8b47e7043d03000003=1; iUUID=764e15b599b30311cf29102469f3c386; innity.dmp.0.sess=1.1584769364361.1584769364361.1584769364361; innity.dmp.0.sess.id=127061259.0.1584769364361; innity.dmp.cks.appxs=1; innity.dmp.cks.innity=1; oid=%257B%2522oid%2522%253A%2522285e553a-6b11-11ea-a18a-0242ac120003%2522%252C%2522ts%2522%253A1584753202%252C%2522v%2522%253A%25221.0%2522%257D; innity.dmp.1.sess.id=127061259.1.1584769428170; truvid_protected={\"val\":\"c\",\"level\":1,\"geo\":\"TW\",\"timestamp\":1584769481}; truvid_oov={\"timesShown\":2}; innity.dmp.1.sess=7.1584769428170.1584769759448.1584769766370; _td=9a54ea03-d320-461d-818c-9a4c26db28cb; GED_PLAYLIST_ACTIVITY=W3sidSI6IkQrRSsiLCJ0c2wiOjE1ODQ3NzAwMTQsIm52IjowLCJ1cHQiOjE1ODQ3Njk3NDEsImx0IjoxNTg0NzY5NzgwfSx7InUiOiI4NDZhIiwidHNsIjoxNTg0NzY5ODA3LCJudiI6MCwidXB0IjoxNTg0NzY5ODAyLCJsdCI6MTU4NDc2OTgwMn0seyJ1IjoiRk04bSIsInRzbCI6MTU4NDc2OTU1MywibnYiOjEsInVwdCI6MTU4NDc2OTQ2OSwibHQiOjE1ODQ3Njk1NTN9XQ..\n",
    "    #     referer: https://www.nownews.com/cat/entertainment/\n",
    "    #     sec-fetch-dest: document\n",
    "    #     sec-fetch-mode: navigate\n",
    "    #     sec-fetch-site: same-origin\n",
    "    #     sec-fetch-user: ?1\n",
    "    #     upgrade-insecure-requests: 1\n",
    "    \"user-agent\": \"Mozilla/5.0 (Windows NT 10.0; Win64; x64) AppleWebKit/537.36 (KHTML, like Gecko) Chrome/80.0.3987.149 Safari/537.36\"\n",
    "}\n",
    "\n",
    "res = requests.get(url , headers = headers)\n",
    "\n",
    "# print(res)\n",
    "\n",
    "result = res.text\n",
    "\n",
    "print(type(result))\n",
    "# print(result)\n"
   ]
  },
  {
   "cell_type": "code",
   "execution_count": 88,
   "metadata": {},
   "outputs": [
    {
     "name": "stdout",
     "output_type": "stream",
     "text": [
      "<class 'str'>\n",
      "<class 'bs4.BeautifulSoup'>\n"
     ]
    }
   ],
   "source": [
    "from bs4 import BeautifulSoup as bs\n",
    "\n",
    "soup = bs(result,\"lxml\")\n",
    "\n",
    "# print(soup)\n",
    "print(type(result))\n",
    "print(type(soup))\n"
   ]
  },
  {
   "cell_type": "code",
   "execution_count": 18,
   "metadata": {
    "scrolled": true
   },
   "outputs": [
    {
     "name": "stdout",
     "output_type": "stream",
     "text": [
      "<h3 class=\"entry-title td-module-title\"><a href=\"https://www.nownews.com/news/20200321/3996972/\" rel=\"bookmark\" title=\"「民眾健康我來顧！」　侯友宜PO文籲：民眾麥擱趴趴走\">「民眾健康我來顧！」　侯友宜PO文籲：民眾麥擱趴趴走</a></h3>\n",
      "<h3 class=\"entry-title td-module-title\"><a href=\"https://www.nownews.com/news/20200321/3996995/\" rel=\"bookmark\" title=\"疫情燒各地鎖國！外交部：延長在台外籍人士30天\">疫情燒各地鎖國！外交部：延長在台外籍人士30天</a></h3>\n",
      "<h3 class=\"entry-title td-module-title\"><a href=\"https://www.nownews.com/news/20200321/3996945/\" rel=\"bookmark\" title=\"網紅馮提莫病倒　「高燒38度、無力又咳嗽」：我真的害怕\">網紅馮提莫病倒　「高燒38度、無力又咳嗽」：我真的害怕</a></h3>\n",
      "<h3 class=\"entry-title td-module-title\"><a href=\"https://www.nownews.com/news/20200321/3996969/\" rel=\"bookmark\" title=\"台灣捐贈巴拉圭百萬片口罩？　外交部澄清：是在當地採購\">台灣捐贈巴拉圭百萬片口罩？　外交部澄清：是在當地採購</a></h3>\n",
      "<h3 class=\"entry-title td-module-title\"><a href=\"https://www.nownews.com/news/20200321/3995977/\" rel=\"bookmark\" title=\"影／伍佰老師防疫宣導超霸氣　網友重溫狂笑：態度一百\">影／伍佰老師防疫宣導超霸氣　網友重溫狂笑：態度一百</a></h3>\n",
      "<h3 class=\"entry-title td-module-title\"><a href=\"https://www.nownews.com/news/20200321/3996941/\" rel=\"bookmark\" title=\"全聯新贈品曝光！婆媽一看「隱藏版」全暴動：有加碼福利\">全聯新贈品曝光！婆媽一看「隱藏版」全暴動：有加碼福利</a></h3>\n",
      "<h3 class=\"entry-title td-module-title\"><a href=\"https://www.nownews.com/news/20200321/3996956/\" rel=\"bookmark\" title=\"NBA／武漢肺炎影響　沃神指出4月中球員恐開始被扣薪\">NBA／武漢肺炎影響　沃神指出4月中球員恐開始被扣薪</a></h3>\n",
      "<h3 class=\"entry-title td-module-title\"><a href=\"https://www.nownews.com/news/20200321/3996944/\" rel=\"bookmark\" title=\"武漢肺炎怎結束？專家揭4結局　「最糟情況」曝光：可怕\">武漢肺炎怎結束？專家揭4結局　「最糟情況」曝光：可怕</a></h3>\n",
      "<h3 class=\"entry-title td-module-title\"><a href=\"https://www.nownews.com/news/20200321/3996939/\" rel=\"bookmark\" title=\"陸官媒胡錫進：港台病例激增，入境中國應隔離否則很危險\">陸官媒胡錫進：港台病例激增，入境中國應隔離否則很危險</a></h3>\n",
      "<h3 class=\"entry-title td-module-title\"><a href=\"https://www.nownews.com/news/20200321/3996902/\" rel=\"bookmark\" title=\"破億神曲24歲女星「確診武漢肺炎」 同台藝人陷染疫危機\">破億神曲24歲女星「確診武漢肺炎」 同台藝人陷染疫危機</a></h3>\n",
      "<h3 class=\"entry-title td-module-title\"><a href=\"https://www.nownews.com/news/20200321/3996891/\" rel=\"bookmark\" title=\"川普稱中國病毒　黃安「不生氣理由」陸網推爆：這是現實\">川普稱中國病毒　黃安「不生氣理由」陸網推爆：這是現實</a></h3>\n",
      "<h3 class=\"entry-title td-module-title\"><a href=\"https://www.nownews.com/news/20200321/3996777/\" rel=\"bookmark\" title=\"影／首次出國實習遇武漢肺炎　科大學生心驚驚\">影／首次出國實習遇武漢肺炎　科大學生心驚驚</a></h3>\n",
      "<h3 class=\"entry-title td-module-title\"><a href=\"https://www.nownews.com/news/20200321/3996904/\" rel=\"bookmark\" title=\"NBA／KD坦承自己確診武漢肺炎　湖人後衛：他很勇敢\">NBA／KD坦承自己確診武漢肺炎　湖人後衛：他很勇敢</a></h3>\n",
      "<h3 class=\"entry-title td-module-title\"><a href=\"https://www.nownews.com/news/20200321/3996860/\" rel=\"bookmark\" title=\"各地湧現搶購潮　經濟部信心喊話：衛生紙夠擦屁股300年\">各地湧現搶購潮　經濟部信心喊話：衛生紙夠擦屁股300年</a></h3>\n",
      "<h3 class=\"entry-title td-module-title\"><a href=\"https://www.nownews.com/news/20200321/3996850/\" rel=\"bookmark\" title=\"MLB／談武漢肺炎疫情　一朗：就像棒球突然消失\">MLB／談武漢肺炎疫情　一朗：就像棒球突然消失</a></h3>\n",
      "<h3 class=\"entry-title td-module-title\"><a href=\"https://www.nownews.com/news/20200321/3996878/\" rel=\"bookmark\" title=\"不要再囤了！賣場老翁心碎畫面曝光　20萬人淚呼：好難過\">不要再囤了！賣場老翁心碎畫面曝光　20萬人淚呼：好難過</a></h3>\n"
     ]
    }
   ],
   "source": [
    "# print(soup.select(\"div.td-animation-stack\"))\n",
    "\n",
    "# print(soup.select(\"a\"))\n",
    "\n",
    "# for ele in soup.select(\"a\"):\n",
    "#     print(ele)\n",
    "\n",
    "# print(soup.select(\"h3\"))\n",
    "\n",
    "for ele in soup.select(\"h3\"):\n",
    "    print(ele)"
   ]
  },
  {
   "cell_type": "code",
   "execution_count": 41,
   "metadata": {
    "scrolled": true
   },
   "outputs": [
    {
     "name": "stdout",
     "output_type": "stream",
     "text": [
      "<a href=\"https://www.nownews.com/news/20200321/3995977/\" rel=\"bookmark\" title=\"影／伍佰老師防疫宣導超霸氣　網友重溫狂笑：態度一百\">影／伍佰老師防疫宣導超霸氣　網友重溫狂笑：態度一百</a>\n",
      "<a href=\"https://www.nownews.com/news/20200321/3995977/\">Read more</a>\n",
      "<a href=\"https://www.nownews.com/news/20200321/3996941/\" rel=\"bookmark\" title=\"全聯新贈品曝光！婆媽一看「隱藏版」全暴動：有加碼福利\">全聯新贈品曝光！婆媽一看「隱藏版」全暴動：有加碼福利</a>\n",
      "<a href=\"https://www.nownews.com/news/20200321/3996941/\">Read more</a>\n",
      "<a href=\"https://www.nownews.com/news/20200321/3996956/\" rel=\"bookmark\" title=\"NBA／武漢肺炎影響　沃神指出4月中球員恐開始被扣薪\">NBA／武漢肺炎影響　沃神指出4月中球員恐開始被扣薪</a>\n",
      "<a href=\"https://www.nownews.com/news/20200321/3996956/\">Read more</a>\n",
      "<a href=\"https://www.nownews.com/news/20200321/3996944/\" rel=\"bookmark\" title=\"武漢肺炎怎結束？專家揭4結局　「最糟情況」曝光：可怕\">武漢肺炎怎結束？專家揭4結局　「最糟情況」曝光：可怕</a>\n",
      "<a href=\"https://www.nownews.com/news/20200321/3996944/\">Read more</a>\n",
      "<a href=\"https://www.nownews.com/news/20200321/3996939/\" rel=\"bookmark\" title=\"陸官媒胡錫進：港台病例激增，入境中國應隔離否則很危險\">陸官媒胡錫進：港台病例激增，入境中國應隔離否則很危險</a>\n",
      "<a href=\"https://www.nownews.com/news/20200321/3996939/\">Read more</a>\n",
      "<a href=\"https://www.nownews.com/news/20200321/3996902/\" rel=\"bookmark\" title=\"破億神曲24歲女星「確診武漢肺炎」 同台藝人陷染疫危機\">破億神曲24歲女星「確診武漢肺炎」 同台藝人陷染疫危機</a>\n",
      "<a href=\"https://www.nownews.com/news/20200321/3996902/\">Read more</a>\n",
      "<a href=\"https://www.nownews.com/news/20200321/3996891/\" rel=\"bookmark\" title=\"川普稱中國病毒　黃安「不生氣理由」陸網推爆：這是現實\">川普稱中國病毒　黃安「不生氣理由」陸網推爆：這是現實</a>\n",
      "<a href=\"https://www.nownews.com/news/20200321/3996891/\">Read more</a>\n",
      "<a href=\"https://www.nownews.com/news/20200321/3996777/\" rel=\"bookmark\" title=\"影／首次出國實習遇武漢肺炎　科大學生心驚驚\">影／首次出國實習遇武漢肺炎　科大學生心驚驚</a>\n",
      "<a href=\"https://www.nownews.com/news/20200321/3996777/\">Read more</a>\n",
      "<a href=\"https://www.nownews.com/news/20200321/3996904/\" rel=\"bookmark\" title=\"NBA／KD坦承自己確診武漢肺炎　湖人後衛：他很勇敢\">NBA／KD坦承自己確診武漢肺炎　湖人後衛：他很勇敢</a>\n",
      "<a href=\"https://www.nownews.com/news/20200321/3996904/\">Read more</a>\n",
      "<a href=\"https://www.nownews.com/news/20200321/3996860/\" rel=\"bookmark\" title=\"各地湧現搶購潮　經濟部信心喊話：衛生紙夠擦屁股300年\">各地湧現搶購潮　經濟部信心喊話：衛生紙夠擦屁股300年</a>\n",
      "<a href=\"https://www.nownews.com/news/20200321/3996860/\">Read more</a>\n",
      "<a href=\"https://www.nownews.com/news/20200321/3996850/\" rel=\"bookmark\" title=\"MLB／談武漢肺炎疫情　一朗：就像棒球突然消失\">MLB／談武漢肺炎疫情　一朗：就像棒球突然消失</a>\n",
      "<a href=\"https://www.nownews.com/news/20200321/3996850/\">Read more</a>\n",
      "<a href=\"https://www.nownews.com/news/20200321/3996878/\" rel=\"bookmark\" title=\"不要再囤了！賣場老翁心碎畫面曝光　20萬人淚呼：好難過\">不要再囤了！賣場老翁心碎畫面曝光　20萬人淚呼：好難過</a>\n",
      "<a href=\"https://www.nownews.com/news/20200321/3996878/\">Read more</a>\n",
      "--------------------------------------------------------------------------------\n",
      "<time class=\"entry-date updated td-module-date\" datetime=\"2020-03-21T13:12:56+00:00\">2020-03-21</time>\n",
      "<time class=\"entry-date updated td-module-date\" datetime=\"2020-03-21T12:30:48+00:00\">2020-03-21</time>\n",
      "<time class=\"entry-date updated td-module-date\" datetime=\"2020-03-21T12:15:33+00:00\">2020-03-21</time>\n",
      "<time class=\"entry-date updated td-module-date\" datetime=\"2020-03-21T12:06:21+00:00\">2020-03-21</time>\n",
      "<time class=\"entry-date updated td-module-date\" datetime=\"2020-03-21T11:59:38+00:00\">2020-03-21</time>\n",
      "<time class=\"entry-date updated td-module-date\" datetime=\"2020-03-21T11:57:33+00:00\">2020-03-21</time>\n",
      "<time class=\"entry-date updated td-module-date\" datetime=\"2020-03-21T11:54:24+00:00\">2020-03-21</time>\n",
      "<time class=\"entry-date updated td-module-date\" datetime=\"2020-03-21T11:47:01+00:00\">2020-03-21</time>\n",
      "<time class=\"entry-date updated td-module-date\" datetime=\"2020-03-21T11:40:01+00:00\">2020-03-21</time>\n",
      "<time class=\"entry-date updated td-module-date\" datetime=\"2020-03-21T11:15:13+00:00\">2020-03-21</time>\n",
      "<time class=\"entry-date updated td-module-date\" datetime=\"2020-03-21T11:00:06+00:00\">2020-03-21</time>\n",
      "<time class=\"entry-date updated td-module-date\" datetime=\"2020-03-21T10:58:45+00:00\">2020-03-21</time>\n",
      "<time class=\"entry-date updated td-module-date\" datetime=\"2020-03-21T10:48:32+00:00\">2020-03-21</time>\n"
     ]
    }
   ],
   "source": [
    "# html 原始程式碼 --> source code\n",
    "\n",
    "### tag name / class 定位\n",
    "\n",
    "# h3_tags = soup.select(\"h3\")\n",
    "\n",
    "# print(type(h3_tags))\n",
    "# print(h3_tags)\n",
    "\n",
    "# ele = h3_tags[0]\n",
    "# print(ele)\n",
    "\n",
    "\n",
    "# print(soup.select(\"h3\"))\n",
    "# print(soup.select(\"h3 a\"))\n",
    "\n",
    "# print(soup.select(\"div.td-module-meta-info a\"))\n",
    "# print(soup.select(\"div.td-module-meta-info span time\"))\n",
    "# for ele in soup.select(\"div.td-module-meta-info span time\"):\n",
    "#     print(ele)\n",
    "\n",
    "aTags = soup.select(\"div.td-module-meta-info a\")\n",
    "for ele in aTags:\n",
    "    print(ele)\n",
    "    \n",
    "print(\"-\"*80)\n",
    "    \n",
    "# timeTags = soup.select(\"div.td-module-meta-info span time\")\n",
    "timeTags = soup.select(\"div.td-module-meta-info time\")\n",
    "\n",
    "for ele2 in timeTags:\n",
    "    print(ele2)"
   ]
  },
  {
   "cell_type": "code",
   "execution_count": 55,
   "metadata": {},
   "outputs": [
    {
     "name": "stdout",
     "output_type": "stream",
     "text": [
      "[<li class=\"menu-item menu-item-type-post_type menu-item-object-page td-menu-item td-normal-menu menu-item-2895786\" id=\"menu-item-2895786\"><a href=\"https://www.nownews.com/copyright/\">著作權聲明</a></li>]\n",
      "[<li class=\"menu-item menu-item-type-post_type menu-item-object-page menu-item-first td-menu-item td-normal-menu menu-item-2895780\" id=\"menu-item-2895780\"><a href=\"https://www.nownews.com/disclaimer/\">免責聲明</a></li>]\n",
      "----------------------------------------------------------------------------------------------------\n",
      "[<li class=\"menu-item menu-item-type-post_type menu-item-object-page td-menu-item td-normal-menu menu-item-2895786\" id=\"menu-item-2895786\"><a href=\"https://www.nownews.com/copyright/\">著作權聲明</a></li>]\n"
     ]
    }
   ],
   "source": [
    "### id 定位\n",
    "\n",
    "# soup.select(\"div#td_uid_8_5e75a3b094630\")\n",
    "\n",
    "# print(soup.select(\"li#menu-item-2895786\"))\n",
    "print(soup.select(\"#menu-item-2895786\"))\n",
    "print(soup.select(\"li#menu-item-2895780\"))\n",
    "\n",
    "print(\"-\"*100)\n",
    "\n",
    "print(soup.select(\"div.td-container li#menu-item-2895786\"))"
   ]
  },
  {
   "cell_type": "code",
   "execution_count": 120,
   "metadata": {},
   "outputs": [],
   "source": [
    "url = \"https://petsmao.nownews.com/\"\n",
    "res2  = requests.get(url)\n",
    "soup2 = bs(res2.text,\"lxml\")\n",
    "# print(soup2)\n"
   ]
  },
  {
   "cell_type": "code",
   "execution_count": 86,
   "metadata": {
    "scrolled": true
   },
   "outputs": [
    {
     "name": "stdout",
     "output_type": "stream",
     "text": [
      "[<span class=\"item_text\">寵鮮聞</span>, <span class=\"item_text\">狗</span>, <span class=\"item_text\">貓</span>, <span class=\"item_text\">動物奇觀</span>]\n"
     ]
    }
   ],
   "source": [
    "### 屬性值定位\n",
    "\n",
    "# print(soup2.select(\"li.menu-item-type-custom.menu-item-object-custom\"))\n",
    "# print(soup2.select(\"div.eltd-vertical-menu-area-inner li.menu-item-type-custom.menu-item-object-custom\"))\n",
    "# print(soup2.select(\"div.eltd-vertical-menu-area-inner li.menu-item-type-custom.menu-item-object-custom span.item_outer\"))\n",
    "\n",
    "# data-nav-item-type=\"custom\"\n",
    "\n",
    "data = soup2.select(\"li[data-nav-item-type='custom']\")\n",
    "print(data[0].select(\"span.item_text\"))\n",
    "\n",
    "# print(soup2.select(\"a[target='_blank']\"))\n",
    "\n",
    "# print(soup2.select(\"div.eltd-wrapper-inner li span.item_text\"))"
   ]
  },
  {
   "cell_type": "code",
   "execution_count": 109,
   "metadata": {},
   "outputs": [
    {
     "name": "stdout",
     "output_type": "stream",
     "text": [
      "<a href=\"https://www.nownews.com/news/20200321/3996995/\" rel=\"bookmark\" title=\"疫情燒各地鎖國！外交部：延長在台外籍人士30天\">疫情燒各地鎖國！外交部：延長在台外籍人士30天</a>\n",
      "https://www.nownews.com/news/20200321/3996995/\n",
      "疫情燒各地鎖國！外交部：延長在台外籍人士30天\n",
      "['bookmark']\n",
      "<time class=\"entry-date updated td-module-date\" datetime=\"2020-03-21T12:43:18+00:00\">2020-03-21</time>\n",
      "2020-03-21T12:43:18+00:00\n",
      "2020-03-21\n",
      "['entry-date', 'updated', 'td-module-date']\n"
     ]
    }
   ],
   "source": [
    "### 屬性值抓取\n",
    "# data = soup.select(\"div.tdb_module_loop.td_module_wrap.td-animation-stack\")\n",
    "# print(data)\n",
    "# print(len(data))\n",
    "\n",
    "data = soup.select(\"div.td-fix-index div.td-animation-stack\")\n",
    "ele  = data[0]\n",
    "\n",
    "# print(ele)\n",
    "# print(\"-\"*80)\n",
    "aTag = ele.select(\"h3 a\")[0]\n",
    "print(aTag)\n",
    "print(aTag[\"href\"])\n",
    "print(aTag[\"title\"])\n",
    "\n",
    "\n",
    "timeTag = ele.select(\"time\")[0]\n",
    "print(timeTag)\n",
    "print(timeTag[\"datetime\"])\n",
    "print(timeTag.text)\n",
    "print(timeTag[\"class\"])"
   ]
  },
  {
   "cell_type": "code",
   "execution_count": 119,
   "metadata": {},
   "outputs": [],
   "source": [
    "### 動作流程開始\n",
    "import requests\n",
    "from bs4 import BeautifulSoup as bs\n",
    "\n",
    "url = \"https://www.nownews.com/cat/column/\"\n",
    "\n",
    "test = {\n",
    "    \"user-agent\": \"Mozilla/5.0 (Windows NT 10.0; Win64; x64) AppleWebKit/537.36 (KHTML, like Gecko) Chrome/80.0.3987.149 Safari/537.36\"\n",
    "}\n",
    "\n",
    "res = requests.get(url , headers = test )\n",
    "\n",
    "soup = bs(res.text,\"lxml\")\n",
    "\n",
    "# print(soup)\n"
   ]
  },
  {
   "cell_type": "code",
   "execution_count": 118,
   "metadata": {},
   "outputs": [
    {
     "name": "stdout",
     "output_type": "stream",
     "text": [
      "https://www.nownews.com/news/20200321/3997351/\n",
      "https://www.nownews.com/news/20200321/3997322/\n",
      "https://www.nownews.com/news/20200321/3997104/\n",
      "https://www.nownews.com/news/20200321/3997220/\n",
      "https://www.nownews.com/news/20200321/3997248/\n",
      "https://www.nownews.com/news/20200321/3997130/\n",
      "https://www.nownews.com/news/20200321/3997103/\n",
      "https://www.nownews.com/news/20200321/3997090/\n",
      "https://www.nownews.com/news/20200321/3997076/\n",
      "https://www.nownews.com/news/20200321/3997070/\n",
      "https://www.nownews.com/news/20200321/3997113/\n",
      "https://www.nownews.com/news/20200321/3997069/\n",
      "https://www.nownews.com/news/20200321/3997048/\n",
      "https://www.nownews.com/news/20200321/3997122/\n",
      "https://www.nownews.com/news/20200321/3997058/\n",
      "https://www.nownews.com/news/20200321/3997013/\n"
     ]
    }
   ],
   "source": [
    "## 抓取各文章連結\n",
    "\n",
    "data = soup.select(\"div.td-animation-stack\")\n",
    "# print(data[0])\n",
    "\n",
    "links = []\n",
    "\n",
    "for ele in data:\n",
    "    a_tag = ele.select(\"h3 a\")[0]\n",
    "    \n",
    "    url  = a_tag[\"href\"]\n",
    "    \n",
    "    links.append(url)\n",
    "    \n",
    "    # print(a_tag)\n",
    "    # print(a_tag[\"href\"])\n",
    "    \n",
    "for l in links:\n",
    "    print(l)"
   ]
  },
  {
   "cell_type": "code",
   "execution_count": 150,
   "metadata": {},
   "outputs": [
    {
     "name": "stdout",
     "output_type": "stream",
     "text": [
      "https://www.nownews.com/news/20200321/3997351/\n"
     ]
    }
   ],
   "source": [
    "### 取得本文　source code\n",
    "url2 = links[0]\n",
    "print(url2)\n",
    "\n",
    "headers = {\n",
    "    \"user-agent\": \"Mozilla/5.0 (Windows NT 10.0; Win64; x64) AppleWebKit/537.36 (KHTML, like Gecko) Chrome/80.0.3987.149 Safari/537.36\"\n",
    "}\n",
    "\n",
    "res2  = requests.get(url2,headers=headers)\n",
    "soup2 = bs(res2.text,\"lxml\")\n",
    "\n",
    "# print(soup2)"
   ]
  },
  {
   "cell_type": "code",
   "execution_count": 149,
   "metadata": {},
   "outputs": [
    {
     "name": "stdout",
     "output_type": "stream",
     "text": [
      "category: NOWnews > 武漢肺炎\n",
      "title: 囤積上萬片口罩網路兜售高價賣　桃婦女15萬元交保\n",
      "time: 2020-03-21 15:35:26\n",
      "url: https://www.nownews.com/news/20200321/3997351/\n",
      "content: 趁武漢肺炎疫情發燒大賺不義之財！桃園邱姓婦人(54歲)透過臉書社團高價販售口罩，桃園地檢署日前獲報後，指派民生專組檢察官黃冠中偵辦，於20日指揮基隆市警局、桃園市警局大溪分局，並會同市府衛生局，持搜索票前往邱女大溪住處，當場查扣一萬多片的口罩。檢方指出，經查邱女自109年3月初起在網路臉書社團販售口罩，並宣稱販售的是醫療用口罩，以每50片900元的價格販售，顯然高於目前市價﹔訊後，邱女涉犯嚴重特殊傳染性肺炎防治及紓困振興特別條例第12條哄抬防疫物資價格罪，犯罪嫌疑重大，唯無羈押必要性，諭知以15萬元交保。桃園地檢署提醒，目前市場上民生物資充沛，並無匱乏之虞，民眾勿須囤積搶購物品，若有哄抬價格或無正當理由囤積而不應市銷售者，依法可處5年以下有期徒刑，得併科新台幣500萬元以下罰金；另外，對於其他有意圖抬高交易價格，囤積糧食、農產品或其他民生必需的飲食物品，或以強暴、脅迫妨害前開貨品販運，或有意圖影響前開貨品交易價格，而散布不實資訊等，依刑法、傳染病防治法等規定，均屬違法行為，呼籲民眾不要以身試法。※【NOWnews 今日新聞】提醒您：因應武漢肺炎疫情，疾管署持續加強疫情監測與邊境管制措施，國外入境後如有發燒、咳嗽等不適症狀，請撥打「1922」專線，或「0800-001922」，並依指示配戴口罩儘速就醫，同時主動告知醫師旅遊史及接觸史，以利及時診斷及通報。\n",
      "{'category': 'NOWnews > 武漢肺炎', 'title': '囤積上萬片口罩網路兜售高價賣\\u3000桃婦女15萬元交保', 'time': '2020-03-21 15:35:26', 'url': 'https://www.nownews.com/news/20200321/3997351/', 'content': '趁武漢肺炎疫情發燒大賺不義之財！桃園邱姓婦人(54歲)透過臉書社團高價販售口罩，桃園地檢署日前獲報後，指派民生專組檢察官黃冠中偵辦，於20日指揮基隆市警局、桃園市警局大溪分局，並會同市府衛生局，持搜索票前往邱女大溪住處，當場查扣一萬多片的口罩。檢方指出，經查邱女自109年3月初起在網路臉書社團販售口罩，並宣稱販售的是醫療用口罩，以每50片900元的價格販售，顯然高於目前市價﹔訊後，邱女涉犯嚴重特殊傳染性肺炎防治及紓困振興特別條例第12條哄抬防疫物資價格罪，犯罪嫌疑重大，唯無羈押必要性，諭知以15萬元交保。桃園地檢署提醒，目前市場上民生物資充沛，並無匱乏之虞，民眾勿須囤積搶購物品，若有哄抬價格或無正當理由囤積而不應市銷售者，依法可處5年以下有期徒刑，得併科新台幣500萬元以下罰金；另外，對於其他有意圖抬高交易價格，囤積糧食、農產品或其他民生必需的飲食物品，或以強暴、脅迫妨害前開貨品販運，或有意圖影響前開貨品交易價格，而散布不實資訊等，依刑法、傳染病防治法等規定，均屬違法行為，呼籲民眾不要以身試法。※【NOWnews 今日新聞】提醒您：因應武漢肺炎疫情，疾管署持續加強疫情監測與邊境管制措施，國外入境後如有發燒、咳嗽等不適症狀，請撥打「1922」專線，或「0800-001922」，並依指示配戴口罩儘速就醫，同時主動告知醫師旅遊史及接觸史，以利及時診斷及通報。'}\n"
     ]
    }
   ],
   "source": [
    "### 解析頁面資料\n",
    "# category \n",
    "category = soup2.select(\"div.td-crumb-container div.entry-crumbs\")[0].text.replace(\"  \",\" > \")\n",
    "print(\"category:\",category)\n",
    "\n",
    "# title \n",
    "title = soup2.select(\"header h1.entry-title\")[0].text\n",
    "print(\"title:\",title)\n",
    "\n",
    "# time  = soup2.select(\"header time\")\n",
    "time  = soup2.select(\"header div.td-module-meta-info time\")[0].text\n",
    "print(\"time:\",time)\n",
    "\n",
    "# url \n",
    "print(\"url:\",url2)\n",
    "\n",
    "# content \n",
    "content = \"\"\n",
    "p_tags = soup2.select(\"div.td-post-content span[itemprop='articleBody'] p\")\n",
    "\n",
    "for ele in p_tags:\n",
    "    # print(ele.text)\n",
    "    content += ele.text\n",
    "    \n",
    "print(\"content:\",content)\n",
    "\n",
    "data = {\n",
    "    \"category\" : category , \n",
    "    \"title\"    : title , \n",
    "    \"time\"     : time  ,\n",
    "    \"url\"      : url2 ,\n",
    "    \"content\"  : content\n",
    "}\n",
    "\n",
    "print(data)\n",
    "\n"
   ]
  },
  {
   "cell_type": "code",
   "execution_count": 165,
   "metadata": {},
   "outputs": [
    {
     "name": "stdout",
     "output_type": "stream",
     "text": [
      "Done.\n"
     ]
    }
   ],
   "source": [
    "### 合成 function & main \n",
    "\n",
    "import time\n",
    "\n",
    "def parsing_data(soup,url):\n",
    "    \n",
    "    # category\n",
    "    category = soup.select(\"div.td-crumb-container div.entry-crumbs\")[0].text.replace(\"  \",\" > \")\n",
    "\n",
    "    # title \n",
    "    title = soup.select(\"header h1.entry-title\")[0].text\n",
    "\n",
    "    # time  \n",
    "    time  = soup.select(\"header div.td-module-meta-info time\")[0].text\n",
    "\n",
    "    # url \n",
    "\n",
    "    # content \n",
    "    content = \"\"\n",
    "    p_tags  = soup.select(\"div.td-post-content span[itemprop='articleBody'] p\")\n",
    "\n",
    "    for ele in p_tags:\n",
    "        content += ele.text\n",
    "\n",
    "    data = {\n",
    "        \"category\" : category , \n",
    "        \"title\"    : title , \n",
    "        \"time\"     : time  ,\n",
    "        \"url\"      : url ,\n",
    "        \"content\"  : content\n",
    "    }\n",
    "    \n",
    "    return data\n",
    "\n",
    "\n",
    "def get_page_source_code(url):\n",
    "    \n",
    "    headers = {\n",
    "        \"user-agent\": \"Mozilla/5.0 (Windows NT 10.0; Win64; x64) AppleWebKit/537.36 (KHTML, like Gecko) Chrome/80.0.3987.149 Safari/537.36\"\n",
    "    }\n",
    "\n",
    "    res  = requests.get(url,headers=headers)\n",
    "    soup = bs(res.text,\"lxml\")\n",
    "    \n",
    "    return soup \n",
    "\n",
    "### main \n",
    "# url  = links[1]\n",
    "\n",
    "# soup = get_page_source_code(url)\n",
    "\n",
    "# data = parsing_data(soup,url)\n",
    "\n",
    "# print(data)\n",
    "\n",
    "dataList = []\n",
    "\n",
    "for url in links:\n",
    "    \n",
    "    soup = get_page_source_code(url)\n",
    "    \n",
    "    time.sleep(0.8)\n",
    "    \n",
    "    data = parsing_data(soup,url)\n",
    "    \n",
    "    dataList.append(data)\n",
    "\n",
    "print(\"Done.\")"
   ]
  },
  {
   "cell_type": "code",
   "execution_count": 166,
   "metadata": {},
   "outputs": [
    {
     "data": {
      "text/plain": [
       "[{'category': 'NOWnews > 武漢肺炎',\n",
       "  'title': '囤積上萬片口罩網路兜售高價賣\\u3000桃婦女15萬元交保',\n",
       "  'time': '2020-03-21 15:35:26',\n",
       "  'url': 'https://www.nownews.com/news/20200321/3997351/',\n",
       "  'content': '趁武漢肺炎疫情發燒大賺不義之財！桃園邱姓婦人(54歲)透過臉書社團高價販售口罩，桃園地檢署日前獲報後，指派民生專組檢察官黃冠中偵辦，於20日指揮基隆市警局、桃園市警局大溪分局，並會同市府衛生局，持搜索票前往邱女大溪住處，當場查扣一萬多片的口罩。檢方指出，經查邱女自109年3月初起在網路臉書社團販售口罩，並宣稱販售的是醫療用口罩，以每50片900元的價格販售，顯然高於目前市價﹔訊後，邱女涉犯嚴重特殊傳染性肺炎防治及紓困振興特別條例第12條哄抬防疫物資價格罪，犯罪嫌疑重大，唯無羈押必要性，諭知以15萬元交保。桃園地檢署提醒，目前市場上民生物資充沛，並無匱乏之虞，民眾勿須囤積搶購物品，若有哄抬價格或無正當理由囤積而不應市銷售者，依法可處5年以下有期徒刑，得併科新台幣500萬元以下罰金；另外，對於其他有意圖抬高交易價格，囤積糧食、農產品或其他民生必需的飲食物品，或以強暴、脅迫妨害前開貨品販運，或有意圖影響前開貨品交易價格，而散布不實資訊等，依刑法、傳染病防治法等規定，均屬違法行為，呼籲民眾不要以身試法。※【NOWnews 今日新聞】提醒您：因應武漢肺炎疫情，疾管署持續加強疫情監測與邊境管制措施，國外入境後如有發燒、咳嗽等不適症狀，請撥打「1922」專線，或「0800-001922」，並依指示配戴口罩儘速就醫，同時主動告知醫師旅遊史及接觸史，以利及時診斷及通報。'},\n",
       " {'category': 'NOWnews > 武漢肺炎',\n",
       "  'title': '防醫院塞滿疑似病例！指揮中心：輕症一採即可居家檢疫',\n",
       "  'time': '2020-03-21 15:26:15',\n",
       "  'url': 'https://www.nownews.com/news/20200321/3997322/',\n",
       "  'content': '為因應武漢肺炎在全球延燒，目前所有自國外入境者只要有症狀，都會被列為疑似個案，需住院採檢。對此，中央流行疫情指揮中心今（21）日宣布，為減緩醫院負擔，今起輕症者只要一採就能回家居家檢疫。中央流行疫情指揮中心社區防疫組副組長莊人祥今日表示，根據原本政策，所有入境者都須居家檢疫，且有症狀都需住院採檢並隔離，經二次採檢為陰性才能返家進行居家檢疫；不過，近日由於全球疫情發展，入境者為數眾多，如果沒有因此改變疑似案例通報條件，將使得醫院門診爆滿。莊人祥指出，日前經專家會議協調後，輕症者若經個案與醫生同意，同住者也非老年、有慢性病、有心血管疾病等重症危險群，且有獨立的分隔空間居住，生活起居也有人照顧，則可以在醫院門診採檢一次就出院，返家或到特定場所進行居家檢疫，如果後續輕微症狀仍持續，就須返回醫院進行二採。'},\n",
       " {'category': 'NOWnews > 娛樂',\n",
       "  'title': '傳60台人留秘魯：要繼續玩！張雅琴氣暈：當專機是小黃嗎',\n",
       "  'time': '2020-03-21 15:24:59',\n",
       "  'url': 'https://www.nownews.com/news/20200321/3997104/',\n",
       "  'content': '全球陷入肺炎疫情危機，國內昨（20）日一天暴增27例確診個案，創下單日新高，當中24例為境外移入，今日稍早再度公布18人確診，且全是因為旅遊或就學在國外感染。對於傳出至今仍有台人執意走完國外遊玩行程，「戰神主播」張雅琴氣到在節目現場開轟。張雅琴昨在《1800年代晚報》提及秘魯近日有132名台人已經搭機離境，但還是有60人堅持要「留下來繼續玩」，這讓張雅琴感到不可思議，直接開罵：「我真的忍不住要講，你有沒有搞錯啊！你要繼續留下來玩，那你是說把你的行程都玩到飽之後，你到時候再call一下外交部說『欸給我派個專機』，是這樣子嗎？我希望不要！」對於這些堅持玩樂的旅客，張雅琴氣到撂話：「你有本事留下來玩，你自己想辦法回來！這樣真的很糟糕耶，外交部的專機又不是計程車，又不是隨叫隨到，你是在哈囉嗎？你是在哈囉嗎？到底你那60人是要玩啥？」網友也紛紛表示：「頭腦用來幹嘛的？用來思考的好嗎？請聽防疫中心的話」、「拜託台灣再強制，限制多一點，既然是出去玩就不要救援他們」、「那些故意出國覺得是有心人在故意搞，政府都說了不要出國還要出國，有擔（膽）去就不要回來」！（編輯：楊穎軒）※【NOWnews 今日新聞】提醒您：因應武漢肺炎疫情，疾管署持續加強疫情監測與邊境管制措施，國外入境後如有發燒、咳嗽等不適症狀，請撥打「1922」專線，或「0800-001922」，並依指示配戴口罩儘速就醫，同時主動告知醫師旅遊史及接觸史，以利及時診斷及通報。'},\n",
       " {'category': 'NOWnews > 武漢肺炎',\n",
       "  'title': '台灣又爆18例！案143、144「發病時間軸」曝光\\u3000眾人戰翻',\n",
       "  'time': '2020-03-21 15:20:40',\n",
       "  'url': 'https://www.nownews.com/news/20200321/3997220/',\n",
       "  'content': '新冠肺炎（ COVID-19 ）疫情延燒，中央流行疫情指揮中心今（ 21 ）日公布國內新增 18 例確診病例，均為境外移入。消息曝光之後，有網友立刻將衛福部公布的案 136 至案 153 資訊轉貼至 PTT 「 nCoV2019 」看板，其中案 143、144 為捷克返台的夫妻倆，其背景和發病時間軸曝光，卻意外掀起全場論戰。中央流行疫情指揮中心記者會，今下午再宣布台灣新增 18 例新冠肺炎的確診，為 12 女 6 男，年齡 20 多歲至 70 多歲，入境時間介於 3 月 8 日至 19 日，發病時間介於 3 月 6 日至 19 日，而這 18 起個案發病前，分別有土耳其、美國、法國、英國、埃及、捷克、南非、印尼等國活動史。有網友立刻轉貼台灣的疫情消息至 PTT ，根據衛福部公布的境外移入個案資料顯示，其中案 143、144 為一對夫妻，兩人長住捷克，為案 77 境外移入個案的親人，並曾於 3 月 7 日至 14 日間與案 77 從捷克赴美國探親，案 77 、案 143 同於 3 月 14 日發病，案 144 則於 3 月 6 日發病，案 143、144 兩人最終於 3 月 19 日返國，入境時由機場採檢送驗，於今日確診。不過，網友們卻紛紛質疑「長住捷克的，有事跑回台，嘖嘖」、「長住捷克還特地回來啊」、「幫 144 同機鄰座乘客祈禱」、「長住捷克，沒回台前就發病，卻硬要回台」、「就知道自己中了，回來用健保啊？」「發病了上飛機是想害誰」、「很自私，明明發病了還上飛機」、「應該類比武漢，有症狀不能回來」；也有人緩頰表示「附件有寫因工作長住捷克」、「上班留學的沒辦法，境內目前還算 OK 」、「因工作住捷克，獵巫的可以停了嗎？」（編輯：賴詠璿）※【NOWnews 今日新聞】提醒您：因應武漢肺炎疫情，疾管署持續加強疫情監測與邊境管制措施，國外入境後如有發燒、咳嗽等不適症狀，請撥打「1922」專線，或「0800-001922」，並依指示配戴口罩儘速就醫，同時主動告知醫師旅遊史及接觸史，以利及時診斷及通報。'},\n",
       " {'category': 'NOWnews > 政治',\n",
       "  'title': '打臉吳斯懷！國防部：共軍繞台「就是挑釁」',\n",
       "  'time': '2020-03-21 15:16:00',\n",
       "  'url': 'https://www.nownews.com/news/20200321/3997248/',\n",
       "  'content': '新冠肺炎疫情爆發以來，中國大陸方面仍持續對台海進行施壓，從今年初至今，解放軍的軍機已經繞經台灣周邊空域四次，但國民黨立委吳斯懷卻認為解放軍「並沒有在挑釁」，還希望國防部不要誤導。對此國防部今(21)日發文，強調保家衛國的立場，指出共軍軍機絕非僅「繞經或無害通過」週邊海、空域，都是「挑釁」、「威脅」的具體事證。針對吳斯懷認為不論美軍或共機經（繞）過台灣周邊空域，法理上並不能算是對我國有顯著的挑釁意味，希望國防部不要誤導，國防部強調中共迄今仍未放棄武力犯台，且刻意單方面破壞臺海現狀，嚴重衝擊區域安全與和平穩定。尤其去年3月31日共機蓄意踰越海峽中線，打破兩岸默契，加之今年初迄今，中共不顧其內部疫情嚴重，竟於我周邊海空域進行四次「針對性」訓練，絕非僅「繞經或無害通過」週邊海、空域，都是「挑釁」、「威脅」的具體事證，本部以負責任的態度，係就事實陳述，絕無誤導情事。國防部表示國軍基於職責，盱衡敵情威脅，秉持確保國家安全、國防安全，維護區域和平穩定，強調「有實力才有安全」，國軍勤訓精練、戮力戰訓本務，強調國軍絕對有信心，有實力守護家園。'},\n",
       " {'category': 'NOWnews > 運動 > NBA',\n",
       "  'title': 'NBA／楊恩在家戴口罩曬身材\\u3000網友虧：你腹肌像微軟Logo',\n",
       "  'time': '2020-03-21 15:06:11',\n",
       "  'url': 'https://www.nownews.com/news/20200321/3997130/',\n",
       "  'content': '受到武漢肺炎疫情影響，NBA球員沒有比賽可打，並且還得在家隔離，亞特蘭大老鷹球星Trae Young(楊恩)繼洗衣籃三分球之後，今天在推特貼出新動態，不但戴上口罩還大曬六塊肌好身材，自稱「口罩Trae」。❄️ M A S K E D   T R A E ❄️ #QuarantineWork pic.twitter.com/MYrZ9fqMyl— Trae Young (@TheTraeYoung) March 21, 2020楊恩貼文引來上萬網友關注，包括確診武漢肺炎的爵士球星Donovan Mitchell也留言虧他：「你為什麼不好好坐下來，然後看你的Netflix？」楊恩回覆表示：「因為我已經覺得無聊了。」也有網友對楊恩的腹肌大開玩笑，有網友留言說：「這傢伙對自己的腹肌使出交叉步了。」還有人留言：「你的腹肌看起來像是微軟的舊Logo。」NBA二年級生的楊恩，本季繳出全明星等級的成績，他場均29.6分、4.3籃板、9.3助攻，只可惜他在老鷹孤掌難鳴，戰績20勝47敗，在東區倒數第二。\\xa0'},\n",
       " {'category': 'NOWnews > 武漢肺炎',\n",
       "  'title': '近期確診個案年輕化？陳時中反駁：就流行病學來看沒變化',\n",
       "  'time': '2020-03-21 15:04:42',\n",
       "  'url': 'https://www.nownews.com/news/20200321/3997103/',\n",
       "  'content': '中央流行疫情指揮中心今（21）日公布國內新增18例COVID-19（武漢肺炎）病例，均為境外移入，為12女6男，年齡20多歲至70多歲，入境日介於3月8日至19日，發病日介於3月6日至19日。其中，個案大多為年輕人，引起外界對疫情年輕化的擔憂。對此，中央流行疫情指揮中心指揮官陳時中解釋，這是因為近期確診個案以在機場攔截到的留學生居多，因此看起來確診個案年輕化，但事實上就流行病學來看，並沒有出現變化。指揮中心表示，今日新增個案中，案140埃及旅遊團團員，原列為接觸者，居家隔離期間於3月18日發病，經安排就醫及採檢通報，於今日確診；該旅遊團群聚截至目前共7人確診（6名團員、1名接觸者）。案143、144為一對夫妻，長住捷克，且為案77境外移入個案親人，曾於3月7日至14日間與案77自捷克赴美國探親，案77案143於3月14日發病，案144則於3月6日發病，兩人於3月19日返國入境時由機場採檢送驗，於今日確診。案148於1月24日至3月15日至美國就學，返國時與案85搭乘同班機，並列為案85接觸者，3月18日發病，經採檢通報於今日確診。案150為案133家人，1月14日至3月14日至英國就學，3月14日與案133一同返國，3月19日發病，經檢驗於今日確診。案150雖列為案133接觸者，但其返台後活動史單純，研判於英國感染的可能性較高，為境外移入。指揮中心說明，其餘13例境外移入病例均為獨立個案，出國目的多以就學、旅遊為主，部分為工作。近期新增案例有年輕化的趨勢，陳時中解釋，這並不代表目前不是國內疫情逐漸年輕化，而是因為現在有許多在國外就學的留學生返台，又在機場攔截比較多，這些留學生的年紀比較年輕，因此才會有確診案例逐漸年輕化的感覺。陳時中也強調，目前就流行病學來看，在國內疫情的年紀分布，並沒有因近期情況而改變。'},\n",
       " {'category': 'NOWnews > 武漢肺炎',\n",
       "  'title': '今新增18例境外移入！國內共累計153確診\\u300028人解除隔離',\n",
       "  'time': '2020-03-21 14:48:55',\n",
       "  'url': 'https://www.nownews.com/news/20200321/3997090/',\n",
       "  'content': '中央流行疫情指揮中心今(21)日表示，昨(20)日國內新增1,387例新型冠狀病毒肺炎相關通報，截至目前累計2萬2743例（含2萬910例排除），其中153例確診（今日新增案136至153），分別為120例境外移入及33例本土病例；確診個案中2人死亡，28人解除隔離、其餘個案病況穩定，持續住院隔離中；第2批武漢包機返台361人中，2名後送者均已退燒且二採陰性，於醫院治療中；其餘健康情形良好，持續密切健康監測。今日公布國內新增18例COVID-19(武漢肺炎)病例，均為境外移入。指揮中心指出，共為12女6男，年齡20多歲至70多歲，入境日介於3月8日至19日，發病日介於3月6日至19日；個案發病前分別有土耳其、美國、法國、英國、埃及、捷克、南非、印尼等國活動史。指揮中心表示，今日新增個案中，案140埃及旅遊團團員，原列為接觸者，居家隔離期間於3月18日發病，經安排就醫及採檢通報，於今日確診；該旅遊團群聚截至目前共7人確診(6名團員、1名接觸者)。案143、144為一對夫妻，長住捷克，且為案77境外移入個案親人，曾於3月7日至14日間與案77自捷克赴美國探親，案77案143於3月14日發病，案144則於3月6日發病，兩人於3月19日返國入境時由機場採檢送驗，於今日確診。案148於1月24日至3月15日至美國就學，返國時與案85搭乘同班機，並列為案85接觸者，3月18日發病，經採檢通報於今日確診。案150為案133家人，1月14日至3月14日至英國就學，3月14日與案133一同返國，3月19日發病，經檢驗於今日確診。案150雖列為案133接觸者，但其返台後活動史單純，研判於英國感染的可能性較高，為境外移入。指揮中心表示，其餘13例境外移入病例均為獨立個案，出國目的多以就學、旅遊為主，部分為工作，詳情請參閱新聞稿附件。在全球疫情方面，指揮中心指出，全球累計26萬3681例確診，分布於162個國家／地區；病例數以中國大陸8萬1008例、義大利4萬7021例、西班牙1萬9980例、伊朗1萬9644例及美國1萬8563例為多；病例中1萬1182例死亡，以義大利4032例、中國大陸3255例、伊朗1433例、西班牙1002例及法國450例為多。指揮中心再次提醒，民眾應落實手部衛生並做好咳嗽禮節。自國外入境時，如有發燒、咳嗽等不適症狀，應主動通報機場及港口檢疫人員並配合防疫措施；返國後14天內如出現疑似症狀，可撥打免付費防疫專線1922(或0800-001922)依指示戴口罩儘速就醫，並請務必告知醫師旅遊史、職業別、接觸史及是否群聚(TOCC)，以及時診斷通報。'},\n",
       " {'category': 'NOWnews > 武漢肺炎',\n",
       "  'title': '快訊／新增18例境外移入！多為留學生、外國旅遊者',\n",
       "  'time': '2020-03-21 14:43:38',\n",
       "  'url': 'https://www.nownews.com/news/20200321/3997076/',\n",
       "  'content': '中央流行疫情指揮中心今(21)日公布國內新增18例COVID-19(武漢肺炎)病例，均為境外移入，為12女6男，年齡20多歲至70多歲，入境日介於3月8日至19日，發病日介於3月6日至19日。個案發病前分別有土耳其、美國、法國、英國、埃及、捷克、南非、印尼等國活動史。'},\n",
       " {'category': 'NOWnews > 娛樂',\n",
       "  'title': '疫情升溫演唱會急凍\\u3000他們線上點播送暖撫人心',\n",
       "  'time': '2020-03-21 14:39:21',\n",
       "  'url': 'https://www.nownews.com/news/20200321/3997070/',\n",
       "  'content': '武漢肺炎擴散全球，勤洗手、戴口罩成為全民運動，為避免人群接觸傳染，台灣的大型活動紛紛取消、延期，首當其衝受到波及的不外乎原本要舉辦演唱會的歌手，3月分別要在台北小巨蛋、高雄巨蛋開唱的光良、5566眼看疫情嚴峻，也隨即發布演唱會取消，其中光良改以線上音樂會方式，彌補歌迷的遺憾。光良原本要在今年的白色情人節，也就是3月14日與歌迷在台北小巨蛋相會，歌單、演唱會內容安排都已完成，可眼看疫情越來越嚴重，在2月底無奈與主辦單位一同宣布演唱會延期，損失初估至少上百萬，他樂觀地安慰歌迷：「就像現在下雨，我們等雨停再出去玩 ，是同樣的道理呀！」而到了原本要辦演唱會的當天，起初只透露要與歌迷直播的光良，驚喜辦起了線上音樂會，更開放讓歌迷點歌，除了補足歌迷因為演唱會取消的遺憾，也順勢安撫了粉絲的心，雖然歌迷無法與心心念念的偶像見面，但有了點歌的互動安排，反而在無形中拉近了人與人之間的距離，就連李心潔都現身點歌，歌迷的興奮之情絕對不亞於到現場觀賞。314小巨蛋延期，依然在這裡陪你們過白色情人節Posted by 光良 Michael Wong on Friday, March 13, 2020線上音樂會在防疫非常時期意外成為良好的「補償」方式，不僅是歌迷，所有能看到直播的人，都能與藝人互動，藝人多了曝光，網友們能聽到想聽的歌曲，在必須減少與人接觸的狀況下，創造了雙贏局面。至於同樣取消演唱會的5566，首次攻雄蛋卻只能喊暫停，他們選擇與大家共體時艱，也承諾如果演唱會有新計畫，一定會第一時間告訴等待的粉絲，歌迷在演唱會主辦單位臉書留言絕對不會退票，就算延期也一定會到場支持。而沒了演唱會不要緊，5566與咻比嘟嘩號召12組已經解散、改組的團體獻唱防疫歌曲〈同一個氣息〉，在這個寒冬時刻為恐慌、紛擾的心，透過音樂傳遞溫暖，鐵粉們聽到防疫歌曲後，也紛紛在底下留言祈禱疫情快過去，同時坐等高雄演唱會重新舉行，還有人高喊：「56不能亡！」'},\n",
       " {'category': 'NOWnews > 娛樂',\n",
       "  'title': '「毀滅者德克斯」常嚇哭小女孩！9歲的她不怕還開嗆',\n",
       "  'time': '2020-03-21 14:34:41',\n",
       "  'url': 'https://www.nownews.com/news/20200321/3997113/',\n",
       "  'content': '《復仇者聯盟》系列中的「毀滅者德克斯」戴夫巴帝斯塔，由摔角冠軍轉戰好萊塢受到極大矚目，他雖是地表最強硬漢，卻有一顆溫柔心，正當疫情全球肆虐並引起民眾恐慌之際，他特地在推特上喊話：「大家都要小心、謹慎，並要有同理心，盡可能幫助身邊的人，不要刻意囤積物資。」不過他主演的電影《特務行不行》，並沒有因為疫情延期上映，而他在片中的呆萌喜趣也一一曝光，尤其是與小女孩對戲的尷尬。事實上，當聽聞與他對戲的角色設定，要從小男孩改成小女孩時，戴夫巴帝斯塔笑著說：「要找到能不被我嚇哭的小女孩，不容易吧？！」直到遇見克蘿伊寇爾曼（Chloe Coleman）這個9歲小女孩。▲▼戴夫巴帝斯塔（右）在新片展現呆萌喜趣。（圖／CATCHPLAY）\\n導演表示，她一來就主動找巴帝斯塔攀談，問他：「心情不好的時候你都做什麼？我都吃草莓冰淇淋喔，我猜你喜歡巧克力口味！」這段話讓巴帝斯塔一下子愣住，三秒鐘後才用極溫柔的語氣回答：「猜對了，我喜歡巧克力。」巴帝斯塔事後表示：「這女孩居然敢嗆我！但她實在太可愛了，我就是拿她沒轍！」而目睹這一切的導演掩不住內心喜悅說：「跟電影中一樣，克蘿伊真的不怕他！」※【NOWnews 今日新聞】提醒您：因應武漢肺炎疫情，疾管署持續加強疫情監測與邊境管制措施，國外入境後如有發燒、咳嗽等不適症狀，請撥打「1922」專線，或「0800-001922」，並依指示配戴口罩儘速就醫，同時主動告知醫師旅遊史及接觸史，以利及時診斷及通報。'},\n",
       " {'category': 'NOWnews > 健康',\n",
       "  'title': '8至18日自美、東亞入境有症狀者\\u30003千人將居家檢疫並採檢',\n",
       "  'time': '2020-03-21 14:27:10',\n",
       "  'url': 'https://www.nownews.com/news/20200321/3997069/',\n",
       "  'content': '中央流行疫情指揮中心今(21)日表示，因近期國內境外移入個案數攀升，將往回追溯3月8日至18日間，自美國、東亞國家入境後曾就醫者約3,000筆，通知即刻起居家檢疫，並進行 COVID-19(武漢肺炎)病毒檢驗。指揮中心進一步表示，已主動勾稽健保系統，調查這段期間自上述國家返國後曾就醫，並有上呼吸道症狀者，將透過簡訊通知該民眾即刻配合居家檢疫，同時主動聯繫地方衛生局或1922防疫專線，安排相關採檢措施；若民眾入境後曾就醫，但尚未收到簡訊，亦請主動聯絡當地衛生局及配合相關措施。'},\n",
       " {'category': 'NOWnews > 健康',\n",
       "  'title': '直播／疫情延燒引發採購潮\\u3000指揮中心說明最新情況',\n",
       "  'time': '2020-03-21 14:25:49',\n",
       "  'url': 'https://www.nownews.com/news/20200321/3997048/',\n",
       "  'content': '武漢肺炎疫情持續延燒，引發各大量販店掀起搶購潮，民眾紛紛擠進各大量販通路搶購衛生紙等民生物品。對此，中央流行疫情指揮中心今（21）下午14時召開記者會，說明最新防疫狀況。現場情況如何，就讓《NOWnews今日新聞》直播帶大家了解。武漢肺炎近日在台確診案例陡升，加深國人緊張，引發民生物資搶購潮。對此，經濟部特別拍攝影片強調，衛生紙是24小時全天候生產，且原料充足，足夠國人「擦屁股300年」；泡麵廠商也將產能拉到中元普渡時的水準，另罐頭也還有3個月的存量，因此不用擔心物資不足。※【NOWnews 今日新聞】提醒您：因應武漢肺炎疫情，疾管署持續加強疫情監測與邊境管制措施，國外入境後如有發燒、咳嗽等不適症狀，請撥打「1922」專線，或「0800-001922」，並依指示配戴口罩儘速就醫，同時主動告知醫師旅遊史及接觸史，以利及時診斷及通報。'},\n",
       " {'category': 'NOWnews > 國際',\n",
       "  'title': '歐亞疫情都在燒！新加坡傳首死\\u3000泰國暴增89例單日最高',\n",
       "  'time': '2020-03-21 14:20:54',\n",
       "  'url': 'https://www.nownews.com/news/20200321/3997122/',\n",
       "  'content': '武漢肺炎疫情蔓延全球，正當歐洲水深火熱之際，亞洲的疫情也暫時不容樂觀。泰國在今天（ 21 日）宣布新增 89 起確診病例，為單日最高；新加坡也首度出現武漢肺炎的死亡病例。根據《路透社》報導，泰國在 21 日通報，該國在 1 天內新增 89 起確診病例，創下該國單日新增最多的紀錄，使得目前泰國的確診總人數來到 411 人。報導並引述泰國公共衛生部發言人 Taweesin Wisanuyothin 的說法，這些新增案例除了與當地 1 場拳擊賽有關外，還涉及日前在馬來西亞從事的 1 場宗教活動，以及當地 1 處娛樂場所的群聚感染。截至發稿時間為止，泰國的病患中仍有 366 人在接受治療， 1 人不幸身亡，另有 44 例已康復。此外，新加坡也首見死亡病例， 1 名 75 歲的新加坡籍女性和 1 名 64 歲的印尼籍男性，不幸死於武漢肺炎。根據《海峽時報》引述星國衛生部長甘金勇的說法， 75 歲的女死者本身患有心臟病和高血壓，於 2 月 23 日因肺炎入住新加坡國家傳染病中心（ NCID ），並於同天確診；接下來的 20 多天，該名死者一直在重症加護病房，並出現了嚴重的併發症，最後於 3 月 21 日早上 7 點多死亡。至於 64 歲的印尼籍男死者，則是於 3 月 13 日飛抵新加坡的同天被送入 NCID ，並在重症病房接受照護，在那之前曾因肺炎在印尼住院，而且他本身也有心臟病史。截至發稿時間為止，新加坡已有 385 例武漢肺炎確診。Singapore reports first two Covid-19 deaths: a 75-year-old Singaporean woman and 64-year old Indonesian man https://t.co/927Vv7Fvt8— The Straits Times (@STcom) March 21, 2020 ※【NOWnews 今日新聞】提醒您：因應武漢肺炎疫情，疾管署持續加強疫情監測與邊境管制措施，國外入境後如有發燒、咳嗽等不適症狀，請撥打「1922」專線，或「0800-001922」，並依指示配戴口罩儘速就醫，同時主動告知醫師旅遊史及接觸史，以利及時診斷及通報。'},\n",
       " {'category': 'NOWnews > 國際',\n",
       "  'title': '英國宣布酒吧禁止營業\\u3000民眾上街狂歡：把握「最後一夜」',\n",
       "  'time': '2020-03-21 13:58:22',\n",
       "  'url': 'https://www.nownews.com/news/20200321/3997058/',\n",
       "  'content': '武漢肺炎（COVID-19）全球大流行，英國倫敦的確診病例節節上升，英相強森（Borris Johnson）雖然否認會封城，但也持續加強社會管制力道，繼學校停課後，昨（20）日又宣布酒吧、夜店、咖啡廳等店必須暫停營業，只提供外帶服務。然而，就在禁令宣布之後，許多英國民眾上街把握營業的「最後一晚」，讓外界傻眼。強森在記者會上，要求酒吧、夜店、咖啡廳等店明天起暫停營業，「今晚也應盡快關閉」，但就是這盡快關閉的說法，反而刺激許多英國民眾上街，把握「自由」的最後一晚狂歡。許多酒吧都能夠看見大批人潮，且依然沒有人戴口罩。《鏡報》評論表示，儘管政府不斷懇求人民待在家裡，但看起來還是許多民眾不願改變他們的社交習慣。許多憤怒的英國網友紛紛留言回覆說，「讓人震驚，酒吧擠滿了人，這是如此的危險與不負責任」、「那些人大概是缺乏腦細胞，但我相信強森拿他們沒辦法，因為他自己也沒有腦子」、「看到這樣的畫面讓我對社會很失望」。針對酒吧暫時關閉的措施，強森宣布政府最多將提供受影響員工的 80％ 薪資，確保不會有人遭到解雇。如果企業想申請這筆補助，便不能將員工解雇。（編輯：倪浩軒）※【NOWnews 今日新聞】提醒您：因應武漢肺炎疫情，疾管署持續加強疫情監測與邊境管制措施，國外入境後如有發燒、咳嗽等不適症狀，請撥打「1922」專線，或「0800-001922」，並依指示配戴口罩儘速就醫，同時主動告知醫師旅遊史及接觸史，以利及時診斷及通報。'},\n",
       " {'category': 'NOWnews > 娛樂',\n",
       "  'title': '老母嚇問「怎麼連趙少康都敢嗆」\\u3000女醫神回覆千人推爆',\n",
       "  'time': '2020-03-21 13:52:12',\n",
       "  'url': 'https://www.nownews.com/news/20200321/3997013/',\n",
       "  'content': '資深媒體人趙少康不滿疫情中心呼籲我國留學生不要返台，18日在節目現場拍桌大罵「什麼政府嘛」，眼科醫師黃宥嘉聞訊在臉書反嗆「這世界又不是拍桌子的人就厲害」、「是因為活得比較久，比較有智慧對嗎」，黃宥嘉母親事後傳訊問女兒「怎麼連趙少康都敢嗆」，對此，黃宥嘉妙回：「我又不是藍營的！」黃宥嘉昨（20）日發文透露，媽媽在看到她批評趙少康的新聞後，立刻傳訊給她說，「要小心！怎麼連趙少康都敢嗆！藍營沒人敢得罪他！」沒想到，黃宥嘉雙手一攤，哭笑不得地說：「我又不是藍營的，我怎麼知道！」她進一步解釋：「嗆是從咽喉就卡住然後爆發，我不是嗆是肺腑之言！肺！！！！」貼文一出，掀起網友熱議：「做對的事情，對得起自己的良心」、「黃醫師回他剛剛好，他都可以罵政府了」、「趙少康是誰？現在熱搜第一名應該是玄彬吧！哈哈哈哈哈哈」、「就是喜歡黃醫師的仗義執言，我知道黃醫師不是看顏色評論的人」、「黃醫師是為醫護人員發聲」、「挺黃醫師，喜歡真實不造作的妳」！（編輯：楊穎軒）※【NOWnews 今日新聞】提醒您：因應武漢肺炎疫情，疾管署持續加強疫情監測與邊境管制措施，國外入境後如有發燒、咳嗽等不適症狀，請撥打「1922」專線，或「0800-001922」，並依指示配戴口罩儘速就醫，同時主動告知醫師旅遊史及接觸史，以利及時診斷及通報。'}]"
      ]
     },
     "execution_count": 166,
     "metadata": {},
     "output_type": "execute_result"
    }
   ],
   "source": [
    "dataList"
   ]
  },
  {
   "cell_type": "code",
   "execution_count": 174,
   "metadata": {},
   "outputs": [],
   "source": [
    "### 寫出成 file \n",
    "for data in dataList:\n",
    "\n",
    "    file_name = data[\"title\"]\n",
    "\n",
    "    with open(\"sample/{}.txt\".format(file_name),\"w\",encoding=\"utf-8\") as out_file:\n",
    "\n",
    "        record = \"\"\n",
    "\n",
    "        for key in data:\n",
    "            record += \"{}: {}\\n\".format(key,data[key])\n",
    "\n",
    "        out_file.write(record)\n"
   ]
  },
  {
   "cell_type": "code",
   "execution_count": 127,
   "metadata": {},
   "outputs": [],
   "source": []
  }
 ],
 "metadata": {
  "kernelspec": {
   "display_name": "Python 3",
   "language": "python",
   "name": "python3"
  },
  "language_info": {
   "codemirror_mode": {
    "name": "ipython",
    "version": 3
   },
   "file_extension": ".py",
   "mimetype": "text/x-python",
   "name": "python",
   "nbconvert_exporter": "python",
   "pygments_lexer": "ipython3",
   "version": "3.7.6"
  }
 },
 "nbformat": 4,
 "nbformat_minor": 4
}
