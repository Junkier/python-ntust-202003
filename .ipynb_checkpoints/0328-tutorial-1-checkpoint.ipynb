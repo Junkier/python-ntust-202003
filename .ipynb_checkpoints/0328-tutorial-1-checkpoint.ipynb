{
 "cells": [
  {
   "cell_type": "code",
   "execution_count": 2,
   "metadata": {},
   "outputs": [],
   "source": [
    "### 動作流程開始\n",
    "import requests\n",
    "from bs4 import BeautifulSoup as bs\n",
    "\n",
    "url = \"https://www.nownews.com/cat/column/\"\n",
    "\n",
    "test = {\n",
    "    \"user-agent\": \"Mozilla/5.0 (Windows NT 10.0; Win64; x64) AppleWebKit/537.36 (KHTML, like Gecko) Chrome/80.0.3987.149 Safari/537.36\"\n",
    "}\n",
    "\n",
    "res = requests.get(url , headers = test )\n",
    "\n",
    "soup = bs(res.text,\"lxml\")\n",
    "\n",
    "# print(soup)"
   ]
  },
  {
   "cell_type": "code",
   "execution_count": 3,
   "metadata": {},
   "outputs": [
    {
     "name": "stdout",
     "output_type": "stream",
     "text": [
      "https://www.nownews.com/news/20200328/4008977/\n",
      "https://www.nownews.com/news/20200328/4008879/\n",
      "https://www.nownews.com/news/20200328/4008958/\n",
      "https://www.nownews.com/news/20200328/4008949/\n",
      "https://www.nownews.com/news/20200328/4008912/\n",
      "https://www.nownews.com/news/20200327/4008900/\n",
      "https://www.nownews.com/news/20200327/4008867/\n",
      "https://www.nownews.com/news/20200327/4008815/\n",
      "https://www.nownews.com/news/20200327/4008852/\n",
      "https://www.nownews.com/news/20200327/4007609/\n",
      "https://www.nownews.com/news/20200327/4008798/\n",
      "https://www.nownews.com/news/20200327/4008626/\n",
      "https://www.nownews.com/news/20200327/4008701/\n",
      "https://www.nownews.com/news/20200327/4008658/\n",
      "https://www.nownews.com/news/20200327/4008529/\n",
      "https://www.nownews.com/news/20200327/4008668/\n"
     ]
    }
   ],
   "source": [
    "## 抓取各文章連結\n",
    "\n",
    "data = soup.select(\"div.td-animation-stack\")\n",
    "# print(data[0])\n",
    "\n",
    "links = []\n",
    "\n",
    "for ele in data:\n",
    "    a_tag = ele.select(\"h3 a\")[0]\n",
    "    \n",
    "    url  = a_tag[\"href\"]\n",
    "    \n",
    "    links.append(url)\n",
    "    \n",
    "    # print(a_tag)\n",
    "    # print(a_tag[\"href\"])\n",
    "    \n",
    "for l in links:\n",
    "    print(l)"
   ]
  },
  {
   "cell_type": "code",
   "execution_count": 4,
   "metadata": {},
   "outputs": [
    {
     "name": "stdout",
     "output_type": "stream",
     "text": [
      "Done.\n"
     ]
    }
   ],
   "source": [
    "### 合成 function & main \n",
    "\n",
    "import time\n",
    "\n",
    "def parsing_data(soup,url):\n",
    "    \n",
    "    # category\n",
    "    category = soup.select(\"div.td-crumb-container div.entry-crumbs\")[0].text.replace(\"  \",\" > \")\n",
    "\n",
    "    # title \n",
    "    title = soup.select(\"header h1.entry-title\")[0].text\n",
    "\n",
    "    # time  \n",
    "    time  = soup.select(\"header div.td-module-meta-info time\")[0].text\n",
    "\n",
    "    # url \n",
    "\n",
    "    # content \n",
    "    content = \"\"\n",
    "    p_tags  = soup.select(\"div.td-post-content span[itemprop='articleBody'] p\")\n",
    "\n",
    "    for ele in p_tags:\n",
    "        content += ele.text\n",
    "\n",
    "    data = {\n",
    "        \"category\" : category , \n",
    "        \"title\"    : title , \n",
    "        \"time\"     : time  ,\n",
    "        \"url\"      : url ,\n",
    "        \"content\"  : content\n",
    "    }\n",
    "    \n",
    "    return data\n",
    "\n",
    "\n",
    "def get_page_source_code(url):\n",
    "    \n",
    "    headers = {\n",
    "        \"user-agent\": \"Mozilla/5.0 (Windows NT 10.0; Win64; x64) AppleWebKit/537.36 (KHTML, like Gecko) Chrome/80.0.3987.149 Safari/537.36\"\n",
    "    }\n",
    "\n",
    "    res  = requests.get(url,headers=headers)\n",
    "    soup = bs(res.text,\"lxml\")\n",
    "    \n",
    "    return soup \n",
    "\n",
    "### main \n",
    "# url  = links[1]\n",
    "\n",
    "# soup = get_page_source_code(url)\n",
    "\n",
    "# data = parsing_data(soup,url)\n",
    "\n",
    "# print(data)\n",
    "\n",
    "dataList = []\n",
    "\n",
    "for url in links:\n",
    "    \n",
    "    soup = get_page_source_code(url)\n",
    "    \n",
    "    time.sleep(0.8)\n",
    "    \n",
    "    data = parsing_data(soup,url)\n",
    "    \n",
    "    dataList.append(data)\n",
    "\n",
    "print(\"Done.\")"
   ]
  },
  {
   "cell_type": "code",
   "execution_count": 8,
   "metadata": {},
   "outputs": [
    {
     "data": {
      "text/plain": [
       "{'category': 'NOWnews > 國際',\n",
       " 'title': '全球王室死亡首例！西班牙「紅公主」染新冠肺炎病逝巴黎',\n",
       " 'time': '2020-03-28 07:28:22',\n",
       " 'url': 'https://www.nownews.com/news/20200328/4008958/',\n",
       " 'content': '「 2019 新型冠狀病毒 COVID-19 」（簡稱新冠肺炎）疫情席捲歐洲各國，高官、皇室也未能倖免，繼摩納哥親王阿爾貝二世（ Prince Albert Ⅱ ）、英國王儲威爾斯親王查爾斯（ Prince Charles ）等人確診後，歐洲再有王室成員感染，甚至命喪黃泉。綜合外媒報導，西班牙國王菲利普六世（ King Felipe VI ）的表姐瑪麗亞·泰瑞莎（ Maria Teresa de Borbón y Parma），因感染新冠肺炎而病逝於巴黎，享壽 86 歲，也是全球第 1 起王室成員因此死亡的病例。根據西班牙《國家報》 （ El País ）報導，瑪麗亞·泰瑞莎（ MaríaTeresa ）生於 1933 年，是波旁-帕瑪王朝領袖佛朗西斯科•哈維爾一世（ Francisco Javier I ）的女兒，有「紅公主」之稱。瑪麗亞·泰瑞莎學識淵博，畢業於巴黎的索邦大學（ Sorbonne ）政治科學專業，曾是馬德里康普頓斯（ Complutense ）大學的社會學教授。報導並指出，「紅公主」的稱號是 2002 年由歷史學家約瑟夫·卡爾斯·克萊門特（ Josep Carles Clemente ）為她寫的傳記的標題。波旁-帕瑪家族源於法國波旁家族，自 18 世紀開始陸續統治過西班牙，其家族分支還統治過那不勒斯、西西里等位於今日義大利境內的領地，也是現今統治盧森堡大公國之王室家族。儘管如此，瑪麗亞·特雷莎的父親佛朗西斯科•哈維爾一世生前並未真正登基成為西班牙國王，僅聲稱自己為西班牙王位的合法繼承人。瑪麗亞的弟弟西克斯圖斯·亨利王子 （ Sixto Enrique de Borbón ） 27 日在臉書 PO 出與姊姊的合照，聲稱瑪麗亞 已於法國巴黎去世，享壽 86 歲，喪禮將在西班牙馬德里舉行。※【NOWnews 今日新聞】提醒您：因應新冠肺炎疫情，疾管署持續加強疫情監測與邊境管制措施，國外入境後如有發燒、咳嗽等不適症狀，請撥打「1922」專線，或「0800-001922」，並依指示配戴口罩儘速就醫，同時主動告知醫師旅遊史及接觸史，以利及時診斷及通報。'}"
      ]
     },
     "execution_count": 8,
     "metadata": {},
     "output_type": "execute_result"
    }
   ],
   "source": [
    "dataList[2]"
   ]
  },
  {
   "cell_type": "code",
   "execution_count": null,
   "metadata": {},
   "outputs": [],
   "source": []
  },
  {
   "cell_type": "code",
   "execution_count": 10,
   "metadata": {},
   "outputs": [],
   "source": [
    "### 寫出成 file \n",
    "for data in dataList:\n",
    "\n",
    "    file_name = data[\"title\"]\n",
    "\n",
    "    with open(\"sample/{}.txt\".format(file_name),\"w\",encoding=\"utf-8\") as out_file:\n",
    "\n",
    "        record = \"\"\n",
    "\n",
    "        for key in data:\n",
    "            record += \"{}: {}\\n\".format(key,data[key])\n",
    "\n",
    "        out_file.write(record)\n"
   ]
  },
  {
   "cell_type": "code",
   "execution_count": 46,
   "metadata": {},
   "outputs": [
    {
     "name": "stdout",
     "output_type": "stream",
     "text": [
      "疫情持續擴大林俊傑線上過生日　阿信突現身粉絲嗨爆\n",
      "Hello ~~~~\n",
      "327 LOVE WISHES 直播見面會\n",
      "I'm Jeff!!!!\n",
      "12345678 ~~~~~\n",
      "\n",
      "\n",
      "美國疫情大爆發!!!\n",
      "['疫情持續擴大林俊傑線上過生日\\u3000阿信突現身粉絲嗨爆', 'Hello ~~~~', '327 LOVE WISHES 直播見面會', \"I'm Jeff!!!!\", '12345678 ~~~~~', '', '', '美國疫情大爆發!!!']\n"
     ]
    }
   ],
   "source": [
    "### open\n",
    "## w: 寫入\n",
    "## a: 疊加\n",
    "## r: 讀取\n",
    "\n",
    "# w mode / 寫入\n",
    "# f = open(\"test-sample.txt\",\"w\")\n",
    "\n",
    "# f.write(\"Hello Python!!!\")\n",
    "# f.write(\"\\n\")\n",
    "# f.write(\"I'm,Jeff.\")\n",
    "# f.write(\"\\n\")\n",
    "# f.write(\"武漢肺炎好可怕!!!\")\n",
    "# f.write(\"\\n\")\n",
    "\n",
    "# # f.write(\"今天星期六\")\n",
    "# f.write(\"今天星期日\")\n",
    "# f.close()\n",
    "\n",
    "# a mode / 疊加\n",
    "\n",
    "# f2 = open(\"test-sample-2.txt\",\"a\")\n",
    "\n",
    "# f2.write(\"Hello Python!!!\")\n",
    "# f2.write(\"\\n\")\n",
    "# f2.write(\"I'm,Jeff.\")\n",
    "# f2.write(\"\\n\")\n",
    "# # f.write(\"武漢肺炎好可怕!!!\")\n",
    "# # f.write(\"\\n\")\n",
    "# # f.write(\"今天星期六\")\n",
    "\n",
    "# f2.close()\n",
    "\n",
    "\n",
    "# r mode / 讀取\n",
    "# f3 = open(\"test-sample-3.txt\",\"r\",encoding=\"utf8\")\n",
    "# f3 = open(\"test-sample-3.txt\",\"r\",encoding=\"utf8\")\n",
    "\n",
    "\n",
    "# data = f3.read(22)\n",
    "# data = f3.read()\n",
    "\n",
    "# print(data)\n",
    "\n",
    "\n",
    "# print(f3.readline())\n",
    "# print(f3.readline())\n",
    "# print(f3.readline())\n",
    "# print(f3.readline())\n",
    "# print(f3.readlines())\n",
    "\n",
    "# f3.close()\n",
    "\n",
    "## with 語法\n",
    "with open(\"test-sample-3.txt\",\"r\",encoding=\"utf8\") as f4:\n",
    "    data2 = f4.read()\n",
    "    \n",
    "    \n",
    "print(data2)\n",
    "print(data2.split(\"\\n\"))\n"
   ]
  }
 ],
 "metadata": {
  "kernelspec": {
   "display_name": "Python 3",
   "language": "python",
   "name": "python3"
  },
  "language_info": {
   "codemirror_mode": {
    "name": "ipython",
    "version": 3
   },
   "file_extension": ".py",
   "mimetype": "text/x-python",
   "name": "python",
   "nbconvert_exporter": "python",
   "pygments_lexer": "ipython3",
   "version": "3.7.6"
  }
 },
 "nbformat": 4,
 "nbformat_minor": 4
}
