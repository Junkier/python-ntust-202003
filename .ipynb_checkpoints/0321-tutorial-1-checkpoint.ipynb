{
 "cells": [
  {
   "cell_type": "code",
   "execution_count": null,
   "metadata": {},
   "outputs": [],
   "source": [
    "# 1.  設計一 func , 可以讓使用者輸入兩數字 (float), \n",
    "#      並計算兩數的總合及平均\n",
    "\n",
    "# 2.  設計一 func , 可回傳 1+2+3+…+n 的值 , \n",
    "#      其中n 為輸入參數 (int)\n",
    "\n",
    "# 3.  設計一 func , 功能如下：\n",
    "#          1) word 為輸入參數 , 必須為字串(str) , 若不為字串\n",
    "#     則顯示訊息 “[*] word must be str.” \n",
    "#          2) 若為字串, 將 word 字串反轉後回傳\n",
    "\n",
    "# 4. 費氏數列為 1,1,2,3,5,8,13,21,… \n",
    "#     試設計一 func , 輸入為 n , 回傳第n項費氏數列之值\n",
    "       \n",
    "# 5. 試撰寫一程式 , 顯示九九乘法表\n"
   ]
  },
  {
   "cell_type": "code",
   "execution_count": 5,
   "metadata": {},
   "outputs": [
    {
     "name": "stdout",
     "output_type": "stream",
     "text": [
      "請輸入數字1:123\n",
      "請輸入數字2:234\n",
      "Sum : 357.0\n",
      "Avg : 178.5\n"
     ]
    }
   ],
   "source": [
    "# 1.  設計一 func , 可以讓使用者輸入兩數字 (float), \n",
    "#      並計算兩數的總合及平均\n",
    "\n",
    "def answer1(num1,num2):\n",
    "    # num1 = float(input(\"請輸入數字1:\"))\n",
    "    # num2 = float(input(\"請輸入數字2:\"))\n",
    "    print(\"Sum :\",(num1+num2))\n",
    "    print(\"Avg :\",(num1+num2)/2)\n",
    "\n",
    "### main\n",
    "num1 = float(input(\"請輸入數字1:\"))\n",
    "num2 = float(input(\"請輸入數字2:\"))\n",
    "\n",
    "answer1(num1,num2)\n"
   ]
  },
  {
   "cell_type": "code",
   "execution_count": 18,
   "metadata": {},
   "outputs": [
    {
     "name": "stdout",
     "output_type": "stream",
     "text": [
      "55\n"
     ]
    }
   ],
   "source": [
    "# 2.  設計一 func , 可回傳 1+2+3+…+n 的值 , \n",
    "#      其中 n 為輸入參數 (int)\n",
    "\n",
    "def answer2(n):\n",
    "    # 1) for-loop\n",
    "#     result = 0\n",
    "    \n",
    "#     for i in range(1,n+1):\n",
    "#         # result = result + i\n",
    "#         result += i \n",
    "        \n",
    "#     return result\n",
    "\n",
    "    # 2) while-loop\n",
    "#     result = 0\n",
    "#     count  = 1\n",
    "    \n",
    "#     while True:\n",
    "#         result += count\n",
    "#         count  += 1\n",
    "        \n",
    "#         if count > n:\n",
    "#             break\n",
    "            \n",
    "#     return result\n",
    "\n",
    "    # 3) range\n",
    "    return sum(range(1,n+1))\n",
    "        \n",
    "\n",
    "    \n",
    "### main\n",
    "result = answer2(10)\n",
    "print(result)\n"
   ]
  },
  {
   "cell_type": "code",
   "execution_count": 43,
   "metadata": {},
   "outputs": [
    {
     "name": "stdout",
     "output_type": "stream",
     "text": [
      "診確例3爆加斯加達馬！守失土淨\n"
     ]
    }
   ],
   "source": [
    "# 3.  設計一 func , 功能如下：\n",
    "#      1) word 為輸入參數 , 必須為字串(str) , 若不為字串 則顯示訊息 “[*] word must be str.” \n",
    "#      2) 若為字串, 將 word 字串反轉後回傳\n",
    "\n",
    "def answer3(word):\n",
    "    if type(word) != str:\n",
    "        print(\"[*] word must be str.\")\n",
    "    else:\n",
    "        \n",
    "        # 1)\n",
    "#         result = \"\"\n",
    "        \n",
    "#         for w in word:\n",
    "#             # print(w)\n",
    "#             # result = result + w\n",
    "#             # \"B\" --> \"Bo\" --> \"Boo\"\n",
    "#             result = w + result \n",
    "#             # \"B\" --> \"oB\" --> \"ooB\" -->\n",
    "#         return result \n",
    "        # 2) \n",
    "    \n",
    "        return word[::-1]\n",
    "            \n",
    "### main \n",
    "message = \"淨土失守！馬達加斯加爆3例確診\"\n",
    "# message = 123456\n",
    "result3 = answer3(message)\n",
    "print(result3)\n",
    "\n"
   ]
  },
  {
   "cell_type": "code",
   "execution_count": 40,
   "metadata": {},
   "outputs": [
    {
     "name": "stdout",
     "output_type": "stream",
     "text": [
      "Hello world!!!\n",
      "ello worl\n",
      "el ol\n",
      "eoo\n",
      "ello world!!\n",
      "!!!dlrow \n",
      "!!lo \n"
     ]
    }
   ],
   "source": [
    "# name = \"jeff\"\n",
    "# print(type(name) == str)\n",
    "# print(type(name) == list)\n",
    "# print(type(name) == dict)\n",
    "# print(type(123)  == int)\n",
    "\n",
    "# print(name + \" , hello~~\")\n",
    "# print(\"I'm ,\" + name)\n",
    "\n",
    "message = \"Hello world!!!\"\n",
    "\n",
    "print(message)\n",
    "print(message[1:10])\n",
    "print(message[1:10:2])\n",
    "print(message[1:10:3])\n",
    "print(message[1:-1])\n",
    "print(message[-1:-10:-1])\n",
    "print(message[-1:-10:-2])"
   ]
  },
  {
   "cell_type": "code",
   "execution_count": 49,
   "metadata": {},
   "outputs": [
    {
     "name": "stdout",
     "output_type": "stream",
     "text": [
      "第1項：1\n",
      "第2項：1\n",
      "第3項：2\n",
      "第4項：3\n",
      "第5項：5\n",
      "第6項：8\n",
      "第7項：13\n",
      "第8項：21\n",
      "第9項：34\n",
      "第10項：55\n"
     ]
    }
   ],
   "source": [
    "# 4. 費氏數列為 1,1,2,3,5,8,13,21,… \n",
    "#     試設計一 func , 輸入為 n , 回傳第 n 項費氏數列之值\n",
    "def fibonacci(n):\n",
    "    if n == 1 or n == 2 :\n",
    "        return 1\n",
    "    else:\n",
    "        r1 = 1\n",
    "        r2 = 1 \n",
    "        a  = 0\n",
    "        \n",
    "        for i in range(n-2):\n",
    "            a  = r1 + r2\n",
    "            r2 = r1 \n",
    "            r1 = a\n",
    "        \n",
    "        return a\n",
    "            \n",
    "            \n",
    "            \n",
    "### main\n",
    "\n",
    "# result = fibonacci(5)\n",
    "# print(result)\n",
    "\n",
    "for i in range(1,11):\n",
    "    print(\"第{}項：{}\".format(i,fibonacci(i)))\n"
   ]
  },
  {
   "cell_type": "code",
   "execution_count": 47,
   "metadata": {},
   "outputs": [
    {
     "name": "stdout",
     "output_type": "stream",
     "text": [
      "34\n"
     ]
    }
   ],
   "source": [
    "### 練習\n",
    "# 1 , 1 , 2 , 3 , 5 , 8 , 13 ,21 ,34 ,55 , ...\n",
    "n = 9\n",
    "a = 0\n",
    "r1 = 1\n",
    "r2 = 1\n",
    "for i in range(n-2):\n",
    "    a = r1+r2\n",
    "    r2 = r1\n",
    "    r1 = a \n",
    "    \n",
    "print(a)"
   ]
  },
  {
   "cell_type": "code",
   "execution_count": 66,
   "metadata": {
    "scrolled": true
   },
   "outputs": [
    {
     "name": "stdout",
     "output_type": "stream",
     "text": [
      "1*1=1  1*2=2  1*3=3  1*4=4  1*5=5  1*6=6  1*7=7  1*8=8  1*9=9  \n",
      "2*1=2  2*2=4  2*3=6  2*4=8  2*5=10 2*6=12 2*7=14 2*8=16 2*9=18 \n",
      "3*1=3  3*2=6  3*3=9  3*4=12 3*5=15 3*6=18 3*7=21 3*8=24 3*9=27 \n",
      "4*1=4  4*2=8  4*3=12 4*4=16 4*5=20 4*6=24 4*7=28 4*8=32 4*9=36 \n",
      "5*1=5  5*2=10 5*3=15 5*4=20 5*5=25 5*6=30 5*7=35 5*8=40 5*9=45 \n",
      "6*1=6  6*2=12 6*3=18 6*4=24 6*5=30 6*6=36 6*7=42 6*8=48 6*9=54 \n",
      "7*1=7  7*2=14 7*3=21 7*4=28 7*5=35 7*6=42 7*7=49 7*8=56 7*9=63 \n",
      "8*1=8  8*2=16 8*3=24 8*4=32 8*5=40 8*6=48 8*7=56 8*8=64 8*9=72 \n",
      "9*1=9  9*2=18 9*3=27 9*4=36 9*5=45 9*6=54 9*7=63 9*8=72 9*9=81 \n"
     ]
    }
   ],
   "source": [
    "# 5. 試撰寫一程式 , 顯示九九乘法表\n",
    "\n",
    "### 1) 普通版\n",
    "# for i in range(1,10):\n",
    "#     for j in range(1,10):\n",
    "#         # print(i,j)\n",
    "#         print(\"{}*{}={}\".format(i,j,i*j))\n",
    "#     print(\"-\"*20)\n",
    "\n",
    "### 2) 整齊版\n",
    "for i in range(1,10):\n",
    "    \n",
    "    msg = \"\"\n",
    "    \n",
    "    for j in range(1,10):\n",
    "        # print(i,j)\n",
    "        # msg += \"{}*{}={} \".format(i,j,i*j)\n",
    "        \n",
    "        # if i*j <10:\n",
    "        #    msg += \"{}*{}={}  \".format(i,j,i*j)\n",
    "        # else:\n",
    "        #    msg += \"{}*{}={} \".format(i,j,i*j)\n",
    "            \n",
    "        # if value <10:\n",
    "        #    space = \"  \"\n",
    "        # else:\n",
    "        #    space = \" \"\n",
    "        \n",
    "        value = i*j\n",
    "        space = \"  \" if value <10 else \" \"   ### 三元運算子\n",
    "        msg += \"{}*{}={}{}\".format(i,j,value,space)\n",
    "        \n",
    "    print(msg)\n",
    "        \n"
   ]
  },
  {
   "cell_type": "code",
   "execution_count": 65,
   "metadata": {},
   "outputs": [
    {
     "name": "stdout",
     "output_type": "stream",
     "text": [
      "++++\n"
     ]
    }
   ],
   "source": [
    "# 三元運算子\n",
    "num = 123\n",
    "a   = \"++++\" if num >0 else \"----\"\n",
    "print(a)\n",
    "\n",
    "# if num >0:\n",
    "#     a = \"++++\"\n",
    "# else:\n",
    "#     a = \"----\""
   ]
  },
  {
   "cell_type": "code",
   "execution_count": 69,
   "metadata": {
    "scrolled": true
   },
   "outputs": [
    {
     "data": {
      "text/plain": [
       "False"
      ]
     },
     "execution_count": 69,
     "metadata": {},
     "output_type": "execute_result"
    }
   ],
   "source": [
    "\"aptx213\".isalpha()"
   ]
  },
  {
   "cell_type": "code",
   "execution_count": 70,
   "metadata": {},
   "outputs": [
    {
     "data": {
      "text/plain": [
       "'王燦、賴慧如、王凱在民視8點檔《多情城市》中，飾演集團老闆和他的小老婆、獨生子，日前「一家三口」上網路節目《娛樂超skr》大聊拍戲趣事，不約而同笑稱：「終於有機會可以當兄妹了。...'"
      ]
     },
     "execution_count": 70,
     "metadata": {},
     "output_type": "execute_result"
    }
   ],
   "source": [
    "\"\\u738b\\u71e6\\u3001\\u8cf4\\u6167\\u5982\\u3001\\u738b\\u51f1\\u5728\\u6c11\\u89968\\u9ede\\u6a94\\u300a\\u591a\\u60c5\\u57ce\\u5e02\\u300b\\u4e2d\\uff0c\\u98fe\\u6f14\\u96c6\\u5718\\u8001\\u95c6\\u548c\\u4ed6\\u7684\\u5c0f\\u8001\\u5a46\\u3001\\u7368\\u751f\\u5b50\\uff0c\\u65e5\\u524d\\u300c\\u4e00\\u5bb6\\u4e09\\u53e3\\u300d\\u4e0a\\u7db2\\u8def\\u7bc0\\u76ee\\u300a\\u5a1b\\u6a02\\u8d85skr\\u300b\\u5927\\u804a\\u62cd\\u6232\\u8da3\\u4e8b\\uff0c\\u4e0d\\u7d04\\u800c\\u540c\\u7b11\\u7a31\\uff1a\\u300c\\u7d42\\u65bc\\u6709\\u6a5f\\u6703\\u53ef\\u4ee5\\u7576\\u5144\\u59b9\\u4e86\\u3002...\""
   ]
  }
 ],
 "metadata": {
  "kernelspec": {
   "display_name": "Python 3",
   "language": "python",
   "name": "python3"
  },
  "language_info": {
   "codemirror_mode": {
    "name": "ipython",
    "version": 3
   },
   "file_extension": ".py",
   "mimetype": "text/x-python",
   "name": "python",
   "nbconvert_exporter": "python",
   "pygments_lexer": "ipython3",
   "version": "3.7.6"
  }
 },
 "nbformat": 4,
 "nbformat_minor": 4
}
