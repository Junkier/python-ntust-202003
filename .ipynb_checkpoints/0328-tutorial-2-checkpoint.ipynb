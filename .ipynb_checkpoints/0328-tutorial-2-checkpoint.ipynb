{
 "cells": [
  {
   "cell_type": "code",
   "execution_count": 21,
   "metadata": {},
   "outputs": [],
   "source": [
    "### 大樂透\n",
    "\n",
    "### requests POST API\n",
    "import requests\n",
    "\n",
    "url = \"https://www.taiwanlottery.com.tw/Lotto/Lotto649/history.aspx\"\n",
    "\n",
    "headers = {\n",
    "    \"User-Agent\": \"Mozilla/5.0 (Windows NT 10.0; Win64; x64) AppleWebKit/537.36 (KHTML, like Gecko) Chrome/80.0.3987.149 Safari/537.36\",\n",
    "    \"Host\": \"www.taiwanlottery.com.tw\",\n",
    "    \"Origin\": \"https://www.taiwanlottery.com.tw\",\n",
    "    \"Referer\": \"https://www.taiwanlottery.com.tw/Lotto/Lotto649/history.aspx\"\n",
    "}\n",
    "\n",
    "\n",
    "payload = {\n",
    "    \"__EVENTTARGET\" : \"\", \n",
    "    \"__EVENTARGUMENT\": \"\",\n",
    "    \"__LASTFOCUS\": \"\",\n",
    "    \"__VIEWSTATE\": \"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\",\n",
    "    \"__VIEWSTATEGENERATOR\": \"11E838D2\",\n",
    "    \"__EVENTVALIDATION\": \"/JL+C6dHHa3NmyqQp1fG5TV5pTUXbiUE7TibIjvnS6O1wyyw8Qeh0Prcbhq2NvSXTC+0SxXEeZeRtfAggkqaW1EGaJi6j2Fn6peARYqVRMRK5Bf+CXsHObZdnE8eNqpjWYTcluOzwrbOF6AhCNyjYJqR5tF57SCK7FV4t/bS85Um6gxxGgFUBkiisgeXhuXC/u9p+xm9tPLGC4kTfqdZ9WhztvbFk82FsHRkYhVQmM08/DPCT11WXcRz7PIzrawHRJ16Ovx+RdDqO3OTas+M70zRWp2loONfeco1sl9x6KCD1mLZV5FJkR2Fu7ip9zFwRvM9zACAGzfenCGQ/8cui0ugkMYfOA2xnAMei6HBDXNkOPaWOHmkLjuuJ3W4kzhxfVcR2A+rbT3UwaE6/R4LSbuV4M8/8/1Xk+W5gDGJ+Ho9WpEW8G7UTkFH48egCjEwn9z00pyQIXc6K0wg3GjiaDoD0vkXHnBowZR4RocM9q/Rh9BOsi6GlN/ADY63aKtGVwtNMOWXQFMP23TmdLJ2/sB9fhPh8G6q4zFZdlflEaTP4uA7JovFa/GuXnFkkwGE6lMa9GYZEGvaKbAyjuVFrxcd63SCLiK7scZCRea/+B9zlrWYr95ToTU7pSDYDu/jz+81NWSknGAx753qp3o1h8EMMCi5zIBWMlkd1ugwXKqNQ9NFlcISgjPCdIimIS+9ni8vwiDWjaPhFclZtjjqNQdMBzPleLgFzbhJpje6Ermir2+fFnLsWtZnu8olknGWXG1+1OJ2WbLa6BK9HqbRoLVKNxDsmU3alq5sM4Mw02AdSXFu+N+yTcD5s6wrc+o8SI3zPlK5IzNTSMvzS5+ub1TdtC0=\",\n",
    "    \"Lotto649Control_history$DropDownList1\": \"2\" ,\n",
    "    \"Lotto649Control_history$chk\": \"radYM\" ,\n",
    "    \"Lotto649Control_history$dropYear\": \"108\" ,\n",
    "    \"Lotto649Control_history$dropMonth\": \"1\" ,\n",
    "    \"Lotto649Control_history$btnSubmit\": \"查詢\"\n",
    "}\n",
    "\n",
    "res = requests.post(url,headers=headers, data = payload )\n",
    "# res = requests.post(url,headers=headers)\n",
    "\n",
    "\n",
    "# print(res.text)\n"
   ]
  },
  {
   "cell_type": "code",
   "execution_count": 33,
   "metadata": {
    "scrolled": false
   },
   "outputs": [
    {
     "name": "stdout",
     "output_type": "stream",
     "text": [
      "108000009\n",
      "108/01/29\n",
      "<td class=\"td_w font_black14b_center\"><span id=\"Lotto649Control_history_dlQuery_No1_0\">14</span></td>\n",
      "<td class=\"td_w font_black14b_center\"><span id=\"Lotto649Control_history_dlQuery_No2_0\">20</span></td>\n",
      "<td class=\"td_w font_black14b_center\"><span id=\"Lotto649Control_history_dlQuery_No3_0\">24</span></td>\n",
      "<td class=\"td_w font_black14b_center\"><span id=\"Lotto649Control_history_dlQuery_No4_0\">30</span></td>\n",
      "<td class=\"td_w font_black14b_center\"><span id=\"Lotto649Control_history_dlQuery_No5_0\">44</span></td>\n",
      "<td class=\"td_w font_black14b_center\"><span id=\"Lotto649Control_history_dlQuery_No6_0\">48</span></td>\n",
      "<td class=\"td_w font_red14b_center\" colspan=\"2\"><span id=\"SuperLotto638Control_history1_dlQuery_No7_0\"><span id=\"Lotto649Control_history_dlQuery_SNo_0\">31</span></span> </td>\n",
      "['14', '20', '24', '30', '44', '48', '31']\n"
     ]
    }
   ],
   "source": [
    "from bs4 import BeautifulSoup as bs \n",
    "soup = bs(res.text,\"lxml\")\n",
    "# print(soup)\n",
    "\n",
    "# raw_data = soup.select(\"table.td_hm\")\n",
    "\n",
    "raw_data = soup.find_all(\"table\",{\"class\":[\"table_org\",\"table_gre\"]})\n",
    "\n",
    "# print(len(raw_data))\n",
    "# print(raw_data)\n",
    "\n",
    "ele = raw_data[0]\n",
    "\n",
    "# print(ele)\n",
    "\n",
    "## 期別\n",
    "lotto_no = ele.select(\"tr\")[1].select(\"td\")[0].text\n",
    "print(lotto_no)\n",
    "\n",
    "## 開獎日\n",
    "lotto_time = ele.select(\"tr\")[1].select(\"td\")[1].text.strip()\n",
    "print(lotto_time)\n",
    "\n",
    "## 號碼\n",
    "td_tags = ele.select(\"tr\")[4].select(\"td\")\n",
    "\n",
    "lotto_numbers = []\n",
    "\n",
    "for td in td_tags[1:]:\n",
    "    print(td)\n",
    "    lotto_numbers.append(td.text.strip())\n",
    "    \n",
    "print(lotto_numbers)\n"
   ]
  },
  {
   "cell_type": "code",
   "execution_count": null,
   "metadata": {},
   "outputs": [],
   "source": []
  },
  {
   "cell_type": "code",
   "execution_count": null,
   "metadata": {},
   "outputs": [],
   "source": []
  },
  {
   "cell_type": "code",
   "execution_count": 26,
   "metadata": {},
   "outputs": [
    {
     "data": {
      "text/plain": [
       "\"'\\\\n108/01/29\\\\n'\""
      ]
     },
     "execution_count": 26,
     "metadata": {},
     "output_type": "execute_result"
    }
   ],
   "source": [
    "repr(lotto_time)"
   ]
  },
  {
   "cell_type": "code",
   "execution_count": 28,
   "metadata": {},
   "outputs": [
    {
     "data": {
      "text/plain": [
       "\"'108/01/29'\""
      ]
     },
     "execution_count": 28,
     "metadata": {},
     "output_type": "execute_result"
    }
   ],
   "source": [
    "repr(lotto_time)"
   ]
  }
 ],
 "metadata": {
  "kernelspec": {
   "display_name": "Python 3",
   "language": "python",
   "name": "python3"
  },
  "language_info": {
   "codemirror_mode": {
    "name": "ipython",
    "version": 3
   },
   "file_extension": ".py",
   "mimetype": "text/x-python",
   "name": "python",
   "nbconvert_exporter": "python",
   "pygments_lexer": "ipython3",
   "version": "3.7.6"
  }
 },
 "nbformat": 4,
 "nbformat_minor": 4
}
