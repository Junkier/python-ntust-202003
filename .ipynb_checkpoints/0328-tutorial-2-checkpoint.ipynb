{
 "cells": [
  {
   "cell_type": "code",
   "execution_count": 84,
   "metadata": {},
   "outputs": [],
   "source": [
    "### 大樂透\n",
    "\n",
    "### requests POST API\n",
    "import requests\n",
    "\n",
    "url = \"https://www.taiwanlottery.com.tw/Lotto/Lotto649/history.aspx\"\n",
    "\n",
    "headers = {\n",
    "    \"User-Agent\": \"Mozilla/5.0 (Windows NT 10.0; Win64; x64) AppleWebKit/537.36 (KHTML, like Gecko) Chrome/80.0.3987.149 Safari/537.36\",\n",
    "    \"Host\": \"www.taiwanlottery.com.tw\",\n",
    "    \"Origin\": \"https://www.taiwanlottery.com.tw\",\n",
    "    \"Referer\": \"https://www.taiwanlottery.com.tw/Lotto/Lotto649/history.aspx\"\n",
    "}\n",
    "\n",
    "\n",
    "payload = {\n",
    "    \"__EVENTTARGET\" : \"\", \n",
    "    \"__EVENTARGUMENT\": \"\",\n",
    "    \"__LASTFOCUS\": \"\",\n",
    "    \"__VIEWSTATE\": \"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\",\n",
    "    \"__VIEWSTATEGENERATOR\": \"11E838D2\",\n",
    "    \"__EVENTVALIDATION\": \"w+eqk6jHTE6p6iGmzQa/NUm2Qm+fDGf25IrTo2zqNpCo+HyXa+APQNildYGmQyLGyDRy7fma9W2616RKDhDTNxrWbNevVypv4okRuVF+TBG8aZ5rPkf8eHW5mb8Rr9Xe0ee8u/HNROQ9TkUetVwb0Hs5gqi+US1gJb2KxxTATSnMirZfKjDiKyMoqZbeIi9w6j0cZt8yB8ckC5lmRGxpxURhp1U/BB3WqjJRzcNZE2eJeBQOyPHug1ikwFKhEHCo5Ard3GcOKtvCke8eMmy0yxwkR4RdMQ0eBabivge0qtb0SLTdOlWEALAI/n/KBfTXjiL5DDz9wkFEHlnNZ6fQubE8uBP42RcyQpO7IKm34Ld2kz383PB1w8BsM+EBl7dr1qq5Y2yIZ0wRaUW574A2KIJTauhJg6fMmp2ZwcAuljPa21RutluxpbiOVOAL8dLHWf4RUC4DYw6KBPl/AD1cizYNrdc7mS12XWJEaz7fHiftze/8AgTCun+Vg6P8EjPG2GiXbCJKJOWI6g2/fw1bh4mBUoLiTK377hspWRXCTnk9wu6jLel0BSMA5YRbRzT5rLa0GECHiqJejV6utVQXd5MAv8LeQh6y3w/E/gTQRmCgIgt68YRZ/yGil3bN/F4hrrtmzDPrNerm6/1fy/1SDCC55eTSYvfowgjgqpVPdJgl3lgzVge1lPCE0t9bNN+M93vNGLpHIpkBKh2FgkueUm8aZvk1ZZsrJUlsaVIDAxFxEJkQJijLr5+0gPaQaglqelWOlE2fMpIBV1+pxHe2itHCHmTHlATcTLAqJVHqOb+mbh/d/PU1jKa2Zp+plqfpRPI3hS7LvzRpqUZ5Vzr57A7HWfE=\",\n",
    "    \"Lotto649Control_history$DropDownList1\": \"2\" ,\n",
    "    \"Lotto649Control_history$chk\": \"radYM\" ,\n",
    "    \"Lotto649Control_history$dropYear\": \"108\" ,\n",
    "    \"Lotto649Control_history$dropMonth\": \"1\" ,\n",
    "    \"Lotto649Control_history$btnSubmit\": \"查詢\"\n",
    "}\n",
    "\n",
    "res = requests.post(url,headers=headers, data = payload )\n",
    "# res = requests.post(url,headers=headers)\n",
    "\n",
    "\n",
    "# print(res.text)\n"
   ]
  },
  {
   "cell_type": "code",
   "execution_count": 51,
   "metadata": {
    "scrolled": false
   },
   "outputs": [
    {
     "name": "stdout",
     "output_type": "stream",
     "text": [
      "{'no': '108000009', 'time': '108/01/29', 'numbers': ['14', '20', '24', '30', '44', '48', '31']}\n",
      "{'no': '108000008', 'time': '108/01/25', 'numbers': ['03', '10', '14', '15', '20', '45', '02']}\n",
      "{'no': '108000007', 'time': '108/01/22', 'numbers': ['02', '20', '36', '37', '42', '46', '29']}\n",
      "{'no': '108000006', 'time': '108/01/18', 'numbers': ['04', '05', '10', '30', '39', '45', '14']}\n",
      "{'no': '108000005', 'time': '108/01/15', 'numbers': ['12', '20', '30', '38', '40', '41', '10']}\n",
      "{'no': '108000004', 'time': '108/01/11', 'numbers': ['13', '20', '22', '31', '34', '42', '09']}\n",
      "{'no': '108000003', 'time': '108/01/08', 'numbers': ['04', '19', '21', '28', '39', '43', '18']}\n",
      "{'no': '108000002', 'time': '108/01/04', 'numbers': ['06', '07', '08', '20', '47', '48', '30']}\n",
      "{'no': '108000001', 'time': '108/01/01', 'numbers': ['18', '23', '24', '25', '39', '42', '48']}\n"
     ]
    }
   ],
   "source": [
    "## parsing 資料\n",
    "\n",
    "from bs4 import BeautifulSoup as bs \n",
    "soup = bs(res.text,\"lxml\")\n",
    "# print(soup)\n",
    "\n",
    "# raw_data = soup.select(\"table.td_hm\")\n",
    "\n",
    "raw_data = soup.find_all(\"table\",{\"class\":[\"table_org\",\"table_gre\"]})\n",
    "\n",
    "# ele = raw_data[0]\n",
    "\n",
    "for ele in raw_data:\n",
    "\n",
    "    ## 期別\n",
    "    lotto_no = ele.select(\"tr\")[1].select(\"td\")[0].text\n",
    "    # print(lotto_no)\n",
    "\n",
    "    ## 開獎日\n",
    "    lotto_time = ele.select(\"tr\")[1].select(\"td\")[1].text.strip()\n",
    "    # print(lotto_time)\n",
    "\n",
    "    ## 號碼\n",
    "    td_tags = ele.select(\"tr\")[4].select(\"td\")\n",
    "\n",
    "    # lotto_numbers = []\n",
    "\n",
    "    # for td in td_tags[1:]:\n",
    "    #     print(td)\n",
    "    #     lotto_numbers.append(td.text.strip())\n",
    "\n",
    "    lotto_numbers = [ td.text.strip() for td in td_tags[1:] ]\n",
    "    # print(lotto_numbers)\n",
    "\n",
    "    data = {\n",
    "        \"no\"      : lotto_no,\n",
    "        \"time\"    : lotto_time,\n",
    "        \"numbers\" : lotto_numbers\n",
    "    }\n",
    "\n",
    "    print(data)\n",
    "    "
   ]
  },
  {
   "cell_type": "code",
   "execution_count": 48,
   "metadata": {},
   "outputs": [
    {
     "name": "stdout",
     "output_type": "stream",
     "text": [
      "[1, 4, 9, 16, 25]\n",
      "['aaa', 'bbb', 'ccc', 'ddd']\n"
     ]
    }
   ],
   "source": [
    "### list comprehension\n",
    "a = [1,2,3,4,5]\n",
    "# output --> [1,4,8,16,25]\n",
    "\n",
    "# list + for-loop\n",
    "# output = []\n",
    "# for num in a:\n",
    "#     output.append(num**2)\n",
    "# print(output)\n",
    "\n",
    "\n",
    "# list comprehension \n",
    "output = [ num**2 for num in a ]\n",
    "print(output)\n",
    "\n",
    "b = [\"a\",\"b\",\"c\",\"d\"]\n",
    "# output --> [\"aaa\",\"bbb\",\"ccc\",\"ddd\"]\n",
    "output2 = [ word*3 for word in b]\n",
    "print(output2)\n"
   ]
  },
  {
   "cell_type": "code",
   "execution_count": 40,
   "metadata": {},
   "outputs": [
    {
     "name": "stdout",
     "output_type": "stream",
     "text": [
      "'\\n108/01/29\\n'\n"
     ]
    }
   ],
   "source": [
    "### repr: 顯示字串原碼\n",
    "print(repr(lotto_time))"
   ]
  },
  {
   "cell_type": "code",
   "execution_count": 53,
   "metadata": {
    "scrolled": true
   },
   "outputs": [
    {
     "data": {
      "text/plain": [
       "[{'no': '108000009',\n",
       "  'time': '108/01/29',\n",
       "  'numbers': ['14', '20', '24', '30', '44', '48', '31']},\n",
       " {'no': '108000008',\n",
       "  'time': '108/01/25',\n",
       "  'numbers': ['03', '10', '14', '15', '20', '45', '02']},\n",
       " {'no': '108000007',\n",
       "  'time': '108/01/22',\n",
       "  'numbers': ['02', '20', '36', '37', '42', '46', '29']},\n",
       " {'no': '108000006',\n",
       "  'time': '108/01/18',\n",
       "  'numbers': ['04', '05', '10', '30', '39', '45', '14']},\n",
       " {'no': '108000005',\n",
       "  'time': '108/01/15',\n",
       "  'numbers': ['12', '20', '30', '38', '40', '41', '10']},\n",
       " {'no': '108000004',\n",
       "  'time': '108/01/11',\n",
       "  'numbers': ['13', '20', '22', '31', '34', '42', '09']},\n",
       " {'no': '108000003',\n",
       "  'time': '108/01/08',\n",
       "  'numbers': ['04', '19', '21', '28', '39', '43', '18']},\n",
       " {'no': '108000002',\n",
       "  'time': '108/01/04',\n",
       "  'numbers': ['06', '07', '08', '20', '47', '48', '30']},\n",
       " {'no': '108000001',\n",
       "  'time': '108/01/01',\n",
       "  'numbers': ['18', '23', '24', '25', '39', '42', '48']}]"
      ]
     },
     "execution_count": 53,
     "metadata": {},
     "output_type": "execute_result"
    }
   ],
   "source": [
    "### parsing 資料\n",
    "from bs4 import BeautifulSoup as bs \n",
    "\n",
    "def get_clear_data(soup):\n",
    "   \n",
    "    raw_data = soup.find_all(\"table\",{\"class\":[\"table_org\",\"table_gre\"]})\n",
    "    \n",
    "    result = []\n",
    "\n",
    "    for ele in raw_data:\n",
    "\n",
    "        ## 期別\n",
    "        lotto_no = ele.select(\"tr\")[1].select(\"td\")[0].text\n",
    "        # print(lotto_no)\n",
    "\n",
    "        ## 開獎日\n",
    "        lotto_time = ele.select(\"tr\")[1].select(\"td\")[1].text.strip()\n",
    "        # print(lotto_time)\n",
    "\n",
    "        ## 號碼\n",
    "        td_tags = ele.select(\"tr\")[4].select(\"td\")\n",
    "\n",
    "        # lotto_numbers = []\n",
    "\n",
    "        # for td in td_tags[1:]:\n",
    "        #     print(td)\n",
    "        #     lotto_numbers.append(td.text.strip())\n",
    "\n",
    "        lotto_numbers = [ td.text.strip() for td in td_tags[1:] ]\n",
    "        # print(lotto_numbers)\n",
    "\n",
    "        data = {\n",
    "            \"no\"      : lotto_no,\n",
    "            \"time\"    : lotto_time,\n",
    "            \"numbers\" : lotto_numbers\n",
    "        }\n",
    "\n",
    "        result.append(data)\n",
    "\n",
    "        # print(data)\n",
    "        \n",
    "    return result\n",
    "        \n",
    "        \n",
    "## parsing 資料\n",
    "\n",
    "soup = bs(res.text,\"lxml\")\n",
    "\n",
    "result = get_clear_data(soup)\n",
    "# result"
   ]
  },
  {
   "cell_type": "code",
   "execution_count": 62,
   "metadata": {
    "scrolled": true
   },
   "outputs": [
    {
     "name": "stdout",
     "output_type": "stream",
     "text": [
      "{'__VIEWSTATEGENERATOR': '11E838D2', '__EVENTVALIDATION': 'zYzwgOVFa/ZbXEHF4MfTLYHTbnXWn9C4DLlJSBxu5aJN3FUvAimDCkl0lm4u2bWkmQE9knnXRA6Bgp9lt26pAcuRy60qwxbiPRb1aCSsQPa4IPeAsiWhoAmpUd/j802h0X8fA/7Qrh3OXFdOSZ6FwdVGWf0p8vdTNq9Z/0mTxndfdXY1ogMlO1/op/Qn3kCBrVy7CxLZAQ/vY1E8E8IVvZqy946BiC2qI8F41bw0lL0xMADooM8fe00iYBo2JkiFY92UZtDYQ9tQPxR2wFaKAXuDoArsn5KaahHU+V7R0QUwroJt7Guh5391G3f+DJy65Mh1oHarpDW+KmzrSWqJvwWeYiSakNdiRYXrzZuot2h9y2uQ0FfoXllD4T5tf3m/jMwfk3lfQp+cDCqxQmhOPdBmECh2I/v2MA55R2A383ILu9qpoF4AiAcmTU9mcI/WnB1GXoR6QgIWeE52c56dCU+K0UxIrvmsSBH1KJzBVOrXxc7T2YkCmeZY2RAAYbwoReE2aK+t7gquL/MFknrV8nA0YLsPshScG983PDdvq7Pww5VAXrCBCTMTFuXsjc9Nmqtcn/GkXCKmA2GTs68TQB3aqgxxBv5Nhzo6Pbn5Ue6zu+s7pNbfKutmwLKrZVCXQE3Wr0kNCPMXKTx47nVimNAxvfP7Py8Klqey4wEmEpEcglIeU1WUViPsOPZm+oiGzEWaTVmkrfSSOMSTW1P807Hk8zh+8pJtKb0O2eby65OQIHkMr58DvMElE8jP0R7ckrnHJ0N2/uy+/i8z5QoMyULeh/JtSLDXsg0VDIVlZ9H6cI8YiIiD5kkIoLvQSrJL/6LBAnm5ZCHOcXite5741HsMEaU=', '__VIEWSTATE': '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'}\n"
     ]
    }
   ],
   "source": [
    "### 隱藏參數抓取\n",
    "\n",
    "# token: 權杖/辨識碼\n",
    "\n",
    "def parsing_hidden_params(soup):\n",
    "\n",
    "    __VIEWSTATEGENERATOR = soup.select(\"input#__VIEWSTATEGENERATOR\")[0][\"value\"]\n",
    "    __EVENTVALIDATION    = soup.select(\"input#__EVENTVALIDATION\")[0][\"value\"]\n",
    "    __VIEWSTATE          = soup.select(\"input#__VIEWSTATE\")[0][\"value\"]\n",
    "    \n",
    "    return {\n",
    "        \"__VIEWSTATEGENERATOR\" : __VIEWSTATEGENERATOR,\n",
    "        \"__EVENTVALIDATION\"    : __EVENTVALIDATION,\n",
    "        \"__VIEWSTATE\"          : __VIEWSTATE\n",
    "    }\n",
    "\n",
    "# print(__EVENTVALIDATION)\n",
    "# print(__VIEWSTATEGENERATOR)\n",
    "# print(__VIEWSTATE)\n",
    "\n",
    "\n",
    "hidden_params = parsing_hidden_params(soup)\n",
    "print(hidden_params)"
   ]
  },
  {
   "cell_type": "code",
   "execution_count": 82,
   "metadata": {},
   "outputs": [
    {
     "name": "stdout",
     "output_type": "stream",
     "text": [
      "1月完成!\n",
      "2月完成!\n",
      "3月完成!\n",
      "4月完成!\n",
      "5月完成!\n",
      "Done.\n"
     ]
    }
   ],
   "source": [
    "## 組合程式\n",
    "## 舊版\n",
    "\n",
    "import requests\n",
    "from bs4 import BeautifulSoup as bs \n",
    "\n",
    "def get_clear_data(soup):\n",
    "   \n",
    "    raw_data = soup.find_all(\"table\",{\"class\":[\"table_org\",\"table_gre\"]})\n",
    "    \n",
    "    result = []\n",
    "\n",
    "    for ele in raw_data:\n",
    "\n",
    "        ## 期別\n",
    "        lotto_no = ele.select(\"tr\")[1].select(\"td\")[0].text\n",
    "\n",
    "        ## 開獎日\n",
    "        lotto_time = ele.select(\"tr\")[1].select(\"td\")[1].text.strip()\n",
    "\n",
    "        ## 號碼\n",
    "        td_tags = ele.select(\"tr\")[4].select(\"td\")\n",
    "\n",
    "        # lotto_numbers = []\n",
    "\n",
    "        # for td in td_tags[1:]:\n",
    "        #     print(td)\n",
    "        #     lotto_numbers.append(td.text.strip())\n",
    "\n",
    "        lotto_numbers = [ td.text.strip() for td in td_tags[1:] ]\n",
    "\n",
    "        data = {\n",
    "            \"no\"      : lotto_no,\n",
    "            \"time\"    : lotto_time,\n",
    "            \"numbers\" : lotto_numbers\n",
    "        }\n",
    "\n",
    "        result.append(data)\n",
    "\n",
    "    return result\n",
    "\n",
    "\n",
    "def parsing_hidden_params(soup):\n",
    "\n",
    "    __VIEWSTATEGENERATOR = soup.select(\"input#__VIEWSTATEGENERATOR\")[0][\"value\"]\n",
    "    __EVENTVALIDATION    = soup.select(\"input#__EVENTVALIDATION\")[0][\"value\"]\n",
    "    __VIEWSTATE          = soup.select(\"input#__VIEWSTATE\")[0][\"value\"]\n",
    "    \n",
    "    return {\n",
    "        \"__VIEWSTATEGENERATOR\" : __VIEWSTATEGENERATOR,\n",
    "        \"__EVENTVALIDATION\"    : __EVENTVALIDATION,\n",
    "        \"__VIEWSTATE\"          : __VIEWSTATE\n",
    "    }\n",
    "\n",
    "        \n",
    "    \n",
    "### main\n",
    "url = \"https://www.taiwanlottery.com.tw/Lotto/Lotto649/history.aspx\"\n",
    "\n",
    "headers = {\n",
    "    \"User-Agent\": \"Mozilla/5.0 (Windows NT 10.0; Win64; x64) AppleWebKit/537.36 (KHTML, like Gecko) Chrome/80.0.3987.149 Safari/537.36\",\n",
    "    \"Host\": \"www.taiwanlottery.com.tw\",\n",
    "    \"Origin\": \"https://www.taiwanlottery.com.tw\",\n",
    "    \"Referer\": \"https://www.taiwanlottery.com.tw/Lotto/Lotto649/history.aspx\"\n",
    "}\n",
    "\n",
    "\n",
    "payload = {\n",
    "    \"__EVENTTARGET\" : \"\", \n",
    "    \"__EVENTARGUMENT\": \"\",\n",
    "    \"__LASTFOCUS\": \"\",\n",
    "    \"__VIEWSTATE\": \"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\",\n",
    "    \"__VIEWSTATEGENERATOR\": \"11E838D2\",\n",
    "    \"__EVENTVALIDATION\": \"w+eqk6jHTE6p6iGmzQa/NUm2Qm+fDGf25IrTo2zqNpCo+HyXa+APQNildYGmQyLGyDRy7fma9W2616RKDhDTNxrWbNevVypv4okRuVF+TBG8aZ5rPkf8eHW5mb8Rr9Xe0ee8u/HNROQ9TkUetVwb0Hs5gqi+US1gJb2KxxTATSnMirZfKjDiKyMoqZbeIi9w6j0cZt8yB8ckC5lmRGxpxURhp1U/BB3WqjJRzcNZE2eJeBQOyPHug1ikwFKhEHCo5Ard3GcOKtvCke8eMmy0yxwkR4RdMQ0eBabivge0qtb0SLTdOlWEALAI/n/KBfTXjiL5DDz9wkFEHlnNZ6fQubE8uBP42RcyQpO7IKm34Ld2kz383PB1w8BsM+EBl7dr1qq5Y2yIZ0wRaUW574A2KIJTauhJg6fMmp2ZwcAuljPa21RutluxpbiOVOAL8dLHWf4RUC4DYw6KBPl/AD1cizYNrdc7mS12XWJEaz7fHiftze/8AgTCun+Vg6P8EjPG2GiXbCJKJOWI6g2/fw1bh4mBUoLiTK377hspWRXCTnk9wu6jLel0BSMA5YRbRzT5rLa0GECHiqJejV6utVQXd5MAv8LeQh6y3w/E/gTQRmCgIgt68YRZ/yGil3bN/F4hrrtmzDPrNerm6/1fy/1SDCC55eTSYvfowgjgqpVPdJgl3lgzVge1lPCE0t9bNN+M93vNGLpHIpkBKh2FgkueUm8aZvk1ZZsrJUlsaVIDAxFxEJkQJijLr5+0gPaQaglqelWOlE2fMpIBV1+pxHe2itHCHmTHlATcTLAqJVHqOb+mbh/d/PU1jKa2Zp+plqfpRPI3hS7LvzRpqUZ5Vzr57A7HWfE=\",\n",
    "    \"Lotto649Control_history$DropDownList1\": \"2\" ,\n",
    "    \"Lotto649Control_history$chk\": \"radYM\" ,\n",
    "    \"Lotto649Control_history$dropYear\": \"108\" ,\n",
    "    \"Lotto649Control_history$dropMonth\": \"\" ,\n",
    "    \"Lotto649Control_history$btnSubmit\": \"查詢\"\n",
    "}\n",
    "\n",
    "\n",
    "\n",
    "\n",
    "dataList = []\n",
    "\n",
    "\n",
    "for month in range(1,6):\n",
    "    \n",
    "    payload[\"Lotto649Control_history$dropMonth\"] = month\n",
    "    \n",
    "    res = requests.post(url,headers=headers, data = payload )\n",
    "    \n",
    "    soup = bs(res.text,\"lxml\")\n",
    "    \n",
    "    result = get_clear_data(soup)\n",
    "    \n",
    "    dataList += result\n",
    "    \n",
    "    hidden_params = parsing_hidden_params(soup)\n",
    "    \n",
    "    payload[\"__VIEWSTATE\"]          = hidden_params[\"__VIEWSTATE\"]\n",
    "    payload[\"__VIEWSTATEGENERATOR\"] = hidden_params[\"__VIEWSTATEGENERATOR\"]\n",
    "    payload[\"__EVENTVALIDATION\"]    = hidden_params[\"__EVENTVALIDATION\"]\n",
    "\n",
    "    \n",
    "    print(\"{}月完成!\".format(month))\n",
    "    \n",
    "\n",
    "print(\"Done.\")\n",
    "\n"
   ]
  },
  {
   "cell_type": "code",
   "execution_count": 94,
   "metadata": {
    "scrolled": false
   },
   "outputs": [
    {
     "name": "stdout",
     "output_type": "stream",
     "text": [
      "qQRIh64ta+njztXKlJgUfi3sdXrwoJ/wiGhXvbzP2bJSBnqc8IRzMnG0WTON31AQ6OvO2Now1q2pGLbY0W6+wu9zO6bj+Gc9vsU4FCmBm25JfMNzJcEk0lYovh5UwWiTAu+IE/1Ee0M68XqvKtJ+DRlr1ER3KbAZ7K1eStwQq62vS6jfh923VjOcN1GIpZ45xezPrgaWjG7yp5feRMQ9vNWvMQs3iMir6K2BY+J+NLoV7gh7Cdcr1VItI9akKRL8jDjeGU3bRB3XTPWLjS3/5R/Rw4Ts8z4bGlnV1grjr1k9WPRJFL3s6SEbXbMDF1PyEgrdV4OMyeGCNYUAjDIPjb0nWbOkTOFRQsXXoKIXZgE5w6bWv9y3uXoY35o/H+jbQLTvTf9W8x5iA4ci4bVa2izYhxoB4x9HATVW4U9ZK2aMG1oehR84L9OmP79eCmIob2VNXR+ICi/RXvSwCiQ2Kx/7CLxUzeeBQj1Te2IsZ4IR26FM+mLWPvafEpvpwj6pOeVik//DXs2QPp7CKwKRZeq8qQvAilH2AGa2ILjDPC4IK9AUTSSlI2fylw9bx+XtObHaGI9T+DaB6q50IzCutnNaTf2/bDBnunJmME6Ev+w16i4CNgDETf8YwDAKpvdLawlPn5n1yrlaYHbnXeA82Mxa62o+1/a8ZE2rPlEDE5aQSFgRaCwHxvd4cshfFphRqdb5RgBe0JZAltTgWfLkoT6f6aMlIXHA5gU90jklOpA9lkbM1NuDjEAMWnXtKlLnxdx5i5qOLMcX075vgjTDKoyIp9FIN3bt+oKvlX0y/Kp/Ew0s2dUgmMrz3dbAzijx4ErUiNwOBG1Cia+UNegxQtxFByI=\n"
     ]
    }
   ],
   "source": [
    "### 取得第一次隱藏參數\n",
    "\n",
    "url = \"https://www.taiwanlottery.com.tw/Lotto/Lotto649/history.aspx\"\n",
    "\n",
    "headers = {\n",
    "    \"User-Agent\": \"Mozilla/5.0 (Windows NT 10.0; Win64; x64) AppleWebKit/537.36 (KHTML, like Gecko) Chrome/80.0.3987.149 Safari/537.36\",\n",
    "    \"Host\": \"www.taiwanlottery.com.tw\",\n",
    "    \"Origin\": \"https://www.taiwanlottery.com.tw\",\n",
    "    \"Referer\": \"https://www.taiwanlottery.com.tw/Lotto/Lotto649/history.aspx\"\n",
    "}\n",
    "\n",
    "res  = requests.get(url,headers=headers)\n",
    "soup = bs(res.text,\"lxml\")\n",
    "hidden_params = parsing_hidden_params(soup)\n",
    "\n",
    "print(hidden_params[\"__EVENTVALIDATION\"])\n"
   ]
  },
  {
   "cell_type": "code",
   "execution_count": 103,
   "metadata": {},
   "outputs": [
    {
     "name": "stdout",
     "output_type": "stream",
     "text": [
      "1月完成!\n",
      "2月完成!\n",
      "3月完成!\n",
      "4月完成!\n",
      "5月完成!\n",
      "6月完成!\n",
      "7月完成!\n",
      "8月完成!\n",
      "9月完成!\n",
      "Done.\n"
     ]
    }
   ],
   "source": [
    "## 組合程式\n",
    "## 新版 , 第一次取隱藏參數自動化\n",
    "\n",
    "import requests\n",
    "from bs4 import BeautifulSoup as bs \n",
    "\n",
    "def get_clear_data(soup):\n",
    "   \n",
    "    raw_data = soup.find_all(\"table\",{\"class\":[\"table_org\",\"table_gre\"]})\n",
    "    \n",
    "    result = []\n",
    "\n",
    "    for ele in raw_data:\n",
    "\n",
    "        ## 期別\n",
    "        lotto_no = ele.select(\"tr\")[1].select(\"td\")[0].text\n",
    "\n",
    "        ## 開獎日\n",
    "        lotto_time = ele.select(\"tr\")[1].select(\"td\")[1].text.strip()\n",
    "\n",
    "        ## 號碼\n",
    "        td_tags = ele.select(\"tr\")[4].select(\"td\")\n",
    "\n",
    "        # lotto_numbers = []\n",
    "\n",
    "        # for td in td_tags[1:]:\n",
    "        #     print(td)\n",
    "        #     lotto_numbers.append(td.text.strip())\n",
    "\n",
    "        lotto_numbers = [ td.text.strip() for td in td_tags[1:] ]\n",
    "\n",
    "        data = {\n",
    "            \"no\"      : lotto_no,\n",
    "            \"time\"    : lotto_time,\n",
    "            \"numbers\" : lotto_numbers\n",
    "        }\n",
    "\n",
    "        result.append(data)\n",
    "\n",
    "    return result\n",
    "\n",
    "\n",
    "def parsing_hidden_params(soup):\n",
    "\n",
    "    __VIEWSTATEGENERATOR = soup.select(\"input#__VIEWSTATEGENERATOR\")[0][\"value\"]\n",
    "    __EVENTVALIDATION    = soup.select(\"input#__EVENTVALIDATION\")[0][\"value\"]\n",
    "    __VIEWSTATE          = soup.select(\"input#__VIEWSTATE\")[0][\"value\"]\n",
    "    \n",
    "    return {\n",
    "        \"__VIEWSTATEGENERATOR\" : __VIEWSTATEGENERATOR,\n",
    "        \"__EVENTVALIDATION\"    : __EVENTVALIDATION,\n",
    "        \"__VIEWSTATE\"          : __VIEWSTATE\n",
    "    }\n",
    "\n",
    "        \n",
    "    \n",
    "### main\n",
    "url = \"https://www.taiwanlottery.com.tw/Lotto/Lotto649/history.aspx\"\n",
    "\n",
    "headers = {\n",
    "    \"User-Agent\": \"Mozilla/5.0 (Windows NT 10.0; Win64; x64) AppleWebKit/537.36 (KHTML, like Gecko) Chrome/80.0.3987.149 Safari/537.36\",\n",
    "    \"Host\": \"www.taiwanlottery.com.tw\",\n",
    "    \"Origin\": \"https://www.taiwanlottery.com.tw\",\n",
    "    \"Referer\": \"https://www.taiwanlottery.com.tw/Lotto/Lotto649/history.aspx\"\n",
    "}\n",
    "\n",
    "\n",
    "### 取得第一次隱藏參數\n",
    "res  = requests.get(url,headers=headers)\n",
    "soup = bs(res.text,\"lxml\")\n",
    "hidden_params = parsing_hidden_params(soup)\n",
    "\n",
    "\n",
    "payload = {\n",
    "    \"__EVENTTARGET\" : \"\", \n",
    "    \"__EVENTARGUMENT\": \"\",\n",
    "    \"__LASTFOCUS\": \"\",\n",
    "    \"__VIEWSTATE\"         : hidden_params[\"__VIEWSTATE\"],\n",
    "    \"__VIEWSTATEGENERATOR\": hidden_params[\"__VIEWSTATEGENERATOR\"],\n",
    "    \"__EVENTVALIDATION\"   : hidden_params[\"__EVENTVALIDATION\"],\n",
    "    \"Lotto649Control_history$DropDownList1\": \"2\" ,\n",
    "    \"Lotto649Control_history$chk\": \"radYM\" ,\n",
    "    \"Lotto649Control_history$dropYear\": \"107\" ,\n",
    "    \"Lotto649Control_history$dropMonth\": \"\" ,\n",
    "    \"Lotto649Control_history$btnSubmit\": \"查詢\"\n",
    "}\n",
    "\n",
    "\n",
    "dataList = []\n",
    "\n",
    "# 抓取 1~5 月資料\n",
    "for month in range(1,10):\n",
    "    \n",
    "    payload[\"Lotto649Control_history$dropMonth\"] = month\n",
    "    \n",
    "    res = requests.post(url,headers=headers, data = payload )\n",
    "    \n",
    "    soup = bs(res.text,\"lxml\")\n",
    "    \n",
    "    result = get_clear_data(soup)\n",
    "    \n",
    "    dataList += result\n",
    "    \n",
    "    hidden_params = parsing_hidden_params(soup)\n",
    "    \n",
    "    payload[\"__VIEWSTATE\"]          = hidden_params[\"__VIEWSTATE\"]\n",
    "    payload[\"__VIEWSTATEGENERATOR\"] = hidden_params[\"__VIEWSTATEGENERATOR\"]\n",
    "    payload[\"__EVENTVALIDATION\"]    = hidden_params[\"__EVENTVALIDATION\"]\n",
    "\n",
    "    \n",
    "    print(\"{}月完成!\".format(month))\n",
    "    \n",
    "\n",
    "print(\"Done.\")\n"
   ]
  },
  {
   "cell_type": "code",
   "execution_count": 114,
   "metadata": {
    "scrolled": true
   },
   "outputs": [
    {
     "name": "stdout",
     "output_type": "stream",
     "text": [
      "{'no': '107000001', 'time': '107/01/02', 'numbers': ['02', '06', '12', '18', '36', '46', '47']}\n",
      "{'no': '107000002', 'time': '107/01/05', 'numbers': ['04', '13', '17', '29', '31', '44', '14']}\n",
      "{'no': '107000003', 'time': '107/01/09', 'numbers': ['02', '10', '22', '23', '24', '37', '42']}\n",
      "{'no': '107000004', 'time': '107/01/12', 'numbers': ['01', '07', '14', '22', '40', '45', '29']}\n",
      "{'no': '107000005', 'time': '107/01/16', 'numbers': ['08', '26', '29', '32', '36', '39', '23']}\n",
      "{'no': '107000006', 'time': '107/01/19', 'numbers': ['02', '13', '16', '22', '26', '48', '39']}\n",
      "{'no': '107000007', 'time': '107/01/23', 'numbers': ['02', '12', '26', '28', '33', '34', '44']}\n",
      "{'no': '107000008', 'time': '107/01/26', 'numbers': ['07', '23', '32', '34', '43', '47', '24']}\n",
      "{'no': '107000009', 'time': '107/01/30', 'numbers': ['07', '08', '15', '23', '31', '36', '30']}\n",
      "{'no': '107000010', 'time': '107/02/02', 'numbers': ['01', '02', '10', '11', '26', '43', '40']}\n",
      "{'no': '107000011', 'time': '107/02/06', 'numbers': ['06', '10', '24', '27', '41', '43', '49']}\n",
      "{'no': '107000012', 'time': '107/02/09', 'numbers': ['12', '17', '20', '21', '30', '45', '09']}\n",
      "{'no': '107000013', 'time': '107/02/13', 'numbers': ['04', '10', '19', '26', '35', '45', '38']}\n",
      "{'no': '107000014', 'time': '107/02/15', 'numbers': ['07', '21', '22', '37', '41', '48', '15']}\n",
      "{'no': '107000015', 'time': '107/02/16', 'numbers': ['04', '07', '23', '24', '27', '41', '17']}\n",
      "{'no': '107000016', 'time': '107/02/17', 'numbers': ['03', '05', '17', '32', '33', '47', '36']}\n",
      "{'no': '107000017', 'time': '107/02/18', 'numbers': ['07', '08', '20', '28', '34', '46', '10']}\n",
      "{'no': '107000018', 'time': '107/02/19', 'numbers': ['07', '09', '19', '22', '36', '49', '29']}\n",
      "{'no': '107000019', 'time': '107/02/20', 'numbers': ['12', '33', '34', '38', '40', '46', '07']}\n",
      "{'no': '107000020', 'time': '107/02/23', 'numbers': ['03', '07', '15', '16', '18', '41', '42']}\n",
      "{'no': '107000021', 'time': '107/02/27', 'numbers': ['01', '03', '18', '23', '28', '44', '10']}\n",
      "{'no': '107000022', 'time': '107/03/02', 'numbers': ['01', '12', '17', '25', '31', '48', '21']}\n",
      "{'no': '107000023', 'time': '107/03/06', 'numbers': ['09', '11', '13', '17', '38', '42', '29']}\n",
      "{'no': '107000024', 'time': '107/03/09', 'numbers': ['12', '15', '18', '27', '30', '38', '19']}\n",
      "{'no': '107000025', 'time': '107/03/13', 'numbers': ['14', '20', '22', '27', '28', '38', '19']}\n",
      "{'no': '107000026', 'time': '107/03/16', 'numbers': ['03', '14', '16', '17', '43', '46', '04']}\n",
      "{'no': '107000027', 'time': '107/03/20', 'numbers': ['08', '09', '23', '30', '37', '41', '31']}\n",
      "{'no': '107000028', 'time': '107/03/23', 'numbers': ['04', '09', '13', '32', '34', '41', '42']}\n",
      "{'no': '107000029', 'time': '107/03/27', 'numbers': ['13', '15', '24', '30', '38', '40', '44']}\n",
      "{'no': '107000030', 'time': '107/03/30', 'numbers': ['01', '05', '13', '43', '44', '47', '25']}\n",
      "{'no': '107000031', 'time': '107/04/03', 'numbers': ['01', '07', '22', '32', '34', '36', '08']}\n",
      "{'no': '107000032', 'time': '107/04/06', 'numbers': ['07', '25', '31', '34', '47', '49', '26']}\n",
      "{'no': '107000033', 'time': '107/04/10', 'numbers': ['07', '27', '32', '34', '41', '47', '09']}\n",
      "{'no': '107000034', 'time': '107/04/13', 'numbers': ['01', '12', '25', '28', '40', '46', '39']}\n",
      "{'no': '107000035', 'time': '107/04/17', 'numbers': ['07', '16', '31', '38', '40', '41', '39']}\n",
      "{'no': '107000036', 'time': '107/04/20', 'numbers': ['10', '14', '32', '33', '35', '46', '43']}\n",
      "{'no': '107000037', 'time': '107/04/24', 'numbers': ['09', '10', '19', '21', '35', '36', '49']}\n",
      "{'no': '107000038', 'time': '107/04/27', 'numbers': ['04', '25', '26', '27', '30', '48', '11']}\n",
      "{'no': '107000039', 'time': '107/05/01', 'numbers': ['08', '29', '33', '34', '46', '49', '19']}\n",
      "{'no': '107000040', 'time': '107/05/04', 'numbers': ['10', '22', '30', '33', '36', '47', '43']}\n",
      "{'no': '107000041', 'time': '107/05/08', 'numbers': ['03', '08', '21', '22', '37', '41', '46']}\n",
      "{'no': '107000042', 'time': '107/05/11', 'numbers': ['04', '11', '25', '35', '37', '48', '36']}\n",
      "{'no': '107000043', 'time': '107/05/15', 'numbers': ['02', '12', '13', '16', '32', '43', '24']}\n",
      "{'no': '107000044', 'time': '107/05/18', 'numbers': ['01', '11', '36', '38', '41', '42', '48']}\n",
      "{'no': '107000045', 'time': '107/05/22', 'numbers': ['02', '13', '24', '29', '41', '49', '45']}\n",
      "{'no': '107000046', 'time': '107/05/25', 'numbers': ['01', '06', '22', '24', '32', '42', '16']}\n",
      "{'no': '107000047', 'time': '107/05/29', 'numbers': ['11', '14', '20', '26', '37', '41', '02']}\n",
      "{'no': '107000048', 'time': '107/06/01', 'numbers': ['16', '26', '28', '33', '42', '49', '20']}\n",
      "{'no': '107000049', 'time': '107/06/05', 'numbers': ['02', '17', '22', '25', '26', '41', '16']}\n",
      "{'no': '107000050', 'time': '107/06/08', 'numbers': ['02', '09', '17', '31', '32', '40', '47']}\n",
      "{'no': '107000051', 'time': '107/06/12', 'numbers': ['02', '03', '14', '15', '35', '37', '29']}\n",
      "{'no': '107000052', 'time': '107/06/15', 'numbers': ['16', '25', '28', '30', '44', '46', '27']}\n",
      "{'no': '107000053', 'time': '107/06/19', 'numbers': ['08', '09', '28', '34', '37', '42', '15']}\n",
      "{'no': '107000054', 'time': '107/06/22', 'numbers': ['06', '07', '11', '25', '26', '30', '31']}\n",
      "{'no': '107000055', 'time': '107/06/26', 'numbers': ['05', '09', '11', '23', '37', '44', '24']}\n",
      "{'no': '107000056', 'time': '107/06/29', 'numbers': ['04', '13', '27', '30', '37', '41', '20']}\n",
      "{'no': '107000057', 'time': '107/07/03', 'numbers': ['09', '11', '20', '31', '34', '44', '10']}\n",
      "{'no': '107000058', 'time': '107/07/06', 'numbers': ['02', '03', '21', '28', '32', '47', '27']}\n",
      "{'no': '107000059', 'time': '107/07/10', 'numbers': ['09', '11', '21', '24', '39', '43', '07']}\n",
      "{'no': '107000060', 'time': '107/07/13', 'numbers': ['02', '14', '21', '31', '42', '46', '04']}\n",
      "{'no': '107000061', 'time': '107/07/17', 'numbers': ['11', '20', '26', '34', '41', '43', '09']}\n",
      "{'no': '107000062', 'time': '107/07/20', 'numbers': ['09', '12', '13', '24', '39', '45', '38']}\n",
      "{'no': '107000063', 'time': '107/07/24', 'numbers': ['24', '25', '29', '32', '42', '49', '12']}\n",
      "{'no': '107000064', 'time': '107/07/27', 'numbers': ['05', '12', '17', '19', '35', '48', '09']}\n",
      "{'no': '107000065', 'time': '107/07/31', 'numbers': ['15', '20', '22', '31', '35', '37', '14']}\n",
      "{'no': '107000066', 'time': '107/08/03', 'numbers': ['04', '06', '30', '35', '40', '43', '13']}\n",
      "{'no': '107000067', 'time': '107/08/07', 'numbers': ['12', '13', '19', '25', '30', '46', '05']}\n",
      "{'no': '107000068', 'time': '107/08/10', 'numbers': ['05', '07', '16', '18', '36', '48', '37']}\n",
      "{'no': '107000069', 'time': '107/08/14', 'numbers': ['15', '16', '17', '25', '34', '49', '05']}\n",
      "{'no': '107000070', 'time': '107/08/17', 'numbers': ['03', '14', '19', '21', '35', '48', '13']}\n",
      "{'no': '107000071', 'time': '107/08/21', 'numbers': ['08', '12', '17', '28', '31', '34', '01']}\n",
      "{'no': '107000072', 'time': '107/08/24', 'numbers': ['03', '07', '09', '31', '39', '45', '35']}\n",
      "{'no': '107000073', 'time': '107/08/28', 'numbers': ['08', '10', '11', '39', '42', '44', '27']}\n",
      "{'no': '107000074', 'time': '107/08/31', 'numbers': ['12', '15', '34', '37', '43', '46', '38']}\n",
      "{'no': '107000075', 'time': '107/09/04', 'numbers': ['04', '06', '10', '15', '42', '49', '12']}\n",
      "{'no': '107000076', 'time': '107/09/07', 'numbers': ['02', '08', '14', '21', '37', '44', '49']}\n",
      "{'no': '107000077', 'time': '107/09/11', 'numbers': ['14', '16', '18', '23', '25', '44', '41']}\n",
      "{'no': '107000078', 'time': '107/09/14', 'numbers': ['19', '29', '36', '37', '45', '46', '18']}\n",
      "{'no': '107000079', 'time': '107/09/18', 'numbers': ['11', '23', '34', '36', '41', '45', '43']}\n",
      "{'no': '107000080', 'time': '107/09/21', 'numbers': ['03', '05', '10', '11', '29', '45', '25']}\n",
      "{'no': '107000081', 'time': '107/09/25', 'numbers': ['19', '25', '27', '39', '40', '46', '06']}\n",
      "{'no': '107000082', 'time': '107/09/28', 'numbers': ['01', '02', '07', '20', '27', '37', '19']}\n"
     ]
    }
   ],
   "source": [
    "# for ele in dataList:\n",
    "#     print(ele)\n",
    "\n",
    "# [{},{},{},...]\n",
    "\n",
    "sorted_data = sorted(dataList , key= lambda ele : ele[\"no\"])\n",
    "\n",
    "for ele in sorted_data:\n",
    "    print(ele)\n",
    "    \n",
    "# print(sorted_data)"
   ]
  },
  {
   "cell_type": "code",
   "execution_count": 105,
   "metadata": {},
   "outputs": [
    {
     "name": "stdout",
     "output_type": "stream",
     "text": [
      "[-2, 0, 7, 32, 100]\n"
     ]
    }
   ],
   "source": [
    "a = [0,-2,100,32,7]\n",
    "print(sorted(a))"
   ]
  },
  {
   "cell_type": "code",
   "execution_count": 130,
   "metadata": {
    "scrolled": true
   },
   "outputs": [],
   "source": [
    "### Bonus 1:\n",
    "### res.json()\n",
    "\n",
    "url3 = \"https://news.ltn.com.tw/list/breakingnews\"\n",
    "res3 = requests.get(url3)\n",
    "soup3 = bs(res3.text,\"lxml\")\n",
    "\n",
    "# print(soup3.select(\"li[data-page='1']\"))\n",
    "# print(soup3.select(\"li\"))\n"
   ]
  },
  {
   "cell_type": "code",
   "execution_count": 127,
   "metadata": {},
   "outputs": [
    {
     "name": "stdout",
     "output_type": "stream",
     "text": [
      "{'code': 200, 'data': {'120': {'no': '3115644', 'title': '恐佈！大型綠鬣蜥攀附樹幹 宛若恐龍在樹上睡覺', 'bigphoto_flag': '0', 'photo_S': 'http://img.ltn.com.tw/Upload/news/300/2020/03/28/3115644_1_1.jpg', 'photo_L': 'http://img.ltn.com.tw/Upload/news/600/2020/03/28/3115644_1_1.jpg', 'url': 'http://news.ltn.com.tw/news/life/breakingnews/3115644', 'time': '12:44', 'type_en': 'life', 'group': 'breakingnews', 'type_cn': '生活', 'local': '嘉義縣', 'summary': '\\u3000恐龍在樹上睡覺？\\u3000嘉義縣野鳥學會理事長陳建樺日前到八掌溪拍攝時，在嘉義縣、市交界軍輝橋下游一棵「山麻黃」樹，發現一隻大綠鬣蜥攀附在約4公尺高的樹幹，用空拍機拍下宛若恐龍在...', 'video': '0', 'localUrl': 'list/breakingnews/ChiayiCounty', 'tagUrl': 'list/breakingnews/life', 'style': None, 'tagText': '生活'}, '121': {'no': '3115603', 'title': '武漢肺炎》印度「毒王」現身 20個村莊共4萬人被隔離', 'bigphoto_flag': '0', 'photo_S': 'http://img.ltn.com.tw/Upload/news/300/2020/03/28/phpA7EGMu.jpg', 'photo_L': 'http://img.ltn.com.tw/Upload/news/600/2020/03/28/phpA7EGMu.jpg', 'url': 'http://news.ltn.com.tw/news/world/breakingnews/3115603', 'time': '12:44', 'type_en': 'world', 'group': 'breakingnews', 'type_cn': '國際', 'local': False, 'summary': '受到武漢肺炎疫情影響，印度日前宣布全國封鎖21天，並建議民眾最好在必須購買食物和藥品時才出門。儘管如此，旁遮普邦仍出現「超級傳播者」，一共感染19人並造成附近20個村莊4萬人被隔...', 'video': '0', 'localUrl': '', 'tagUrl': 'list/breakingnews/world', 'style': None, 'tagText': '國際'}, '122': {'no': '3115647', 'title': '蘇貞昌約見陳家欽   要陳堅守崗位證明清白對錯', 'bigphoto_flag': '0', 'photo_S': 'http://img.ltn.com.tw/Upload/news/300/2020/03/28/3115647_1_1.jpg', 'photo_L': 'http://img.ltn.com.tw/Upload/news/600/2020/03/28/3115647_1_1.jpg', 'url': 'http://news.ltn.com.tw/news/politics/breakingnews/3115647', 'time': '12:43', 'type_en': 'politics', 'group': 'breakingnews', 'type_cn': '政治', 'local': '臺中市', 'summary': '內政部長徐國勇以警政署長陳家欽處理警方人事案涉及偽造文書為由函送法辦，遭到檢方退件，此事引發政壇軒然大波，行政院長蘇貞昌今表示，在當前疫情嚴峻的此時此刻，「國人同胞一定看不懂為...', 'video': '0', 'localUrl': 'list/breakingnews/Taichung', 'tagUrl': 'list/breakingnews/politics', 'style': None, 'tagText': '政治'}, '123': {'no': '3115636', 'title': '武漢肺炎》防疫無礙拚治安 竹市警秀查緝毒品槍彈成果', 'bigphoto_flag': '0', 'photo_S': 'http://img.ltn.com.tw/Upload/news/300/2020/03/28/3115636_1_1.jpg', 'photo_L': 'http://img.ltn.com.tw/Upload/news/600/2020/03/28/3115636_1_1.jpg', 'url': 'http://news.ltn.com.tw/news/society/breakingnews/3115636', 'time': '12:42', 'type_en': 'society', 'group': 'breakingnews', 'type_cn': '社會', 'local': '新竹市', 'summary': '武漢肺炎疫情在全球延燒，各級政府機關積極防疫，新竹市警方除全力投入防疫工作外，也強力維護竹市治安，總計今年前3月，新竹市警方總計查獲毒品藥頭26人、各級毒品超過6公斤、非法槍械...', 'video': '0', 'localUrl': 'list/breakingnews/HsinchuCity', 'tagUrl': 'list/breakingnews/society', 'style': None, 'tagText': '社會'}, '124': {'no': '3115617', 'title': '林佳龍：台鐵搭乘人數減3成 減收租金、權利金', 'bigphoto_flag': '0', 'photo_S': 'http://img.ltn.com.tw/Upload/news/300/2020/03/28/3115617_1_1.jpg', 'photo_L': 'http://img.ltn.com.tw/Upload/news/600/2020/03/28/3115617_1_1.jpg', 'url': 'http://news.ltn.com.tw/news/life/breakingnews/3115617', 'time': '12:41', 'type_en': 'life', 'group': 'breakingnews', 'type_cn': '生活', 'local': False, 'summary': '武漢肺炎疫情升溫，民眾減少外出，也影響大眾運輸產業。交通部長林佳龍今日指出，台鐵搭乘人數跟相對應營業額降低約3成。繼機場商店、餐飲店權利金補貼後，台鐵車站內相關承租業者，從4月...', 'video': '0', 'localUrl': '', 'tagUrl': 'list/breakingnews/life', 'style': None, 'tagText': '生活'}, '125': {'no': '3115635', 'title': '清明為什麼有4天連假 民眾霧煞煞', 'bigphoto_flag': '0', 'photo_S': 'http://img.ltn.com.tw/Upload/news/300/2020/03/28/3115635_1_1.jpg', 'photo_L': 'http://img.ltn.com.tw/Upload/news/600/2020/03/28/3115635_1_1.jpg', 'url': 'http://news.ltn.com.tw/news/life/breakingnews/3115635', 'time': '12:40', 'type_en': 'life', 'group': 'breakingnews', 'type_cn': '生活', 'local': '雲林縣', 'summary': '今年清明節有4天連假，4月2日（週四）休到4月5日（週日），很多人都不知道為什麼放連假，還有人誤以為「政府算錯了，不要聲張...」。有學生家長聽到孩子說，兒童節放4天連假，...', 'video': '0', 'localUrl': 'list/breakingnews/Yunlin', 'tagUrl': 'list/breakingnews/life', 'style': None, 'tagText': '生活'}, '126': {'no': '3115627', 'title': '台中槍擊犯自越南遣返過程曝光 警方防疫超嚴密...', 'bigphoto_flag': '0', 'photo_S': 'http://img.ltn.com.tw/Upload/news/300/2020/03/28/3115627_2_1.jpg', 'photo_L': 'http://img.ltn.com.tw/Upload/news/600/2020/03/28/3115627_2_1.jpg', 'url': 'http://news.ltn.com.tw/news/society/breakingnews/3115627', 'time': '12:36', 'type_en': 'society', 'group': 'breakingnews', 'type_cn': '社會', 'local': '臺中市', 'summary': '去年11月在台中市開槍打傷1人的何姓槍擊要犯，犯案翌日潛逃到越南，本月25日越南警方在胡志明市一家飯店抓到他，但此時正值中國武漢肺炎防疫期間，萬一胡男染病，回台恐成防疫破口，刑...', 'video': '1', 'localUrl': 'list/breakingnews/Taichung', 'tagUrl': 'list/breakingnews/society', 'style': None, 'tagText': '社會'}, '127': {'no': '39936', 'title': '下一代 Apple Watch 重點升級曝光！iPhone 經典功能也用上了', 'bigphoto_flag': '0', 'photo_S': 'http://img.ltn.com.tw/Upload/3c/page/2020/03/28/300x200/200328-39936-1.png', 'photo_L': 'http://img.ltn.com.tw/Upload/3c/page/2020/03/28/500x300/200328-39936-1.png', 'url': 'http://3c.ltn.com.tw/news/39936', 'time': '12:36', 'type_en': '', 'group': '3c', 'type_cn': '', 'local': False, 'summary': '國外科技網站《The Verifier》最新爆料指稱，未來 Apple Watch 或將用上 Touch ID 指紋辨識', 'video': '0', 'localUrl': '', 'tagUrl': 'list/3c/3c', 'style': None, 'tagText': '3C'}, '128': {'no': '3115630', 'title': '武漢肺炎》疫情衝擊消費爭議多 中市府提供免費諮詢', 'bigphoto_flag': '0', 'photo_S': 'http://img.ltn.com.tw/Upload/news/300/2020/03/28/3115630_1_1.jpg', 'photo_L': 'http://img.ltn.com.tw/Upload/news/600/2020/03/28/3115630_1_1.jpg', 'url': 'http://news.ltn.com.tw/news/life/breakingnews/3115630', 'time': '12:35', 'type_en': 'life', 'group': 'breakingnews', 'type_cn': '生活', 'local': '臺中市', 'summary': '武漢肺炎疫情持續延燒，衍生不少消費爭議。台中市政府法制局今（28）日表示，市民有消費爭議要申訴，避免造成群聚感染，可在上班時間撥打利用全國性消費者服務專線1950或電洽04-2...', 'video': '0', 'localUrl': 'list/breakingnews/Taichung', 'tagUrl': 'list/breakingnews/life', 'style': None, 'tagText': '生活'}, '129': {'no': '3115629', 'title': '黃鼠狼大啖過山刀 攝影達人捕捉罕見畫面', 'bigphoto_flag': '0', 'photo_S': 'http://img.ltn.com.tw/Upload/news/300/2020/03/28/3115629_1_1.jpg', 'photo_L': 'http://img.ltn.com.tw/Upload/news/600/2020/03/28/3115629_1_1.jpg', 'url': 'http://news.ltn.com.tw/news/life/breakingnews/3115629', 'time': '12:28', 'type_en': 'life', 'group': 'breakingnews', 'type_cn': '生活', 'local': '嘉義縣', 'summary': '攝影達人王士昇3月26日晚上到嘉義縣竹崎鄉文峰村山區尋找拍攝題材時，無意間看到產業道路擋土牆旁有一隻罕見的黃鼠狼正在吃過山刀（蛇），可能黃鼠狼過於專注，降低警覺性，讓他可以捕捉...', 'video': '0', 'localUrl': 'list/breakingnews/ChiayiCounty', 'tagUrl': 'list/breakingnews/life', 'style': None, 'tagText': '生活'}, '130': {'no': '3115539', 'title': 'NBA》上場前還會緊張 字母哥展現對球賽的重視', 'bigphoto_flag': '0', 'photo_S': 'http://img.ltn.com.tw/Upload/sports/page/400S/2020/03/28/phpExW6sL.jpg', 'photo_L': 'http://img.ltn.com.tw/Upload/sports/page/800S/2020/03/28/phpExW6sL.jpg', 'url': 'http://sports.ltn.com.tw/news/breakingnews/3115539', 'time': '12:25', 'type_en': 'sports', 'group': 'breakingnews', 'type_cn': '體育', 'local': False, 'summary': '\\n最近NBA因武漢肺炎而停賽，許多球員就利用社群媒體與球迷們做互動，分享平常球賽大小事及看法，公鹿當家球星「字母哥」亞德托昆波（Giannis Antetokounmpo）就...', 'video': '0', 'localUrl': '', 'tagUrl': 'list/breakingnews/sports', 'style': None, 'tagText': '體育'}, '131': {'no': '3115549', 'title': '武漢肺炎》美國又有2眾議員確診 國會議員累計5例', 'bigphoto_flag': '0', 'photo_S': 'http://img.ltn.com.tw/Upload/news/300/2020/03/28/phpJS01SD.jpg', 'photo_L': 'http://img.ltn.com.tw/Upload/news/600/2020/03/28/phpJS01SD.jpg', 'url': 'http://news.ltn.com.tw/news/world/breakingnews/3115549', 'time': '12:25', 'type_en': 'world', 'group': 'breakingnews', 'type_cn': '國際', 'local': False, 'summary': '中國武漢爆發的新型冠狀病毒疾病（COVID-19，下稱武漢肺炎）疫情持續延燒，美國民主黨籍眾議員康寧漢（Joe Cunningham）及共和黨籍眾議員凱利（Mike Kelly）...', 'video': '0', 'localUrl': '', 'tagUrl': 'list/breakingnews/world', 'style': None, 'tagText': '國際'}, '132': {'no': '3115616', 'title': '趙天麟、高閔琳相繼表態選主委 趙文男：民主老兵階段性任務已完成', 'bigphoto_flag': '0', 'photo_S': 'http://img.ltn.com.tw/Upload/news/300/2020/03/28/3115616_1_1.jpg', 'photo_L': 'http://img.ltn.com.tw/Upload/news/600/2020/03/28/3115616_1_1.jpg', 'url': 'http://news.ltn.com.tw/news/politics/breakingnews/3115616', 'time': '12:25', 'type_en': 'politics', 'group': 'breakingnews', 'type_cn': '政治', 'local': '高雄市', 'summary': '民進黨立委趙天麟與高市議員高閔琳，相繼表態投入民進黨高市黨部主委選舉，現任主委趙文男今指出，民主老兵在最後能完成新世代傳承工作、吾願足矣，呼籲大家放手讓新一代的青年同志們、勇敢...', 'video': '0', 'localUrl': 'list/breakingnews/Kaohsiung', 'tagUrl': 'list/breakingnews/politics', 'style': None, 'tagText': '政治'}, '133': {'no': '3115631', 'title': '武漢肺炎》「拜託請正視此次的病毒」運動家終結者哀悼好友驟逝', 'bigphoto_flag': '0', 'photo_S': 'http://img.ltn.com.tw/Upload/sports/page/400S/2020/03/28/phpfS3tM8.jpg', 'photo_L': 'http://img.ltn.com.tw/Upload/sports/page/800S/2020/03/28/phpfS3tM8.jpg', 'url': 'http://sports.ltn.com.tw/news/breakingnews/3115631', 'time': '12:23', 'type_en': 'sports', 'group': 'breakingnews', 'type_cn': '體育', 'local': False, 'summary': '\\n武漢肺炎疫情肆虐，美國成為全球確診數最多的國家，累計死亡人數達1581例，運動家終結者罕德瑞克斯（Liam Hendriks）的好友也在日前因染疫逝世，他除發文哀悼，也呼籲...', 'video': '0', 'localUrl': '', 'tagUrl': 'list/breakingnews/sports', 'style': None, 'tagText': '體育'}, '134': {'no': '3115575', 'title': '武漢肺炎》東京限出門！百貨超市停業 涉谷街頭超冷清', 'bigphoto_flag': '0', 'photo_S': 'http://img.ltn.com.tw/Upload/news/300/2020/03/28/phpK4wbsj.jpg', 'photo_L': 'http://img.ltn.com.tw/Upload/news/600/2020/03/28/phpK4wbsj.jpg', 'url': 'http://news.ltn.com.tw/news/world/breakingnews/3115575', 'time': '12:22', 'type_en': 'world', 'group': 'breakingnews', 'type_cn': '國際', 'local': '臺北市', 'summary': '武漢肺炎（COVID-19）疫情全球延燒，東京疫情緊張，東京都知事小池百合子昨日（27）召開記者會表示，東京「已接近宣布緊急狀態的邊緣」，再度呼籲民眾週末避免外出。東京多家百貨、...', 'video': '0', 'localUrl': 'list/breakingnews/Taipei', 'tagUrl': 'list/breakingnews/world', 'style': None, 'tagText': '國際'}, '135': {'no': '3115505', 'title': '武漢肺炎》武漢火車站解封！乘客紛紛湧入...搭車3步驟曝光', 'bigphoto_flag': '0', 'photo_S': 'http://img.ltn.com.tw/Upload/news/300/2020/03/28/php30yoYP.jpg', 'photo_L': 'http://img.ltn.com.tw/Upload/news/600/2020/03/28/php30yoYP.jpg', 'url': 'http://news.ltn.com.tw/news/world/breakingnews/3115505', 'time': '12:20', 'type_en': 'world', 'group': 'breakingnews', 'type_cn': '國際', 'local': '臺北市', 'summary': '武漢肺炎（COVID-19）疫情持續延燒，各國紛紛淪陷，疫情起源地的中國武漢卻開啟了封閉65天的火車站大門，恢復部分營運，許多乘客前往搭乘。據悉，乘客需要遵守3步驟，才能順利搭車...', 'video': '0', 'localUrl': 'list/breakingnews/Taipei', 'tagUrl': 'list/breakingnews/world', 'style': None, 'tagText': '國際'}, '136': {'no': '3115632', 'title': '陳時中、柯文哲同聲：未來一週是疫情發展關鍵', 'bigphoto_flag': '0', 'photo_S': 'http://img.ltn.com.tw/Upload/news/300/2020/03/28/3115632_1_1.jpg', 'photo_L': 'http://img.ltn.com.tw/Upload/news/600/2020/03/28/3115632_1_1.jpg', 'url': 'http://news.ltn.com.tw/news/life/breakingnews/3115632', 'time': '12:20', 'type_en': 'life', 'group': 'breakingnews', 'type_cn': '生活', 'local': False, 'summary': '惜食台灣行動協會「惜食廚房」今（28日）由衛生福利部長陳時中、台北市長柯文哲和新北市長侯友宜共同揭牌啟用，率先將便當送到7個醫院給醫護人員；陳時中說，國難當頭，歷史會記上一筆，...', 'video': '1', 'localUrl': '', 'tagUrl': 'list/breakingnews/life', 'style': None, 'tagText': '生活'}, '137': {'no': '3115626', 'title': '聶雲心疼辛龍    曾國城憶劉真「覺得她好像還在」', 'bigphoto_flag': '0', 'photo_S': 'http://img.ltn.com.tw/Upload/ent/page/400S/2020/03/28/php7AfTUH.jpg', 'photo_L': 'http://img.ltn.com.tw/Upload/ent/page/800S/2020/03/28/php7AfTUH.jpg', 'url': 'http://ent.ltn.com.tw/news/breakingnews/3115626', 'time': '12:17', 'type_en': 'entertainment', 'group': 'breakingnews', 'type_cn': '娛樂', 'local': False, 'summary': '\\n劉真不敵病魔逝世，享年44歲，靈堂設於一殯對面的龍巖會館3樓301室，25日起開放弔唁，劉真人緣極好，許多好友前往哀悼，今（28日）聶雲及曾國城一同前來，曾國城表示看到照...', 'video': '0', 'localUrl': '', 'tagUrl': 'list/breakingnews/entertainment', 'style': None, 'tagText': '娛樂'}, '138': {'no': '3115586', 'title': '同住家人若進行居家檢疫或隔離  彰化醫療長照機構員工須限縮工作範圍', 'bigphoto_flag': '0', 'photo_S': 'http://img.ltn.com.tw/Upload/news/300/2020/03/28/3115586_1_1.jpg', 'photo_L': 'http://img.ltn.com.tw/Upload/news/600/2020/03/28/3115586_1_1.jpg', 'url': 'http://news.ltn.com.tw/news/life/breakingnews/3115586', 'time': '12:16', 'type_en': 'life', 'group': 'breakingnews', 'type_cn': '生活', 'local': '彰化縣', 'summary': '把關再升級！武漢肺炎全球大流行，台灣疫情也因境外移入而持續升溫，彰化縣衛生局長葉彥伯宣布，即日起針對縣內醫療、長照機構員工，如果同住家人是居家隔離或檢疫者，該名員工必須限縮工作...', 'video': '0', 'localUrl': 'list/breakingnews/Changhua', 'tagUrl': 'list/breakingnews/life', 'style': None, 'tagText': '生活'}, '139': {'no': '3115628', 'title': '國4豐潭段最長隧道貫通 2022年底可望通車', 'bigphoto_flag': '0', 'photo_S': 'http://img.ltn.com.tw/Upload/news/300/2020/03/28/3115628_1_1.jpg', 'photo_L': 'http://img.ltn.com.tw/Upload/news/600/2020/03/28/3115628_1_1.jpg', 'url': 'http://news.ltn.com.tw/news/life/breakingnews/3115628', 'time': '12:12', 'type_en': 'life', 'group': 'breakingnews', 'type_cn': '生活', 'local': '臺中市', 'summary': '國道4號豐原潭子段全長約11公里，其中關鍵工程最長的豐原1號隧道（西行線）終於在今日貫通，東行線也將在年底前打通，全線於111年底通車在望，未來國4從大山城銜接台74線可省20...', 'video': '0', 'localUrl': 'list/breakingnews/Taichung', 'tagUrl': 'list/breakingnews/life', 'style': None, 'tagText': '生活'}}}\n"
     ]
    }
   ],
   "source": [
    "url4 = \"https://news.ltn.com.tw/ajax/breakingnews/all/7\"\n",
    "\n",
    "res4 = requests.get(url4)\n",
    "\n",
    "# print(res4.text)\n",
    "# print(res4.json())\n",
    "\n",
    "result4 = res4.json()\n",
    "print(result4)"
   ]
  },
  {
   "cell_type": "code",
   "execution_count": 128,
   "metadata": {},
   "outputs": [
    {
     "name": "stdout",
     "output_type": "stream",
     "text": [
      "http://news.ltn.com.tw/news/life/breakingnews/3115644\n",
      "　恐龍在樹上睡覺？　嘉義縣野鳥學會理事長陳建樺日前到八掌溪拍攝時，在嘉義縣、市交界軍輝橋下游一棵「山麻黃」樹，發現一隻大綠鬣蜥攀附在約4公尺高的樹幹，用空拍機拍下宛若恐龍在...\n",
      "恐佈！大型綠鬣蜥攀附樹幹 宛若恐龍在樹上睡覺\n"
     ]
    }
   ],
   "source": [
    "print(result4[\"data\"][\"120\"][\"url\"])\n",
    "print(result4[\"data\"][\"120\"][\"summary\"])\n",
    "print(result4[\"data\"][\"120\"][\"title\"])"
   ]
  },
  {
   "cell_type": "code",
   "execution_count": 129,
   "metadata": {},
   "outputs": [
    {
     "name": "stdout",
     "output_type": "stream",
     "text": [
      "{'no': '3115644', 'title': '恐佈！大型綠鬣蜥攀附樹幹 宛若恐龍在樹上睡覺', 'bigphoto_flag': '0', 'photo_S': 'http://img.ltn.com.tw/Upload/news/300/2020/03/28/3115644_1_1.jpg', 'photo_L': 'http://img.ltn.com.tw/Upload/news/600/2020/03/28/3115644_1_1.jpg', 'url': 'http://news.ltn.com.tw/news/life/breakingnews/3115644', 'time': '12:44', 'type_en': 'life', 'group': 'breakingnews', 'type_cn': '生活', 'local': '嘉義縣', 'summary': '\\u3000恐龍在樹上睡覺？\\u3000嘉義縣野鳥學會理事長陳建樺日前到八掌溪拍攝時，在嘉義縣、市交界軍輝橋下游一棵「山麻黃」樹，發現一隻大綠鬣蜥攀附在約4公尺高的樹幹，用空拍機拍下宛若恐龍在...', 'video': '0', 'localUrl': 'list/breakingnews/ChiayiCounty', 'tagUrl': 'list/breakingnews/life', 'style': None, 'tagText': '生活'}\n",
      "12:44\n"
     ]
    }
   ],
   "source": [
    "print(result4[\"data\"][\"120\"])\n",
    "print(result4[\"data\"][\"120\"][\"time\"])"
   ]
  },
  {
   "cell_type": "code",
   "execution_count": 154,
   "metadata": {
    "scrolled": true
   },
   "outputs": [
    {
     "name": "stdout",
     "output_type": "stream",
     "text": [
      "36\n",
      "-12\n",
      "1.6666666666666667\n",
      "Get error!!!\n",
      "done.\n"
     ]
    }
   ],
   "source": [
    "### Bonus2: try-except\n",
    "a= 12\n",
    "b= 24\n",
    "\n",
    "try:\n",
    "    print(a+b)\n",
    "    print(a-b)\n",
    "    print(20/a)\n",
    "\n",
    "    print(20/(a*2-b))\n",
    "\n",
    "    print(\"-\"*80)\n",
    "\n",
    "    print(\"Hello Python~~~\")\n",
    "    print(\"Goodbye Python~~~~\")\n",
    "except:\n",
    "    \n",
    "    print(\"Get error!!!\")\n",
    "    \n",
    "print(\"done.\")"
   ]
  },
  {
   "cell_type": "code",
   "execution_count": 165,
   "metadata": {
    "scrolled": true
   },
   "outputs": [],
   "source": [
    "### Bonus3:\n",
    "session = requests.session()\n",
    "\n",
    "# url5 = \"https://www.ptt.cc/bbs/Gossiping/index39563.html\"\n",
    "# res5 = requests.get(url5)\n",
    "# print(res5.text)\n",
    "\n",
    "url_over18 = \"https://www.ptt.cc/ask/over18\"\n",
    "payload = {\n",
    "    \"from\": \"/bbs/Gossiping/index.html\",\n",
    "    \"yes\" : \"yes\"\n",
    "}\n",
    "\n",
    "# res_over18 = requests.post(url_over18,data=payload)\n",
    "res_over18 = session.post(url_over18,data=payload)\n",
    "\n",
    "\n",
    "# print(res_over18.text)"
   ]
  },
  {
   "cell_type": "code",
   "execution_count": 166,
   "metadata": {
    "scrolled": true
   },
   "outputs": [],
   "source": [
    "url5 = \"https://www.ptt.cc/bbs/Gossiping/index39561.html\"\n",
    "\n",
    "# res5 = requests.get(url5)\n",
    "res5 = session.get(url5)\n",
    "\n",
    "# print(res5.text)"
   ]
  },
  {
   "cell_type": "code",
   "execution_count": null,
   "metadata": {},
   "outputs": [],
   "source": []
  }
 ],
 "metadata": {
  "kernelspec": {
   "display_name": "Python 3",
   "language": "python",
   "name": "python3"
  },
  "language_info": {
   "codemirror_mode": {
    "name": "ipython",
    "version": 3
   },
   "file_extension": ".py",
   "mimetype": "text/x-python",
   "name": "python",
   "nbconvert_exporter": "python",
   "pygments_lexer": "ipython3",
   "version": "3.7.6"
  }
 },
 "nbformat": 4,
 "nbformat_minor": 4
}
