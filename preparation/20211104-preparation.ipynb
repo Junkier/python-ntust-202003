{
 "cells": [
  {
   "cell_type": "code",
   "execution_count": 21,
   "metadata": {},
   "outputs": [],
   "source": [
    "#####  台彩大樂透\n",
    "\n",
    "import requests\n",
    "from bs4 import BeautifulSoup as bs\n",
    "\n",
    "url = \"http://www.taiwanlottery.com.tw/Lotto/Lotto649/history.aspx\"\n",
    "\n",
    "headers = {\n",
    "    \"User-Agent\": \"Mozilla/5.0 (Macintosh; Intel Mac OS X 10_12_6) AppleWebKit/537.36 (KHTML, like Gecko) Chrome/90.0.4430.212 Safari/537.36\"\n",
    "}\n",
    "\n",
    "### 發 POST requests 取得頁面 source code\n",
    "payload = {\n",
    "    \"__VIEWSTATE\": \"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\",\n",
    "    \"__VIEWSTATEGENERATOR\": \"11E838D2\",\n",
    "    \"__EVENTVALIDATION\": \"cKlS6TI+ZsyF9uK6yZDpIQXkQdDZ6WlUDBC6uQo0dz9cnfoF4O/K1jlbD9xKU55rjRWBAOfaCP9WDQo0dqKT3UJeNKj4ChyZqMpIaEfUFBlpqjs7f/6X4GjyaGCfhdX1gxFsLfPPREKbxI/0k0gEMQCz4LCpIKJq/drgp0BGIS6wZL/2WCud1xt+RHiEAJvqtNuy3UJO1rcO8o7GRZc/Ic04proPNgN8E+8Eu5Ynz3YH6mVLbOQkfxdbPWudpK4eGxm9Xlc3YCnn9uNC1WB4N9YUqS3TlHgGM48DnUh3t5DOcsCrQOOpNr2+crUHWLJOrAR8nvr5J8uz53qxRv6C00MyIyMteZEpwFh+mguRvz6p1AWzlSKUwUQKfNr0YjSU7mEzGIY/waGS4BQIsvQ1Odfljn99LJsI18EYe8k2WFqZjA70gJFS2hDQQC3Ke8sDoXeOtL/Jmu3kbNFprDvceBQpU7u0txVgBj1v7FtEoAlff5BT//wblVQIqXXLAr+aIMdQC/HYqOReGPNy7eaYw4OwcLgp9yAbVlrCyaRLTfYDItGw6KlBiyMgFMvQY1Uk4g0KQGs/CKaDERgHb2lTXYbgzhwEOZXIVPT3AsmEII4xKe5pfIZzBuRFxiQ7ihBn9vwkDw==\",\n",
    "    \"forma\": \"請選擇遊戲\",\n",
    "    \"Lotto649Control_history$txtNO\": \"\", # 配入空字串\n",
    "    \"Lotto649Control_history$chk\": \"radYM\",\n",
    "    \"Lotto649Control_history$dropYear\": 108,\n",
    "    \"Lotto649Control_history$dropMonth\": 3,\n",
    "    \"Lotto649Control_history$btnSubmit\": \"查詢\"\n",
    "}\n",
    "\n",
    "res = requests.post(url,headers=headers,data=payload)  ### data 為要攜帶的參數\n",
    "# print(res.text)\n",
    "soup = bs(res.text,\"lxml\")\n",
    "# print(soup)"
   ]
  },
  {
   "cell_type": "code",
   "execution_count": 145,
   "metadata": {
    "scrolled": true
   },
   "outputs": [],
   "source": [
    "### 整理解析資料的 function \n",
    "def get_clear_data(soup):\n",
    "    tables = soup.select(\"table#Lotto649Control_history_dlQuery table\")\n",
    "    \n",
    "    result = []\n",
    "    \n",
    "    for table_tag in tables:\n",
    "\n",
    "        # 期別 , 開獎日 -> 第二個 tr\n",
    "        tr2 = table_tag.select(\"tr\")[1]\n",
    "\n",
    "        lotto_no   = tr2.select(\"td\")[0].text\n",
    "        lotto_date = tr2.select(\"td\")[1].text.strip()\n",
    "\n",
    "        # 樂透號碼 -> 第五個 tr\n",
    "        tr5 = table_tag.select(\"tr\")[4]\n",
    "\n",
    "        # List comprehension\n",
    "        lotto_numbers_short = [ td_tag.text.strip() for td_tag in tr5.select(\"td\")[1:] ]\n",
    "        \n",
    "        result.append({\n",
    "            \"no\"   : lotto_no,\n",
    "            \"time\" : lotto_date,\n",
    "            \"numbers\" : lotto_numbers_short\n",
    "        })\n",
    "\n",
    "    return result\n",
    "\n",
    "    \n",
    "# get_clear_data(soup)"
   ]
  },
  {
   "cell_type": "code",
   "execution_count": 8,
   "metadata": {},
   "outputs": [],
   "source": [
    "### 取得隱藏參數\n",
    "\n",
    "def get_hidden_params(soup):\n",
    "    __VIEWSTATE = soup.select(\"input#__VIEWSTATE\")[0][\"value\"]\n",
    "    __VIEWSTATEGENERATOR = soup.select(\"input#__VIEWSTATEGENERATOR\")[0][\"value\"]\n",
    "    __EVENTVALIDATION = soup.select(\"input#__EVENTVALIDATION\")[0][\"value\"]\n",
    "    # print(__EVENTVALIDATION)\n",
    "    \n",
    "    return {\n",
    "        \"__VIEWSTATE\" : __VIEWSTATE,\n",
    "        \"__VIEWSTATEGENERATOR\" : __VIEWSTATEGENERATOR,\n",
    "        \"__EVENTVALIDATION\" : __EVENTVALIDATION\n",
    "    }\n",
    "\n",
    "\n",
    "# get_hidden_params(soup)"
   ]
  },
  {
   "cell_type": "code",
   "execution_count": 14,
   "metadata": {},
   "outputs": [
    {
     "name": "stdout",
     "output_type": "stream",
     "text": [
      "1 月 is ok.\n",
      "2 月 is ok.\n",
      "3 月 is ok.\n",
      "4 月 is ok.\n",
      "5 月 is ok.\n",
      "6 月 is ok.\n",
      "Done.\n"
     ]
    }
   ],
   "source": [
    "### 抓取 1 ~ 5 月 樂透號碼\n",
    "\n",
    "url = \"http://www.taiwanlottery.com.tw/Lotto/Lotto649/history.aspx\"\n",
    "\n",
    "headers = {\n",
    "    \"User-Agent\": \"Mozilla/5.0 (Macintosh; Intel Mac OS X 10_12_6) AppleWebKit/537.36 (KHTML, like Gecko) Chrome/90.0.4430.212 Safari/537.36\"\n",
    "}\n",
    "\n",
    "output = []\n",
    "\n",
    "for i in range(1,7):\n",
    "    hidden = get_hidden_params(soup)\n",
    "    \n",
    "    payload = {\n",
    "        \"__VIEWSTATE\": hidden[\"__VIEWSTATE\"],\n",
    "        \"__VIEWSTATEGENERATOR\": hidden[\"__VIEWSTATEGENERATOR\"],\n",
    "        \"__EVENTVALIDATION\": hidden[\"__EVENTVALIDATION\"],\n",
    "        \"forma\": \"請選擇遊戲\",\n",
    "        \"Lotto649Control_history$txtNO\": \"\", # 配入空字串\n",
    "        \"Lotto649Control_history$chk\": \"radYM\",\n",
    "        \"Lotto649Control_history$dropYear\": 108,\n",
    "        \"Lotto649Control_history$dropMonth\": i,\n",
    "        \"Lotto649Control_history$btnSubmit\": \"查詢\"\n",
    "    }\n",
    "    \n",
    "    res = requests.post(url,headers=headers,data=payload)  ### data 為要攜帶的參數\n",
    "    soup = bs(res.text,\"lxml\")\n",
    "    \n",
    "    data = get_clear_data(soup)\n",
    "    \n",
    "    output += data\n",
    "    \n",
    "    print(\"{} 月 is ok.\".format(i))\n",
    "    \n",
    "print(\"Done.\")"
   ]
  },
  {
   "cell_type": "code",
   "execution_count": 13,
   "metadata": {},
   "outputs": [
    {
     "name": "stdout",
     "output_type": "stream",
     "text": [
      "[1, 2, 3, 4, 5, 6]\n",
      "[0, 0, 0, 1, 2, 3]\n"
     ]
    }
   ],
   "source": [
    "# list 疊加\n",
    "a = [1,2,3]\n",
    "b = [4,5,6]\n",
    "\n",
    "print(a+b)\n",
    "\n",
    "c = [0,0,0]\n",
    "c +=a\n",
    "print(c)"
   ]
  },
  {
   "cell_type": "code",
   "execution_count": 146,
   "metadata": {},
   "outputs": [],
   "source": [
    "# Sorted 排序 funciton with key \n",
    "# sorted(output,key = lambda ele: ele[\"no\"])"
   ]
  },
  {
   "cell_type": "code",
   "execution_count": 147,
   "metadata": {},
   "outputs": [
    {
     "name": "stdout",
     "output_type": "stream",
     "text": [
      "1 月 is ok.\n",
      "2 月 is ok.\n",
      "3 月 is ok.\n",
      "4 月 is ok.\n",
      "5 月 is ok.\n",
      "6 月 is ok.\n",
      "Done.\n",
      "顯示號碼如下:\n"
     ]
    }
   ],
   "source": [
    "### 組合程式\n",
    "\n",
    "## 套件\n",
    "import requests\n",
    "from bs4 import BeautifulSoup as bs\n",
    "\n",
    "## 定義 function \n",
    "def get_clear_data(soup):\n",
    "    tables = soup.select(\"table#Lotto649Control_history_dlQuery table\")\n",
    "    \n",
    "    result = []\n",
    "    \n",
    "    for table_tag in tables:\n",
    "\n",
    "        # 期別 , 開獎日 -> 第二個 tr\n",
    "        tr2 = table_tag.select(\"tr\")[1]\n",
    "\n",
    "        lotto_no   = tr2.select(\"td\")[0].text\n",
    "        lotto_date = tr2.select(\"td\")[1].text.strip()\n",
    "\n",
    "        # 樂透號碼 -> 第五個 tr\n",
    "        tr5 = table_tag.select(\"tr\")[4]\n",
    "\n",
    "        # List comprehension\n",
    "        lotto_numbers_short = [ td_tag.text.strip() for td_tag in tr5.select(\"td\")[1:] ]\n",
    "        \n",
    "        result.append({\n",
    "            \"no\"   : lotto_no,\n",
    "            \"time\" : lotto_date,\n",
    "            \"numbers\" : lotto_numbers_short\n",
    "        })\n",
    "\n",
    "    return result\n",
    "\n",
    "\n",
    "def get_hidden_params(soup):\n",
    "    __VIEWSTATE = soup.select(\"input#__VIEWSTATE\")[0][\"value\"]\n",
    "    __VIEWSTATEGENERATOR = soup.select(\"input#__VIEWSTATEGENERATOR\")[0][\"value\"]\n",
    "    __EVENTVALIDATION = soup.select(\"input#__EVENTVALIDATION\")[0][\"value\"]\n",
    "    # print(__EVENTVALIDATION)\n",
    "    \n",
    "    return {\n",
    "        \"__VIEWSTATE\" : __VIEWSTATE,\n",
    "        \"__VIEWSTATEGENERATOR\" : __VIEWSTATEGENERATOR,\n",
    "        \"__EVENTVALIDATION\" : __EVENTVALIDATION\n",
    "    }\n",
    "\n",
    "\n",
    "\n",
    "## main 程式\n",
    "\n",
    "url = \"http://www.taiwanlottery.com.tw/Lotto/Lotto649/history.aspx\"\n",
    "\n",
    "headers = {\n",
    "    \"User-Agent\": \"Mozilla/5.0 (Macintosh; Intel Mac OS X 10_12_6) AppleWebKit/537.36 (KHTML, like Gecko) Chrome/90.0.4430.212 Safari/537.36\"\n",
    "}\n",
    "\n",
    "\n",
    "# 1. 發 GET requests , 取得第一次 隱藏參數\n",
    "\n",
    "res = requests.get(url,headers=headers)\n",
    "soup = bs(res.text,\"lxml\")\n",
    "\n",
    "\n",
    "# 2. for-loop 處理 1 ~ 6月 , 發 POST requests , 取得樂透號碼 \n",
    "output = []\n",
    "\n",
    "for i in range(1,7):\n",
    "    hidden = get_hidden_params(soup)\n",
    "    \n",
    "    payload = {\n",
    "        \"__VIEWSTATE\": hidden[\"__VIEWSTATE\"],\n",
    "        \"__VIEWSTATEGENERATOR\": hidden[\"__VIEWSTATEGENERATOR\"],\n",
    "        \"__EVENTVALIDATION\": hidden[\"__EVENTVALIDATION\"],\n",
    "        \"forma\": \"請選擇遊戲\",\n",
    "        \"Lotto649Control_history$txtNO\": \"\", # 配入空字串\n",
    "        \"Lotto649Control_history$chk\": \"radYM\",\n",
    "        \"Lotto649Control_history$dropYear\": 109,\n",
    "        \"Lotto649Control_history$dropMonth\": i,\n",
    "        \"Lotto649Control_history$btnSubmit\": \"查詢\"\n",
    "    }\n",
    "    \n",
    "    res = requests.post(url,headers=headers,data=payload)  ### data 為要攜帶的參數\n",
    "    soup = bs(res.text,\"lxml\")\n",
    "    \n",
    "    data = get_clear_data(soup)\n",
    "    \n",
    "    output += data\n",
    "    \n",
    "    print(\"{} 月 is ok.\".format(i))\n",
    "    \n",
    "print(\"Done.\")\n",
    "print(\"顯示號碼如下:\")\n",
    "# sorted(output,key=lambda ele : ele[\"no\"])"
   ]
  },
  {
   "cell_type": "code",
   "execution_count": null,
   "metadata": {},
   "outputs": [],
   "source": [
    "############################################################################################################"
   ]
  },
  {
   "cell_type": "code",
   "execution_count": null,
   "metadata": {},
   "outputs": [],
   "source": [
    "############################################################################################################"
   ]
  },
  {
   "cell_type": "code",
   "execution_count": null,
   "metadata": {},
   "outputs": [],
   "source": [
    "############################################################################################################"
   ]
  },
  {
   "cell_type": "code",
   "execution_count": 148,
   "metadata": {},
   "outputs": [],
   "source": [
    "##### PTT 股票版 (重新開始爬蟲)\n",
    "\n",
    "### 取得首頁 source code\n",
    "import requests\n",
    "from bs4 import BeautifulSoup as bs\n",
    "\n",
    "url = \"https://www.ptt.cc/bbs/Stock/index.html\"\n",
    "headers = {\n",
    "    \"user-agent\": \"Mozilla/5.0 (Macintosh; Intel Mac OS X 10_12_6) AppleWebKit/537.36 (KHTML, like Gecko) Chrome/90.0.4430.212 Safari/537.36\"\n",
    "}\n",
    "\n",
    "res = requests.get(url,headers=headers)\n",
    "soup = bs(res.text,\"lxml\")\n",
    "\n",
    "# print(soup)"
   ]
  },
  {
   "cell_type": "code",
   "execution_count": 37,
   "metadata": {},
   "outputs": [
    {
     "name": "stdout",
     "output_type": "stream",
     "text": [
      "https://www.ptt.cc/bbs/Stock/M.1635986321.A.8E2.html\n",
      "https://www.ptt.cc/bbs/Stock/M.1635986485.A.3B0.html\n",
      "https://www.ptt.cc/bbs/Stock/M.1635987045.A.A07.html\n",
      "https://www.ptt.cc/bbs/Stock/M.1635987424.A.F15.html\n",
      "https://www.ptt.cc/bbs/Stock/M.1635988009.A.1C5.html\n",
      "https://www.ptt.cc/bbs/Stock/M.1635989279.A.379.html\n",
      "https://www.ptt.cc/bbs/Stock/M.1635991470.A.0B5.html\n",
      "https://www.ptt.cc/bbs/Stock/M.1635991868.A.639.html\n",
      "https://www.ptt.cc/bbs/Stock/M.1635992409.A.116.html\n",
      "https://www.ptt.cc/bbs/Stock/M.1635992513.A.6C3.html\n",
      "https://www.ptt.cc/bbs/Stock/M.1635994918.A.681.html\n"
     ]
    }
   ],
   "source": [
    "### 抓取首頁文章連結\n",
    "links = []\n",
    "\n",
    "a_tags = soup.select(\"div#main-container div.r-ent div.title a\")\n",
    "\n",
    "for ele in a_tags:\n",
    "    #     print(ele)\n",
    "    # print(ele[\"href\"],ele.text)\n",
    "    title = ele.text\n",
    "    if \"股票板板規\" in title or \"盤中閒聊\" in title:\n",
    "        continue\n",
    "    else:\n",
    "        url = \"https://www.ptt.cc\" + ele[\"href\"]\n",
    "        links.append(url)\n",
    "\n",
    "# 顯示結果\n",
    "for url in links:\n",
    "    print(url)"
   ]
  },
  {
   "cell_type": "code",
   "execution_count": 54,
   "metadata": {},
   "outputs": [
    {
     "name": "stdout",
     "output_type": "stream",
     "text": [
      "https://www.ptt.cc/bbs/Stock/index5015.html\n",
      "https://www.ptt.cc/bbs/Stock/index5015.html is ok.\n",
      "https://www.ptt.cc/bbs/Stock/index5014.html\n",
      "https://www.ptt.cc/bbs/Stock/index5014.html is ok.\n",
      "https://www.ptt.cc/bbs/Stock/index5013.html\n",
      "https://www.ptt.cc/bbs/Stock/index5013.html is ok.\n",
      "https://www.ptt.cc/bbs/Stock/index5012.html\n",
      "https://www.ptt.cc/bbs/Stock/index5012.html is ok.\n",
      "https://www.ptt.cc/bbs/Stock/index5011.html\n",
      "https://www.ptt.cc/bbs/Stock/index5011.html is ok.\n",
      "Done.\n"
     ]
    }
   ],
   "source": [
    "### 抓取其他分頁 文章連結 \n",
    "\n",
    "base_url = \"https://www.ptt.cc\"\n",
    "# links = []\n",
    "\n",
    "for i in range(1,6):\n",
    "    \n",
    "    # 取得上頁連結\n",
    "    raw_link = soup.select(\"div#action-bar-container div.btn-group-paging a\")[1][\"href\"]\n",
    "    previous_link = base_url+raw_link\n",
    "\n",
    "#     print(previous_link)\n",
    "\n",
    "    # 取得 分頁 source code\n",
    "    res = requests.get(previous_link,headers=headers)\n",
    "    soup = bs(res.text,\"lxml\")\n",
    "    \n",
    "    # 抓取文章連結\n",
    "\n",
    "    a_tags = soup.select(\"div#main-container div.r-ent div.title a\")\n",
    "\n",
    "    for ele in a_tags:\n",
    "        title = ele.text\n",
    "        if \"股票板板規\" in title or \"盤中閒聊\" in title:\n",
    "            continue\n",
    "        else:\n",
    "            url = \"https://www.ptt.cc\" + ele[\"href\"]\n",
    "            links.append(url)\n",
    "            \n",
    "    print(\"{} is ok.\".format(previous_link))\n",
    "    \n",
    "print(\"Done.\")"
   ]
  },
  {
   "cell_type": "code",
   "execution_count": 149,
   "metadata": {
    "scrolled": true
   },
   "outputs": [],
   "source": [
    "# for url in links:\n",
    "#     print(url)"
   ]
  },
  {
   "cell_type": "code",
   "execution_count": 150,
   "metadata": {},
   "outputs": [
    {
     "name": "stdout",
     "output_type": "stream",
     "text": [
      "https://www.ptt.cc/bbs/Stock/M.1635952091.A.7CE.html\n"
     ]
    }
   ],
   "source": [
    "### 取得 文章本文 source code\n",
    "url = links[1]\n",
    "print(url)\n",
    "\n",
    "headers = {\n",
    "    \"user-agent\": \"Mozilla/5.0 (Macintosh; Intel Mac OS X 10_12_6) AppleWebKit/537.36 (KHTML, like Gecko) Chrome/90.0.4430.212 Safari/537.36\"\n",
    "}\n",
    "\n",
    "res2 = requests.get(url,headers=headers)\n",
    "soup2 = bs(res2.text,\"lxml\")\n",
    "\n",
    "# print(soup2)"
   ]
  },
  {
   "cell_type": "code",
   "execution_count": 129,
   "metadata": {
    "scrolled": true
   },
   "outputs": [
    {
     "name": "stdout",
     "output_type": "stream",
     "text": [
      "author : Su22 (裝配匠)\n",
      "category : Stock\n",
      "title : [新聞] 張一鳴卸任字節跳動董事長、離開董事會 \n",
      "time : Wed Nov  3 23:08:09 2021\n"
     ]
    }
   ],
   "source": [
    "### 抓取文章本文\n",
    "### 作者 , 標題 , 時間 , 看板 , 回應 , 內容\n",
    "\n",
    "# soup2.select(\"div#main-content span.article-meta-tag\")\n",
    "span_tags = soup2.select(\"div#main-content span.article-meta-value\")\n",
    "\n",
    "\n",
    "# 作者\n",
    "author = span_tags[0].text\n",
    "print(\"author :\",author)\n",
    "\n",
    "# 看板\n",
    "category = span_tags[1].text\n",
    "print(\"category :\",category)\n",
    "\n",
    "# 標題\n",
    "title = span_tags[2].text\n",
    "print(\"title :\",title)\n",
    "\n",
    "# 時間\n",
    "time = span_tags[3].text\n",
    "print(\"time :\",time)\n",
    "\n",
    "# span_tags\n",
    "# print(\"-\"*80)\n",
    "\n",
    "# print(soup2.select(\"div#main-content\")[0].text)"
   ]
  },
  {
   "cell_type": "code",
   "execution_count": 151,
   "metadata": {
    "scrolled": true
   },
   "outputs": [],
   "source": [
    "### 回應資料處理\n",
    "\n",
    "# push_tags = soup2.select(\"div.push\")\n",
    "\n",
    "# 抓一個測試\n",
    "# ele = push_tags[2]\n",
    "# resp_data = {\n",
    "#     \"push-tag\" : ele.select(\"span\")[0].text.strip(),\n",
    "#     \"push-author\" : ele.select(\"span\")[1].text.strip(),\n",
    "#     \"push-content\" : ele.select(\"span\")[2].text.replace(\": \",\"\").strip(),\n",
    "#     \"push-time\" : ele.select(\"span\")[3].text.strip(),\n",
    "# }\n",
    "# ele.select(\"span\")\n",
    "\n",
    "############\n",
    "\n",
    "# for-loop 處理\n",
    "# push_tags = soup2.select(\"div.push\")\n",
    "# resp_data = []\n",
    "\n",
    "# for ele in push_tags:\n",
    "#     resp = {\n",
    "#         \"tag\" : ele.select(\"span\")[0].text.strip(),\n",
    "#         \"author\" : ele.select(\"span\")[1].text.strip(),\n",
    "#         \"content\" : ele.select(\"span\")[2].text.replace(\": \",\"\").strip(),       \n",
    "#         \"time\" : ele.select(\"span\")[3].text.strip(),\n",
    "#     }\n",
    "    \n",
    "#     resp_data.append(resp)\n",
    "\n",
    "# for data in resp_data:\n",
    "#     print(data)\n",
    "    \n",
    "############    \n",
    "    \n",
    "# 整理成 function\n",
    "def get_resp_data(ele):\n",
    "    return {\n",
    "        \"tag\" : ele.select(\"span\")[0].text.strip(),\n",
    "        \"author\" : ele.select(\"span\")[1].text.strip(),\n",
    "        \"content\" : ele.select(\"span\")[2].text.replace(\": \",\"\").strip(),       \n",
    "        \"time\" : ele.select(\"span\")[3].text.strip(),\n",
    "    }\n",
    "\n",
    "resp_data = []\n",
    "\n",
    "# 1. 檢查是否有 回應 --> len(soup2.select(\"div.push\")) >0 \n",
    "if len(soup2.select(\"div.push\")) >0 :\n",
    "    \n",
    "    # 2. 有回應 -> 拔除回應標籤 + 解析回應資料\n",
    "    for ele in soup2.select(\"div.push\"):\n",
    "        ele.extract()\n",
    "        resp = get_resp_data(ele)\n",
    "        resp_data.append(resp)\n",
    "\n",
    "# for data in resp_data:\n",
    "#     print(data)"
   ]
  },
  {
   "cell_type": "code",
   "execution_count": 152,
   "metadata": {},
   "outputs": [],
   "source": [
    "### 抓取文章內容\n",
    "\n",
    "# 1. 拔除多餘標籤\n",
    "# - div.article-metaline\n",
    "# - div.article-metaline-right\n",
    "# - span.f2\n",
    "\n",
    "def remove_tag(soup):\n",
    "    if len(soup.select(\"div.article-metaline\")) >0:\n",
    "        for tag in soup.select(\"div.article-metaline\"):\n",
    "            tag.extract()\n",
    "            \n",
    "    if len(soup.select(\"div.article-metaline-right\")) >0:\n",
    "        for tag in soup.select(\"div.article-metaline-right\"):\n",
    "            tag.extract()\n",
    "            \n",
    "    if len(soup.select(\"span.f2\")) >0:\n",
    "        for tag in soup.select(\"span.f2\"):\n",
    "            tag.extract()\n",
    "            \n",
    "    return soup\n",
    "            \n",
    "# print(soup2.select(\"div#main-content\")[0].text)\n",
    "# print(soup2.select(\"div#main-content\")[0].text.strip())\n",
    "\n",
    "# 2. 抓取文字\n",
    "soup2 = remove_tag(soup2)\n",
    "content = soup2.select(\"div#main-content\")[0].text.strip()\n",
    "# print(content)"
   ]
  },
  {
   "cell_type": "code",
   "execution_count": 153,
   "metadata": {
    "scrolled": true
   },
   "outputs": [
    {
     "name": "stdout",
     "output_type": "stream",
     "text": [
      "https://www.ptt.cc/bbs/Stock/M.1635950179.A.73C.html\n"
     ]
    }
   ],
   "source": [
    "# 解析 function 整理\n",
    "\n",
    "def get_resp_data(ele):\n",
    "    return {\n",
    "        \"tag\" : ele.select(\"span\")[0].text.strip(),\n",
    "        \"author\" : ele.select(\"span\")[1].text.strip(),\n",
    "        \"content\" : ele.select(\"span\")[2].text.replace(\": \",\"\").strip(),       \n",
    "        \"time\" : ele.select(\"span\")[3].text.strip(),\n",
    "    }\n",
    "\n",
    "\n",
    "def remove_tag(soup):\n",
    "    if len(soup.select(\"div.article-metaline\")) >0:\n",
    "        for tag in soup.select(\"div.article-metaline\"):\n",
    "            tag.extract()\n",
    "            \n",
    "    if len(soup.select(\"div.article-metaline-right\")) >0:\n",
    "        for tag in soup.select(\"div.article-metaline-right\"):\n",
    "            tag.extract()\n",
    "            \n",
    "    if len(soup.select(\"span.f2\")) >0:\n",
    "        for tag in soup.select(\"span.f2\"):\n",
    "            tag.extract()\n",
    "            \n",
    "    return soup\n",
    "            \n",
    "    \n",
    "def get_data(soup):\n",
    "    span_tags = soup.select(\"div#main-content span.article-meta-value\")\n",
    "\n",
    "    # 作者\n",
    "    author = span_tags[0].text\n",
    "\n",
    "    # 看板\n",
    "    category = span_tags[1].text\n",
    "\n",
    "    # 標題\n",
    "    title = span_tags[2].text\n",
    "\n",
    "    # 時間\n",
    "    time = span_tags[3].text\n",
    "    \n",
    "    # 回應\n",
    "    resp_data = []\n",
    "\n",
    "    # 1. 檢查是否有 回應 --> len(soup2.select(\"div.push\")) >0 \n",
    "    if len(soup.select(\"div.push\")) >0 :\n",
    "\n",
    "        # 2. 有回應 -> 拔除回應標籤 + 解析回應資料\n",
    "        for ele in soup.select(\"div.push\"):\n",
    "            ele.extract()\n",
    "            resp = get_resp_data(ele)\n",
    "            resp_data.append(resp)\n",
    "        \n",
    "    # 內容\n",
    "    soup = remove_tag(soup)\n",
    "    content = soup.select(\"div#main-content\")[0].text.strip()\n",
    "    \n",
    "    return {\n",
    "        \"author\" : author,\n",
    "        \"category\" : category,\n",
    "        \"title\" : title,\n",
    "        \"time\" : time,\n",
    "        \"resp_data\" : resp_data,\n",
    "        \"content\" : content\n",
    "    }\n",
    "\n",
    "\n",
    "url = links[33]\n",
    "print(url)\n",
    "\n",
    "headers = {\n",
    "    \"user-agent\": \"Mozilla/5.0 (Macintosh; Intel Mac OS X 10_12_6) AppleWebKit/537.36 (KHTML, like Gecko) Chrome/90.0.4430.212 Safari/537.36\"\n",
    "}\n",
    "\n",
    "res2 = requests.get(url,headers=headers)\n",
    "soup2 = bs(res2.text,\"lxml\")\n",
    "# get_data(soup2)\n",
    "# print(soup2)\n"
   ]
  },
  {
   "cell_type": "code",
   "execution_count": null,
   "metadata": {},
   "outputs": [],
   "source": []
  },
  {
   "cell_type": "code",
   "execution_count": null,
   "metadata": {},
   "outputs": [],
   "source": []
  },
  {
   "cell_type": "code",
   "execution_count": null,
   "metadata": {},
   "outputs": [],
   "source": [
    "### 缺:\n",
    "# 1. 資料落地\n",
    "# 2. 組合程式\n",
    "# 3. 轉成 .py 檔"
   ]
  },
  {
   "cell_type": "code",
   "execution_count": 154,
   "metadata": {},
   "outputs": [
    {
     "name": "stdout",
     "output_type": "stream",
     "text": [
      "2021-11-04 13:09:15\n"
     ]
    }
   ],
   "source": [
    "# 看情況再教\n",
    "import arrow\n",
    "now = arrow.now().format(\"YYYY-MM-DD HH:mm:ss\")\n",
    "print(now)\n",
    "\n",
    "new_time = arrow.get(time,\"ddd MMM  D HH:mm:ss YYYY\").format(\"YYYY-MM-DD HH:mm:ss\")\n",
    "# print(new_time)\n"
   ]
  }
 ],
 "metadata": {
  "kernelspec": {
   "display_name": "Python 3",
   "language": "python",
   "name": "python3"
  },
  "language_info": {
   "codemirror_mode": {
    "name": "ipython",
    "version": 3
   },
   "file_extension": ".py",
   "mimetype": "text/x-python",
   "name": "python",
   "nbconvert_exporter": "python",
   "pygments_lexer": "ipython3",
   "version": "3.8.8"
  }
 },
 "nbformat": 4,
 "nbformat_minor": 2
}
