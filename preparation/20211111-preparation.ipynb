{
 "cells": [
  {
   "cell_type": "code",
   "execution_count": null,
   "id": "382b2100",
   "metadata": {
    "scrolled": true
   },
   "outputs": [],
   "source": [
    "# 1. 解說題目\n",
    "# 2. 30min , 說明靠打 API + 使用 headers , 介紹 Host & Referer\n",
    "# 3. 1hr 解說 一次性 & 定期抓 差異\n",
    "# 4. 抓資料, 解析"
   ]
  },
  {
   "cell_type": "code",
   "execution_count": 133,
   "id": "0c62fe6f",
   "metadata": {},
   "outputs": [],
   "source": [
    "import requests\n",
    "from bs4 import BeautifulSoup as bs \n",
    "\n",
    "# 必須要有 cookies & X-CSRF-TOKEN\n",
    "\n",
    "### 一次性   --> 手動複製 cookies & X-CSRF-Token 即可\n",
    "\n",
    "### 定期爬蟲 --> 須先向首頁發 requests 設定 cookies & 取得 csrf-token \n",
    "\n",
    "# 1. 建立 session \n",
    "# 2. sess 向首頁發 requests , 設定 cookies --> \"https://rent.591.com.tw/\"\n",
    "# 3. 取得 csrf-token \n",
    "# 4. GET API 抓資料\n",
    "\n",
    "base_url = \"https://rent.591.com.tw/\"\n",
    "\n",
    "sess = requests.session()\n",
    "\n",
    "headers0 = {\n",
    "    \"User-Agent\": \"Mozilla/5.0 (Macintosh; Intel Mac OS X 10_12_6) AppleWebKit/537.36 (KHTML, like Gecko) Chrome/90.0.4430.212 Safari/537.36\"\n",
    "}\n",
    "\n",
    "res0 = sess.get(base_url,headers=headers0)\n",
    "soup0 = bs(res0.text,\"lxml\")\n",
    "token = soup0.select(\"meta[name='csrf-token']\")[0][\"content\"]\n",
    "\n",
    "\n",
    "url1 = \"https://rent.591.com.tw/home/search/rsList?is_format_data=1&is_new_list=1&type=1&\"\n",
    "\n",
    "headers1 = {\n",
    "    \"Host\": \"rent.591.com.tw\",\n",
    "    \"Referer\": \"https://rent.591.com.tw/?multiArea=10_20&showMore=1&section=3&searchtype=1&firstRow=0&totalRows=993\",\n",
    "    \"X-CSRF-TOKEN\": token,\n",
    "    \"User-Agent\": \"Mozilla/5.0 (Macintosh; Intel Mac OS X 10_12_6) AppleWebKit/537.36 (KHTML, like Gecko) Chrome/90.0.4430.212 Safari/537.36\"\n",
    "}\n",
    "\n",
    "# res = requests.get(url,headers=headers1)\n",
    "res = sess.get(url1,headers=headers1)\n",
    "# print(res)\n",
    "# print(res.json())"
   ]
  },
  {
   "cell_type": "code",
   "execution_count": 134,
   "id": "5d1393a2",
   "metadata": {
    "scrolled": true
   },
   "outputs": [],
   "source": [
    "# list(sess.cookies)"
   ]
  },
  {
   "cell_type": "code",
   "execution_count": 73,
   "id": "717f15f2",
   "metadata": {},
   "outputs": [
    {
     "name": "stdout",
     "output_type": "stream",
     "text": [
      "<Response [200]>\n"
     ]
    }
   ],
   "source": [
    "##### 一次性抓資料 --> 手動設定 cookies & csrf-token\n",
    "url2 = \"https://rent.591.com.tw/home/search/rsList?is_format_data=1&is_new_list=1&type=1&section=3&searchtype=1&showMore=1&multiArea=10_20\"\n",
    "\n",
    "headers = {\n",
    "    \"Host\": \"rent.591.com.tw\",\n",
    "    \"Referer\": \"https://rent.591.com.tw/?multiArea=10_20&showMore=1&section=3&searchtype=1&firstRow=0&totalRows=993\",\n",
    "    \"Cookie\": \"webp=1; PHPSESSID=g3u3tnc81fjrk7ighgv2mkr3m4; urlJumpIp=1; urlJumpIpByTxt=%E5%8F%B0%E5%8C%97%E5%B8%82; new_rent_list_kind_test=1; newUI=1; T591_TOKEN=g3u3tnc81fjrk7ighgv2mkr3m4; _ga=GA1.3.1649913125.1636598035; _gid=GA1.3.822631898.1636598035; _ga=GA1.4.1649913125.1636598035; _gid=GA1.4.822631898.1636598035; tw591__privacy_agree=0; _fbp=fb.2.1636598035774.332302313; _gat_UA-97423186-1=1; XSRF-TOKEN=eyJpdiI6IlpSOXZ1SVlCZHpzNWswdzQzYThLUFE9PSIsInZhbHVlIjoiTGdzaXFPblN4bUZmQ3U1Z3AzWG1MZUNrbDFiMjIxMlNDamhUaWg5SVBFUUNZOEU0SHlzK1Z3S21walVDWWpHZFR4QVFmbEdrZmRqQnZyd0s2aitkRUE9PSIsIm1hYyI6IjZjYzJjN2IxNDg0NjVjZTI5MDIyZTVlOGVkYTgzZDc1MzZmYTQ3NjY1MGM5NmZjZDYzYTNmNmM2OTAxNzczY2IifQ%3D%3D; 591_new_session=eyJpdiI6IkxWY1VhejFMemZHSkVMd01WVUhFQ0E9PSIsInZhbHVlIjoiZzdhVlU2bk9LSjNnQVBHT09ES1pDSGo4Zk0rMlJINVFxYk12eVpVcFp1MFYwbXp1XC9HbkxFYUdVMTZPelMyTnZHT1NUWFVTOHgwN3ZzXC9oN1wvbkVOOVE9PSIsIm1hYyI6IjhjOTU4NjZiMDM4M2VjZWM3NmQ5MjBkYmQzZWI4ZjRjNWQ0NDQwNDJlZDM4NGU4MTRkODhmODVmYTM0NjdiYTkifQ%3D%3D\",\n",
    "    \"X-CSRF-TOKEN\": \"OH3dybKd3yaw65OAZtcfIGeGR0y6MzhG9Lj3wNA4\",\n",
    "    \"User-Agent\": \"Mozilla/5.0 (Macintosh; Intel Mac OS X 10_12_6) AppleWebKit/537.36 (KHTML, like Gecko) Chrome/90.0.4430.212 Safari/537.36\"\n",
    "}\n",
    "\n",
    "res = requests.get(url2,headers=headers)\n",
    "\n",
    "raw_data = res.json()\n"
   ]
  },
  {
   "cell_type": "code",
   "execution_count": 135,
   "id": "8b314c6d",
   "metadata": {},
   "outputs": [],
   "source": [
    "### 資料清洗 (ETL , 抓取欄位)\n",
    "### (Extract-Transform-Load)\n",
    "\n",
    "# area: \"15\"\n",
    "# price: \"26,300\"\n",
    "# title: \"短租電梯定期免費打掃房間電梯二房一廳\"\n",
    "# post_id : 1234\n",
    "\n",
    "def parsing_data(raw_data):\n",
    "\n",
    "    dataList = []\n",
    "\n",
    "    for ele in raw_data[\"data\"][\"data\"]:\n",
    "        \n",
    "        # 拔掉車位 (看情況教)\n",
    "        if(ele[\"kind_name\"] == \"車位\"): continue\n",
    "\n",
    "        area  = float(ele[\"area\"])\n",
    "        price = int(ele[\"price\"].replace(\",\",\"\"))\n",
    "        dataList.append({\n",
    "            \"area\"  : area,\n",
    "            \"price\" : price,\n",
    "            \"title\" : ele[\"title\"],\n",
    "            \"post_id\" : ele[\"post_id\"],\n",
    "            \"url\"   : \"https://rent.591.com.tw/home/{}\".format(ele[\"post_id\"]),\n",
    "            \"price_per_area\" : round(price / area , 2)\n",
    "        })\n",
    "        \n",
    "    return dataList\n",
    "\n",
    "\n",
    "# dataList\n",
    "# parsing_data(raw_data)"
   ]
  },
  {
   "cell_type": "code",
   "execution_count": null,
   "id": "c28c9e53",
   "metadata": {},
   "outputs": [],
   "source": [
    "##### 抓取分頁 #1\n",
    "    \n",
    "# section 代號\n",
    "# 中山 -> 3\n",
    "# 信義 -> 7\n",
    "# 松山 -> 4\n",
    "\n",
    "### 先以 中山區 作測試\n",
    "# https://rent.591.com.tw/home/search/rsList?is_format_data=1&is_new_list=1&type=1&section={}&searchtype=1&showMore=1&multiArea=10_20&firstRow={}&totalRows=993\n",
    "api = \"https://rent.591.com.tw/home/search/rsList?is_format_data=1&is_new_list=1&type=1&section={sec}&searchtype=1&showMore=1&multiArea=10_20&firstRow={row}&totalRows=993\"\n",
    "section = 3\n",
    "\n",
    "\n",
    "headers = {\n",
    "    \"Host\": \"rent.591.com.tw\",\n",
    "    \"Referer\": \"https://rent.591.com.tw/?multiArea=10_20&showMore=1&section=3&searchtype=1&firstRow=0&totalRows=993\",\n",
    "    \"Cookie\": \"webp=1; PHPSESSID=g3u3tnc81fjrk7ighgv2mkr3m4; urlJumpIp=1; urlJumpIpByTxt=%E5%8F%B0%E5%8C%97%E5%B8%82; new_rent_list_kind_test=1; newUI=1; T591_TOKEN=g3u3tnc81fjrk7ighgv2mkr3m4; _ga=GA1.3.1649913125.1636598035; _gid=GA1.3.822631898.1636598035; _ga=GA1.4.1649913125.1636598035; _gid=GA1.4.822631898.1636598035; tw591__privacy_agree=0; _fbp=fb.2.1636598035774.332302313; _gat_UA-97423186-1=1; XSRF-TOKEN=eyJpdiI6IlpSOXZ1SVlCZHpzNWswdzQzYThLUFE9PSIsInZhbHVlIjoiTGdzaXFPblN4bUZmQ3U1Z3AzWG1MZUNrbDFiMjIxMlNDamhUaWg5SVBFUUNZOEU0SHlzK1Z3S21walVDWWpHZFR4QVFmbEdrZmRqQnZyd0s2aitkRUE9PSIsIm1hYyI6IjZjYzJjN2IxNDg0NjVjZTI5MDIyZTVlOGVkYTgzZDc1MzZmYTQ3NjY1MGM5NmZjZDYzYTNmNmM2OTAxNzczY2IifQ%3D%3D; 591_new_session=eyJpdiI6IkxWY1VhejFMemZHSkVMd01WVUhFQ0E9PSIsInZhbHVlIjoiZzdhVlU2bk9LSjNnQVBHT09ES1pDSGo4Zk0rMlJINVFxYk12eVpVcFp1MFYwbXp1XC9HbkxFYUdVMTZPelMyTnZHT1NUWFVTOHgwN3ZzXC9oN1wvbkVOOVE9PSIsIm1hYyI6IjhjOTU4NjZiMDM4M2VjZWM3NmQ5MjBkYmQzZWI4ZjRjNWQ0NDQwNDJlZDM4NGU4MTRkODhmODVmYTM0NjdiYTkifQ%3D%3D\",\n",
    "    \"X-CSRF-TOKEN\": \"OH3dybKd3yaw65OAZtcfIGeGR0y6MzhG9Lj3wNA4\",\n",
    "    \"User-Agent\": \"Mozilla/5.0 (Macintosh; Intel Mac OS X 10_12_6) AppleWebKit/537.36 (KHTML, like Gecko) Chrome/90.0.4430.212 Safari/537.36\"\n",
    "}\n",
    "\n",
    "result = []\n",
    "\n",
    "\n",
    "for i in range(5):\n",
    "    firstRow = 30*i\n",
    "    # print(firstRow)\n",
    "    url = api.format(sec=section , row=firstRow)\n",
    "    res = requests.get(url,headers=headers)\n",
    "    raw_data = res.json()\n",
    "    \n",
    "    dataList = parsing_data(raw_data)\n",
    "    \n",
    "    result += dataList\n",
    "    \n",
    "    print(\"{} is ok.\".format(url))\n",
    "    \n",
    "print(\"Done.\")"
   ]
  },
  {
   "cell_type": "code",
   "execution_count": null,
   "id": "4083cbd1",
   "metadata": {},
   "outputs": [],
   "source": [
    "##### 抓取分頁 #2\n",
    "import time\n",
    "    \n",
    "# section 代號\n",
    "# 中山 -> 3\n",
    "# 信義 -> 7\n",
    "# 松山 -> 4\n",
    "\n",
    "### 使用 for-loop 將三區域 一次抓\n",
    "# https://rent.591.com.tw/home/search/rsList?is_format_data=1&is_new_list=1&type=1&section={}&searchtype=1&showMore=1&multiArea=10_20&firstRow={}&totalRows=993\n",
    "api = \"https://rent.591.com.tw/home/search/rsList?is_format_data=1&is_new_list=1&type=1&section={sec}&searchtype=1&showMore=1&multiArea=10_20&firstRow={row}&totalRows=993\"\n",
    "headers = {\n",
    "    \"Host\": \"rent.591.com.tw\",\n",
    "    \"Referer\": \"https://rent.591.com.tw/?multiArea=10_20&showMore=1&section=3&searchtype=1&firstRow=0&totalRows=993\",\n",
    "    \"Cookie\": \"webp=1; PHPSESSID=g3u3tnc81fjrk7ighgv2mkr3m4; urlJumpIp=1; urlJumpIpByTxt=%E5%8F%B0%E5%8C%97%E5%B8%82; new_rent_list_kind_test=1; newUI=1; T591_TOKEN=g3u3tnc81fjrk7ighgv2mkr3m4; _ga=GA1.3.1649913125.1636598035; _gid=GA1.3.822631898.1636598035; _ga=GA1.4.1649913125.1636598035; _gid=GA1.4.822631898.1636598035; tw591__privacy_agree=0; _fbp=fb.2.1636598035774.332302313; _gat_UA-97423186-1=1; XSRF-TOKEN=eyJpdiI6IlpSOXZ1SVlCZHpzNWswdzQzYThLUFE9PSIsInZhbHVlIjoiTGdzaXFPblN4bUZmQ3U1Z3AzWG1MZUNrbDFiMjIxMlNDamhUaWg5SVBFUUNZOEU0SHlzK1Z3S21walVDWWpHZFR4QVFmbEdrZmRqQnZyd0s2aitkRUE9PSIsIm1hYyI6IjZjYzJjN2IxNDg0NjVjZTI5MDIyZTVlOGVkYTgzZDc1MzZmYTQ3NjY1MGM5NmZjZDYzYTNmNmM2OTAxNzczY2IifQ%3D%3D; 591_new_session=eyJpdiI6IkxWY1VhejFMemZHSkVMd01WVUhFQ0E9PSIsInZhbHVlIjoiZzdhVlU2bk9LSjNnQVBHT09ES1pDSGo4Zk0rMlJINVFxYk12eVpVcFp1MFYwbXp1XC9HbkxFYUdVMTZPelMyTnZHT1NUWFVTOHgwN3ZzXC9oN1wvbkVOOVE9PSIsIm1hYyI6IjhjOTU4NjZiMDM4M2VjZWM3NmQ5MjBkYmQzZWI4ZjRjNWQ0NDQwNDJlZDM4NGU4MTRkODhmODVmYTM0NjdiYTkifQ%3D%3D\",\n",
    "    \"X-CSRF-TOKEN\": \"OH3dybKd3yaw65OAZtcfIGeGR0y6MzhG9Lj3wNA4\",\n",
    "    \"User-Agent\": \"Mozilla/5.0 (Macintosh; Intel Mac OS X 10_12_6) AppleWebKit/537.36 (KHTML, like Gecko) Chrome/90.0.4430.212 Safari/537.36\"\n",
    "}\n",
    "\n",
    "dataDict = {\n",
    "    \"3\" : [],\n",
    "    \"7\" : [],\n",
    "    \"4\" : []\n",
    "}\n",
    "mapping = {\n",
    "    \"3\" : \"中山區\",\n",
    "    \"7\" : \"信義區\",\n",
    "    \"4\" : \"松山區\"\n",
    "}\n",
    "\n",
    "\n",
    "for section in [3,7,4]:\n",
    "    \n",
    "    for i in range(5):\n",
    "        firstRow = 30*i\n",
    "        url = api.format(sec=section , row=firstRow)\n",
    "        \n",
    "        time.sleep(0.3)\n",
    "        \n",
    "        res = requests.get(url,headers=headers)\n",
    "        raw_data = res.json()\n",
    "\n",
    "        dataList = parsing_data(raw_data)\n",
    "        \n",
    "        dataDict[str(section)] += dataList\n",
    "\n",
    "        print(\"{} is ok.\".format(url))\n",
    "        \n",
    "    print(\"{} 抓取完畢！\".format(mapping[str(section)]))\n",
    "    print(\"-\"*80)\n",
    "    \n",
    "print(\"Done.\")"
   ]
  },
  {
   "cell_type": "code",
   "execution_count": 136,
   "id": "99c0cfa2",
   "metadata": {},
   "outputs": [],
   "source": [
    "# dataDict[\"4\"]"
   ]
  },
  {
   "cell_type": "code",
   "execution_count": 137,
   "id": "ff61d9bf",
   "metadata": {
    "scrolled": false
   },
   "outputs": [],
   "source": [
    "# sum([ele[\"price\"] for ele in dataDict[\"4\"]])"
   ]
  },
  {
   "cell_type": "code",
   "execution_count": 138,
   "id": "2fac875b",
   "metadata": {
    "scrolled": true
   },
   "outputs": [],
   "source": [
    "# sorted(dataDict[\"4\"] , key = lambda ele : ele[\"price_per_area\"] , reverse=True)"
   ]
  },
  {
   "cell_type": "code",
   "execution_count": 132,
   "id": "40fdffe5",
   "metadata": {},
   "outputs": [
    {
     "name": "stdout",
     "output_type": "stream",
     "text": [
      "『中山區』 : \n",
      "平均價位 : 24731.221\n",
      "平均坪數 : 13.069\n",
      "單價最高之物件 : 法式浪漫主義.唯美輕奢.懂享受不凡的自己\n",
      "單價最高之物件一坪單價 : 3181.73\n",
      "單價最高之物件連結 :  https://rent.591.com.tw/home/11668431\n",
      "--------------------------------------------------------------------------------\n",
      "『信義區』 : \n",
      "平均價位 : 27835.4\n",
      "平均坪數 : 13.342\n",
      "單價最高之物件 : MRT市政府•2BR•Ser.Apt.\n",
      "單價最高之物件一坪單價 : 5201.72\n",
      "單價最高之物件連結 :  https://rent.591.com.tw/home/11569231\n",
      "--------------------------------------------------------------------------------\n",
      "『松山區』 : \n",
      "平均價位 : 24961.858\n",
      "平均坪數 : 13.904\n",
      "單價最高之物件 : MRT小巨蛋•1BR•Ser.Apt.\n",
      "單價最高之物件一坪單價 : 6923.08\n",
      "單價最高之物件連結 :  https://rent.591.com.tw/home/11569362\n",
      "--------------------------------------------------------------------------------\n"
     ]
    }
   ],
   "source": [
    "##### 分析命題\n",
    "\n",
    "\n",
    "for key in dataDict:\n",
    "    section_name = mapping[key]\n",
    "    print(\"『{}』 : \".format(section_name))\n",
    "    \n",
    "    # 1. 顯示 各區的 平均月租金 & 平均之坪數\n",
    "    avg_price = sum([ ele[\"price\"] for ele in dataDict[key]]) / len(dataDict[key])\n",
    "    print(\"平均價位 :\" , round(avg_price,3))\n",
    "    \n",
    "    avg_area  = sum([ ele[\"area\"] for ele in dataDict[key]]) / len(dataDict[key])\n",
    "    print(\"平均坪數 :\" , round(avg_area,3))\n",
    "    \n",
    "    ###########################################################################\n",
    "    \n",
    "    \n",
    "    # 2. 顯示 各區中 一坪單價最高之物件資料 , 需顯示該物件的 \n",
    "    #    名稱 / 單位坪數價格 / 連結 , 可連回原本之網頁供參\n",
    "    \n",
    "    sorted_data = sorted(dataDict[key] , key = lambda ele : ele[\"price_per_area\"] , reverse=True)\n",
    "    big_element = sorted_data[0]\n",
    "    # print(big_element)\n",
    "    \n",
    "    print(\"單價最高之物件 :\" , big_element[\"title\"])\n",
    "    print(\"單價最高之物件一坪單價 :\" , big_element[\"price_per_area\"])\n",
    "    print(\"單價最高之物件連結 : \" , big_element[\"url\"])\n",
    "\n",
    "    print(\"-\"*80)"
   ]
  }
 ],
 "metadata": {
  "kernelspec": {
   "display_name": "Python 3",
   "language": "python",
   "name": "python3"
  },
  "language_info": {
   "codemirror_mode": {
    "name": "ipython",
    "version": 3
   },
   "file_extension": ".py",
   "mimetype": "text/x-python",
   "name": "python",
   "nbconvert_exporter": "python",
   "pygments_lexer": "ipython3",
   "version": "3.8.8"
  }
 },
 "nbformat": 4,
 "nbformat_minor": 5
}
