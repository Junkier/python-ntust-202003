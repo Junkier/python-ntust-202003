{
 "cells": [
  {
   "cell_type": "code",
   "execution_count": 231,
   "metadata": {},
   "outputs": [],
   "source": [
    "### 使用 requetsts\n",
    "import   requests \n",
    "url = \"https://www.nownews.com/cat/column/\"\n",
    "\n",
    "res = requests.get(url )\n",
    "# print(res.text)"
   ]
  },
  {
   "cell_type": "code",
   "execution_count": 232,
   "metadata": {},
   "outputs": [],
   "source": [
    "### 加入 headers\n",
    "headers = {\n",
    "    \"user-agent\": \"Mozilla/5.0 (Macintosh; Intel Mac OS X 10_12_6) AppleWebKit/537.36 (KHTML, like Gecko) Chrome/90.0.4430.212 Safari/537.36 \"\n",
    "}\n",
    "res = requests.get(url , headers=headers)\n",
    "# print(res.text)"
   ]
  },
  {
   "cell_type": "code",
   "execution_count": 233,
   "metadata": {
    "scrolled": true
   },
   "outputs": [],
   "source": [
    "### 放入 BeautifulSoup\n",
    "from bs4 import BeautifulSoup as bs\n",
    "soup = bs(res.text,\"lxml\")\n",
    "# soup\n",
    "# print(type(res.text))\n",
    "# print(soup)\n",
    "# soup.select(\"div.leftCol ul\")\n",
    "# soup.select(\"div.leftCol ul li\")\n",
    "# soup.select(\"div.leftCol ul\")"
   ]
  },
  {
   "cell_type": "code",
   "execution_count": 205,
   "metadata": {
    "scrolled": true
   },
   "outputs": [
    {
     "name": "stdout",
     "output_type": "stream",
     "text": [
      "<a class=\"trace-click\" data-sec=\"main_menu\" data-tracetype=\"brand\" href=\"https://onepage.nownews.com/\" rel=\"noopener\" target=\"_blank\" title=\"NOWnews懶人包\"><img alt=\"NOWnews 懶人包\" src=\"https://www.nownews.com/NOWnews/images/icon/subsite-color/icon-onepage.svg\"/></a>\n",
      "[<h3>《魷魚遊戲》爆紅創商機　智慧局證實：Netflix申請商標</h3>, <h3>日本第6度供台疫苗　30萬劑27日運抵</h3>, <h3>國旅券第三輪抽籤號碼出爐！領券、使用方法看這裡</h3>, <h3>NBA／詹皇差點再受重傷　湖人更新傷情</h3>, <h3>嫁了！真子公主與小室圭登記結婚　下午將召開記者會</h3>, <h3>憂防護力降　歐盟批准向18歲以上追打莫德納</h3>, <h3>MLB／超狂！大谷又入圍銀棒獎！有機會追上朗神</h3>, <h3>速食也能進補！肯德基攜手台酒「花雕紙包雞​​」今開賣</h3>]\n",
      "[<h2>Sony新品Xperia PRo-I發布　首款一吋感光媲美單眼手機</h2>, <h2>五倍券或新北加倍券購電動機車　新北再加碼補助8千元</h2>, <h2>馬雲「失寵」滿一週年　阿里巴巴市值蒸發9.5兆</h2>, <h2>陳其邁陪城中城受災戶看屋　擬提高租屋補助</h2>, <h2>Delta變種攪翻全球疫情　俄研究所公布電子顯微鏡照</h2>]\n"
     ]
    }
   ],
   "source": [
    "### soup 操作 #1\n",
    "a_tags = soup.select(\"a\")\n",
    "# print(len(a_tags))\n",
    "# print(a_tags)\n",
    "print(a_tags[3])\n",
    "# for a in a_tags:\n",
    "#     print(a)\n",
    "# print(soup.select(\"a\"))\n",
    "\n",
    "\n",
    "h3_tags = soup.select(\"h3\")\n",
    "print(h3_tags)\n",
    "\n",
    "h2_tags = soup.select(\"h2\")\n",
    "print(h2_tags)\n",
    "\n",
    "\n",
    "p_tags = soup.select(\"a p\")\n",
    "\n",
    "# for p in p_tags:\n",
    "#     print(p)\n",
    "\n",
    "# print(soup.select(\"div.leftCol li p\"))"
   ]
  },
  {
   "cell_type": "code",
   "execution_count": 207,
   "metadata": {
    "scrolled": true
   },
   "outputs": [],
   "source": [
    "### soup 操作 #2\n",
    "### 透過 id & class 取值\n",
    "\n",
    "## id \n",
    "ul_tags = soup.select(\"#ulNewsList\")[0]\n",
    "# print(ul_tags)\n",
    "\n",
    "## class\n",
    "# soup.select(\"div.leftCol li div.txt\")\n"
   ]
  },
  {
   "cell_type": "code",
   "execution_count": 208,
   "metadata": {
    "scrolled": true
   },
   "outputs": [],
   "source": [
    "### soup 操作 #3\n",
    "### 透過 屬性值 取值 \n",
    "url = \"https://petsmao.nownews.com/\"\n",
    "res = requests.get(url)\n",
    "soup2 = bs(res.text,\"lxml\")\n",
    "\n",
    "# soup2.select(\"li.menu-item\")\n",
    "# soup2.select(\"li#nav-menu-item-11427\")\n",
    "# soup2.select(\"li[data-nav-item-type='custom']\")\n",
    "# soup2.select(\"li[data-nav-item-type='category']\")\n",
    "# soup2.select(\"li[data-nav-item-type='custom']\")\n",
    "# soup2.select(\"a[target='_self']\")\n"
   ]
  },
  {
   "cell_type": "code",
   "execution_count": 209,
   "metadata": {
    "scrolled": true
   },
   "outputs": [
    {
     "name": "stdout",
     "output_type": "stream",
     "text": [
      "[<img alt=\"《魷魚遊戲》爆紅創商機　智慧局證實：Netflix申請商標\" class=\"resize\" loading=\"lazy\" src=\"https://media.nownews.com/nn_media/thumbnail/2021/10/1634271893805-cef9e37319ff416797e96939a6685acb-1200x695.jpeg?unShow=false\"/>, <img alt=\"日本第6度供台疫苗　30萬劑27日運抵\" class=\"resize\" loading=\"lazy\" src=\"https://media.nownews.com/nn_media/thumbnail/2021/07/1625733527609-b2b3ed66703a42abac9771834af77460-1200x766.jpg?unShow=false\"/>, <img alt=\"國旅券第三輪抽籤號碼出爐！領券、使用方法看這裡\" class=\"resize\" loading=\"lazy\" src=\"https://media.nownews.com/nn_media/thumbnail/2021/09/1632835162644-fb39635a59784a889eb61cd8bee7f08b-1200x675.jpeg?unShow=false\"/>, <img alt=\"NBA／詹皇差點再受重傷　湖人更新傷情\" class=\"resize\" loading=\"lazy\" src=\"https://media.nownews.com/nn_media/thumbnail/2021/05/1621813576247-d23b4164249b411faa28f9e2d0da64d3-1000x666.jpg?unShow=false\"/>, <img alt=\"嫁了！真子公主與小室圭登記結婚　下午將召開記者會\" class=\"resize\" loading=\"lazy\" src=\"https://media.nownews.com/nn_media/thumbnail/2021/09/1632552896351-2ec4281ca775449e825e9f18fbb9fe5c-1200x872.jpg?unShow=false\"/>, <img alt=\"憂防護力降　歐盟批准向18歲以上追打莫德納\" class=\"resize\" loading=\"lazy\" src=\"https://media.nownews.com/nn_media/thumbnail/2020/06/1593527666535-39e7c6420f6e41cfadd69af7fe44b529-1024x646.jpg?unShow=false\"/>, <img alt=\"MLB／超狂！大谷又入圍銀棒獎！有機會追上朗神\" class=\"resize\" loading=\"lazy\" src=\"https://media.nownews.com/nn_media/thumbnail/2021/10/1633304160994-047567171abe47a094db2c825cb9c6ff-512x341.jpg?unShow=false\"/>, <img alt=\"速食也能進補！肯德基攜手台酒「花雕紙包雞​​」今開賣\" class=\"resize\" loading=\"lazy\" src=\"https://media.nownews.com/nn_media/thumbnail/2021/10/1635208206425-7eddd55a073544abaf412ccac0d63c79-1200x787.jpg?unShow=false\"/>]\n"
     ]
    }
   ],
   "source": [
    "### soup 操作 #4\n",
    "### 常用概念\n",
    "ul_tags = soup.select(\"#ulNewsList\")\n",
    "\n",
    "# 1. select 完 , 回傳為類似 list \n",
    "# print(ul_tags)\n",
    "# print(len(ul_tags))\n",
    "# print(type(ul_tags))\n",
    "ul = ul_tags[0]\n",
    "# print(ul)\n",
    " \n",
    "# 2. class 為 soup , 才可以做 select\n",
    "# print(type(ul))\n",
    "print(ul.select(\"img\"))\n",
    "# print(ul.select(\"h3\"))\n",
    "# print(ul.select(\"a p\"))"
   ]
  },
  {
   "cell_type": "code",
   "execution_count": 234,
   "metadata": {},
   "outputs": [
    {
     "name": "stdout",
     "output_type": "stream",
     "text": [
      "《魷魚遊戲》爆紅創商機　智慧局證實：Netflix申請商標\n",
      "2021-10-26 10:53\n",
      "https://media.nownews.com/nn_media/thumbnail/2021/10/1634271893805-cef9e37319ff416797e96939a6685acb-1200x695.jpeg?unShow=false\n",
      "--------------------------------------------------------------------------------\n",
      "日本第6度供台疫苗　30萬劑27日運抵\n",
      "2021-10-26 10:39\n",
      "https://media.nownews.com/nn_media/thumbnail/2021/07/1625733527609-b2b3ed66703a42abac9771834af77460-1200x766.jpg?unShow=false\n",
      "--------------------------------------------------------------------------------\n",
      "國旅券第三輪抽籤號碼出爐！領券、使用方法看這裡\n",
      "2021-10-26 10:34\n",
      "https://media.nownews.com/nn_media/thumbnail/2021/09/1632835162644-fb39635a59784a889eb61cd8bee7f08b-1200x675.jpeg?unShow=false\n",
      "--------------------------------------------------------------------------------\n"
     ]
    }
   ],
   "source": [
    "### soup 操作 #5\n",
    "\n",
    "# 3. 取出標籤屬性值\n",
    "# ele = soup.select(\"div.card\")[0]\n",
    "# # print(ele)\n",
    "# print(ele.text.strip())\n",
    "# print(\"-\"*80)\n",
    "\n",
    "# img_tag = ele.select(\"img\")[0]\n",
    "# print(img_tag)\n",
    "# print(img_tag[\"alt\"])\n",
    "# print(img_tag[\"loading\"])\n",
    "# print(img_tag[\"src\"])\n",
    "\n",
    "ul_tags = soup.select(\"#ulNewsList\")\n",
    "ul = ul_tags[0]\n",
    "\n",
    "a_tags = ul.select(\"a\")\n",
    "\n",
    "for a in a_tags[:3]:\n",
    "    print(a.select(\"h3\")[0].text)\n",
    "    print(a.select(\"p\")[0].text)\n",
    "    print(a.select(\"img\")[0][\"src\"])\n",
    "    print(\"-\"*80)"
   ]
  },
  {
   "cell_type": "code",
   "execution_count": 126,
   "metadata": {},
   "outputs": [
    {
     "name": "stdout",
     "output_type": "stream",
     "text": [
      "Before:\n",
      "<div class=\"card\">\n",
      "<div class=\"img\">\n",
      "\n",
      "</div>\n",
      "<div class=\"txt\">\n",
      "\n",
      "\n",
      "\n",
      "</div>\n",
      "</div>\n",
      "--------------------------------------------------------------------------------\n",
      "--------------------------------------------------------------------------------\n",
      "After:\n",
      "<div class=\"card\">\n",
      "<div class=\"img\">\n",
      "\n",
      "</div>\n",
      "<div class=\"txt\">\n",
      "\n",
      "\n",
      "\n",
      "</div>\n",
      "</div>\n"
     ]
    }
   ],
   "source": [
    "### soup 操作 #6\n",
    "### .extract() 拔除\n",
    "ele = soup.select(\"div.card\")[4]\n",
    "print(\"Before:\")\n",
    "print(ele)\n",
    "print(\"-\"*80)\n",
    "\n",
    "\n",
    "# print(ele.text)\n",
    "if len(ele.select(\"h2\")) >0:\n",
    "    ele.select(\"h2\")[0].extract()\n",
    "#     img = ele.select(\"img\")[0]\n",
    "#     img.extract()\n",
    "#     print(img)\n",
    "\n",
    "#     ele.select(\"img\")[0].extract()\n",
    "\n",
    "print(\"-\"*80)\n",
    "print(\"After:\")\n",
    "print(ele)"
   ]
  },
  {
   "cell_type": "code",
   "execution_count": 137,
   "metadata": {},
   "outputs": [
    {
     "name": "stdout",
     "output_type": "stream",
     "text": [
      "https://www.nownews.com/news/5421833\n",
      "https://www.nownews.com/news/5421860\n",
      "https://www.nownews.com/news/5421967\n",
      "https://www.nownews.com/news/5421962\n",
      "https://www.nownews.com/news/5421886\n",
      "https://www.nownews.com/news/5421851\n",
      "https://www.nownews.com/news/5421852\n",
      "https://www.nownews.com/news/5421849\n",
      "https://www.nownews.com/news/5421850\n",
      "https://www.nownews.com/news/5421819\n"
     ]
    }
   ],
   "source": [
    "### 抓取 1 ~ 10 篇 連結\n",
    "links = []\n",
    "\n",
    "soup.select(\"div.sliderBlk div.slider3D a\")\n",
    "\n",
    "\n",
    "# 主要前 5 篇\n",
    "for a_tag in soup.select(\"div.sliderBlk div.slider3D a\"):\n",
    "#     print(a_tag)\n",
    "#     print(a_tag[\"href\"])\n",
    "    links.append(a_tag[\"href\"])\n",
    "\n",
    "\n",
    "# 次要後 5 篇\n",
    "\n",
    "for a_tag in soup.select(\"div.leftCol div.listBlk a\"):\n",
    "#     print(a_tag)\n",
    "#     print(a_tag[\"href\"])\n",
    "    links.append(a_tag[\"href\"])\n",
    "\n",
    "\n",
    "for l in links:\n",
    "    print(l)"
   ]
  },
  {
   "cell_type": "code",
   "execution_count": 210,
   "metadata": {},
   "outputs": [],
   "source": [
    "### 取得本文 source\n",
    "url2 = links[8]\n",
    "res2 = requests.get(url2,headers=headers)\n",
    "soup2 = bs(res2.text,\"lxml\")\n",
    "# soup2"
   ]
  },
  {
   "cell_type": "code",
   "execution_count": 165,
   "metadata": {},
   "outputs": [
    {
     "name": "stdout",
     "output_type": "stream",
     "text": [
      "category: NOWnews 今日新聞 > 中央社\n",
      "title: 中國25日新增29例新冠本土　內蒙甘肅居多\n",
      "time: 2021-10-26 12:22:23\n",
      "content: （中央社台北26日電）中國25日新增43例COVID-19（2019冠狀病毒疾病）確診，其中境外移入病例14例，本土病例29例則由內蒙古、甘肅、北京、寧夏、山東等地通報。本土另新增無症狀感染5例。\n",
      "\r\n",
      "\t\t\t\t            \t中國國家衛生健康委員會上午在官網通報，10月25日0至24時，中國31個省（自治區、直轄市）和新疆生產建設兵團報告新增確診病例43例。本土病例29例，內蒙古占16例，其中阿拉善盟15例、鄂爾多斯市1例；甘肅蘭州市6例；北京昌平區3例；寧夏3例，銀川市、吳忠市及中衛市各1例；山東日照1例。境外移入病例14例，分別為廣東4例、上海2例、河南2例、廣西2例、北京1例、福建1例、山東1例、四川1例。上海另新增1例境外移入的疑似病例。目前境外移入現有確診病例386例，累計確診病例9521例。無症狀感染者新增26例，其中境外移入21例，本土5例，包含貴州遵義市2例，雲南德宏傣族景頗族自治州2例，北京昌平區1例。目前尚在醫學觀察的無症狀感染者384例。截至10月25日24時，中國大陸現有確診病例603例，累計出院病例9萬1601例，累計死亡病例4636例，累計報告確診病例9萬6840例，現有疑似病例4例。累計追蹤到密切接觸者123萬3485人，尚在醫學觀察的密切接觸者3萬3307人。香港特別行政區累計確診1萬2327例，其中出院1萬2023例，死亡213例；澳門特別行政區累計確診77例，其中66例已出院。（編輯：翟思嘉/沈朋達）1101026\n"
     ]
    }
   ],
   "source": [
    "### 解析頁面資料\n",
    "## 抓取 category , title , time , content\n",
    "category = soup2.select(\"div.breadCrumbBlk\")[0].text.strip().replace(\"\\n\\n\",\" > \")\n",
    "print(\"category:\",category)\n",
    "\n",
    "title = soup2.select(\"div.titleBlk h1\")[0].text\n",
    "print(\"title:\",title)\n",
    "\n",
    "time = soup2.select(\"div.titleBlk p.time\")[0].text.strip()\n",
    "print(\"time:\",time)\n",
    "\n",
    "article = soup2.select(\"#news article\")[0]\n",
    "\n",
    "if len(article.select(\".ad-blk1\"))   >0 : \n",
    "    article.select(\".ad-blk1\")[0].extract()\n",
    "    \n",
    "if len(article.select(\"ul.related\")) >0 : \n",
    "    article.select(\"ul.related\")[0].extract()\n",
    "    \n",
    "content = article.text.strip()\n",
    "print(\"content:\", content)"
   ]
  },
  {
   "cell_type": "code",
   "execution_count": 168,
   "metadata": {},
   "outputs": [
    {
     "name": "stdout",
     "output_type": "stream",
     "text": [
      "（中央社台北26日電）中國25日新增43例COVID-19（2019冠狀病毒疾病）確診，其中境外移入病例14例，本土病例29例則由內蒙古、甘肅、北京、寧夏、山東等地通報。本土另新增無症狀感染5例。\n",
      "\r\n",
      "\t\t\t\t            \t中國國家衛生健康委員會上午在官網通報，10月25日0至24時，中國31個省（自治區、直轄市）和新疆生產建設兵團報告新增確診病例43例。本土病例29例，內蒙古占16例，其中阿拉善盟15例、鄂爾多斯市1例；甘肅蘭州市6例；北京昌平區3例；寧夏3例，銀川市、吳忠市及中衛市各1例；山東日照1例。境外移入病例14例，分別為廣東4例、上海2例、河南2例、廣西2例、北京1例、福建1例、山東1例、四川1例。上海另新增1例境外移入的疑似病例。目前境外移入現有確診病例386例，累計確診病例9521例。無症狀感染者新增26例，其中境外移入21例，本土5例，包含貴州遵義市2例，雲南德宏傣族景頗族自治州2例，北京昌平區1例。目前尚在醫學觀察的無症狀感染者384例。截至10月25日24時，中國大陸現有確診病例603例，累計出院病例9萬1601例，累計死亡病例4636例，累計報告確診病例9萬6840例，現有疑似病例4例。累計追蹤到密切接觸者123萬3485人，尚在醫學觀察的密切接觸者3萬3307人。香港特別行政區累計確診1萬2327例，其中出院1萬2023例，死亡213例；澳門特別行政區累計確診77例，其中66例已出院。（編輯：翟思嘉/沈朋達）1101026\n"
     ]
    }
   ],
   "source": [
    "print(soup2.select(\"#news article\")[0].text.strip())\n",
    "# print(soup2.select(\"#news article\")[0].select(\".ad-blk1\"))\n",
    "# print(soup2.select(\"#news article\")[0].select(\"ul.related\"))"
   ]
  },
  {
   "cell_type": "code",
   "execution_count": 175,
   "metadata": {},
   "outputs": [],
   "source": [
    "### 組合成不同 function\n",
    "\n",
    "def parsing_data(content_soup):\n",
    "    category = content_soup.select(\"div.breadCrumbBlk\")[0].text.strip().replace(\"\\n\\n\",\" > \")\n",
    "\n",
    "    title = content_soup.select(\"div.titleBlk h1\")[0].text\n",
    "\n",
    "    time = content_soup.select(\"div.titleBlk p.time\")[0].text.strip()\n",
    "\n",
    "    article = content_soup.select(\"#news article\")[0]\n",
    "\n",
    "    if len(article.select(\".ad-blk1\"))   >0 : \n",
    "        article.select(\".ad-blk1\")[0].extract()\n",
    "\n",
    "    if len(article.select(\"ul.related\")) >0 : \n",
    "        article.select(\"ul.related\")[0].extract()\n",
    "\n",
    "    content = article.text.strip()\n",
    "    \n",
    "    data = {\n",
    "        \"category\" : category,\n",
    "        \"title\" : title,\n",
    "        \"time\" : time,\n",
    "        \"content\" : content,\n",
    "    }\n",
    "    return data\n",
    "\n",
    "def get_page_source_code(link):\n",
    "    headers = {\n",
    "        \"user-agent\": \"Mozilla/5.0 (Macintosh; Intel Mac OS X 10_12_6) AppleWebKit/537.36 (KHTML, like Gecko) Chrome/90.0.4430.212 Safari/537.36 \"\n",
    "    }\n",
    "    res = requests.get(link,headers=headers)\n",
    "    soup = bs( res.text , \"lxml\")\n",
    "    return soup\n"
   ]
  },
  {
   "cell_type": "code",
   "execution_count": 224,
   "metadata": {
    "scrolled": true
   },
   "outputs": [
    {
     "name": "stdout",
     "output_type": "stream",
     "text": [
      "https://www.nownews.com/news/5421833 is ok.\n",
      "https://www.nownews.com/news/5421860 is ok.\n",
      "Done.\n"
     ]
    }
   ],
   "source": [
    "### for-loop 抓取其他資料\n",
    "dataList = []\n",
    "\n",
    "for l in links[:2]:\n",
    "    soup = get_page_source_code(l)\n",
    "    data = parsing_data(soup)\n",
    "    dataList.append(data)\n",
    "    \n",
    "    print(\"{} is ok.\".format(l))\n",
    "    \n",
    "print(\"Done.\")\n"
   ]
  },
  {
   "cell_type": "code",
   "execution_count": null,
   "metadata": {},
   "outputs": [],
   "source": [
    "dataList"
   ]
  },
  {
   "cell_type": "code",
   "execution_count": 220,
   "metadata": {},
   "outputs": [
    {
     "ename": "FileNotFoundError",
     "evalue": "[Errno 2] No such file or directory: 'sample/陳時中：二級警戒11/2不會調降\\u3000春節檢疫方案研議中.txt'",
     "output_type": "error",
     "traceback": [
      "\u001b[0;31m---------------------------------------------------------------------------\u001b[0m",
      "\u001b[0;31mFileNotFoundError\u001b[0m                         Traceback (most recent call last)",
      "\u001b[0;32m<ipython-input-220-6def738a9de5>\u001b[0m in \u001b[0;36m<module>\u001b[0;34m\u001b[0m\n\u001b[1;32m      4\u001b[0m     \u001b[0mfile_name\u001b[0m \u001b[0;34m=\u001b[0m \u001b[0mdata\u001b[0m\u001b[0;34m[\u001b[0m\u001b[0;34m\"title\"\u001b[0m\u001b[0;34m]\u001b[0m\u001b[0;34m\u001b[0m\u001b[0;34m\u001b[0m\u001b[0m\n\u001b[1;32m      5\u001b[0m \u001b[0;34m\u001b[0m\u001b[0m\n\u001b[0;32m----> 6\u001b[0;31m     \u001b[0;32mwith\u001b[0m \u001b[0mopen\u001b[0m\u001b[0;34m(\u001b[0m\u001b[0;34m\"sample/{}.txt\"\u001b[0m\u001b[0;34m.\u001b[0m\u001b[0mformat\u001b[0m\u001b[0;34m(\u001b[0m\u001b[0mfile_name\u001b[0m\u001b[0;34m)\u001b[0m\u001b[0;34m,\u001b[0m\u001b[0;34m\"w\"\u001b[0m\u001b[0;34m)\u001b[0m \u001b[0;32mas\u001b[0m \u001b[0mout_file\u001b[0m\u001b[0;34m:\u001b[0m\u001b[0;34m\u001b[0m\u001b[0;34m\u001b[0m\u001b[0m\n\u001b[0m\u001b[1;32m      7\u001b[0m \u001b[0;34m\u001b[0m\u001b[0m\n\u001b[1;32m      8\u001b[0m         \u001b[0mrecord\u001b[0m \u001b[0;34m=\u001b[0m \u001b[0;34m\"\"\u001b[0m\u001b[0;34m\u001b[0m\u001b[0;34m\u001b[0m\u001b[0m\n",
      "\u001b[0;31mFileNotFoundError\u001b[0m: [Errno 2] No such file or directory: 'sample/陳時中：二級警戒11/2不會調降\\u3000春節檢疫方案研議中.txt'"
     ]
    }
   ],
   "source": [
    "### 資料輸出成檔案 (資料落地)\n",
    "for data in dataList:\n",
    "\n",
    "    file_name = data[\"title\"]\n",
    "\n",
    "    with open(\"sample/{}.txt\".format(file_name),\"w\") as out_file:\n",
    "\n",
    "        record = \"\"\n",
    "\n",
    "        for key in data:\n",
    "            record += \"{}: {}\\n\".format(key,data[key])\n",
    "            \n",
    "        out_file.write(record)\n"
   ]
  },
  {
   "cell_type": "code",
   "execution_count": 212,
   "metadata": {},
   "outputs": [
    {
     "data": {
      "text/plain": [
       "{'category': 'NOWnews 今日新聞 > 財經',\n",
       " 'title': '《魷魚遊戲》爆紅創商機\\u3000智慧局證實：Netflix申請商標',\n",
       " 'time': '2021-10-26 10:53:37',\n",
       " 'content': '韓國影集《魷魚遊戲》自今年9月17日在Netflix影視平台上映後爆紅，在全球引發話題不斷，成為該平台史上最受歡迎的影集，Netflix也在美國、牙買加等國提出「SQUID GAME」的商標申請。經濟部智慧財產局今（26）日證實，Netflix於10月15日也在台灣申請「魷魚遊戲」、10月19日申請「SQUID GAME」的商標，目前均待審中。\\n\\r\\n\\t\\t\\t\\t            \\t《魷魚遊戲》上映才半個多月就超過1億的收視，僅短短一個多月的時間就成為Netflix史上最受歡迎的影集，不僅創造話題也創造龐大商機，該平台並於9月28日在美國及牙買加等國提出「SQUID GAME」的商標申請，包括電視影集娛樂軟體、影音錄製商品、文具出版品、服飾、公仔玩具、數位娛樂資訊等周邊相關商品及服務，目前已在多國積極進行商標布局。智慧局表示，Netflix毫無疑問將會更積極運用並保護「魷魚遊戲」帶來的商業利益，該平台於10月15日申請「魷魚遊戲」、10月19日申請「SQUID GAME」。根據過往的商標申請觀察，在電影、影集或電玩遊戲知名度大開後，市場很可能會湧現一波攀附的商標申請熱潮，以紅極一時的「哈利波特」、「Harry Potter」為例，他人申請商標經審查被核駁案件數高達30件。不過，智慧局也提醒，如果在他人商標成為著名後，要以相同或近似的商標申請註冊，應注意避免涉及攀附或抄襲，而引發商標權爭議的困擾。此外，貫穿全劇的圓形、三角形、正方形紅衣面具人，也是影集賣點之一，到底「○Δ□」這類圖形是否適合申請商標？智慧局則回應，一般來說，幾何圖形通常較難引起消費者注意，不易取得註冊，通常需要經過一番巧思進行圖樣的設計，或經過申請人廣泛使用，在交易過程中已經可以指示和區別不同的商品或服務來源，才能註冊成商標。'}"
      ]
     },
     "execution_count": 212,
     "metadata": {},
     "output_type": "execute_result"
    }
   ],
   "source": [
    "data"
   ]
  },
  {
   "cell_type": "code",
   "execution_count": 197,
   "metadata": {},
   "outputs": [],
   "source": [
    "with open(\"sample/Delta變種攪翻全球疫情　俄研究所公布電子顯微鏡照.txt\",\"r\") as in_file:\n",
    "    qq = in_file.readlines()"
   ]
  },
  {
   "cell_type": "code",
   "execution_count": 213,
   "metadata": {},
   "outputs": [],
   "source": [
    "### 10/28 GOGOGO !!!\n",
    "### 透過 API 抓 JSON 資料\n",
    "hidden_tag = soup.select(\"#txtPageNo\")[0]\n",
    "pid = hidden_tag[\"value\"]\n",
    "\n",
    "api = \"https://www.nownews.com/nn-client/api/v1/cat/column/?pid={}\"\n",
    "url3 = api.format(pid)\n",
    "\n",
    "res3  = requests.get( url3 , headers=headers )\n",
    "data3 = res3.json()\n"
   ]
  },
  {
   "cell_type": "code",
   "execution_count": 223,
   "metadata": {},
   "outputs": [],
   "source": [
    "# data3"
   ]
  },
  {
   "cell_type": "code",
   "execution_count": 215,
   "metadata": {},
   "outputs": [
    {
     "name": "stdout",
     "output_type": "stream",
     "text": [
      "更多文章*1 ok.\n",
      "更多文章*2 ok.\n",
      "更多文章*3 ok.\n",
      "更多文章*4 ok.\n",
      "更多文章*5 ok.\n",
      "更多文章*6 ok.\n",
      "Done.\n"
     ]
    }
   ],
   "source": [
    "### for-loop 抓約 50 篇文章\n",
    "base = \"https://www.nownews.com\"\n",
    "api  = \"https://www.nownews.com/nn-client/api/v1/cat/column/?pid={}\"\n",
    "\n",
    "for i in range(1,7):\n",
    "    if i != 1:\n",
    "        url3  = api.format(pid)\n",
    "        res3  = requests.get(url3,headers=headers)\n",
    "        data3 = res3.json()\n",
    "\n",
    "    for ele in data3[\"data\"][\"newsList\"]:\n",
    "        link = \"{}{}\".format(base,ele[\"postOnlyUrl\"])\n",
    "        links.append(link)\n",
    "        \n",
    "    print(\"更多文章*{} ok.\".format(i))\n",
    "    pid = ele[\"id\"]\n",
    "    \n",
    "print(\"Done.\")\n"
   ]
  },
  {
   "cell_type": "code",
   "execution_count": null,
   "metadata": {},
   "outputs": [],
   "source": [
    "### 大樂透 GOGOGO  --> 網站掛惹ＱＱ"
   ]
  }
 ],
 "metadata": {
  "kernelspec": {
   "display_name": "Python 3",
   "language": "python",
   "name": "python3"
  },
  "language_info": {
   "codemirror_mode": {
    "name": "ipython",
    "version": 3
   },
   "file_extension": ".py",
   "mimetype": "text/x-python",
   "name": "python",
   "nbconvert_exporter": "python",
   "pygments_lexer": "ipython3",
   "version": "3.8.8"
  }
 },
 "nbformat": 4,
 "nbformat_minor": 2
}
