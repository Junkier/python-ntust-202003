{
 "cells": [
  {
   "cell_type": "code",
   "execution_count": null,
   "metadata": {},
   "outputs": [],
   "source": [
    "# 1.  設計一 func , 可以讓使用者輸入兩數字 (float), \n",
    "#      並計算兩數的總合及平均\n",
    "\n",
    "# 2.  設計一 func , 可回傳 1+2+3+…+n 的值 , \n",
    "#      其中n 為輸入參數 (int)\n",
    "\n",
    "# 3.  設計一 func , 功能如下：\n",
    "#          1) word 為輸入參數 , 必須為字串(str) , 若不為字串\n",
    "#     則顯示訊息 “[*] word must be str.” \n",
    "#          2) 若為字串, 將 word 字串反轉後回傳\n",
    "\n",
    "# 4. 費氏數列為 1,1,2,3,5,8,13,21,… \n",
    "#     試設計一 func , 輸入為 n , 回傳第n項費氏數列之值\n",
    "       \n",
    "# 5. 試撰寫一程式 , 顯示九九乘法表\n"
   ]
  }
 ],
 "metadata": {
  "kernelspec": {
   "display_name": "Python 3",
   "language": "python",
   "name": "python3"
  },
  "language_info": {
   "codemirror_mode": {
    "name": "ipython",
    "version": 3
   },
   "file_extension": ".py",
   "mimetype": "text/x-python",
   "name": "python",
   "nbconvert_exporter": "python",
   "pygments_lexer": "ipython3",
   "version": "3.7.6"
  }
 },
 "nbformat": 4,
 "nbformat_minor": 4
}
