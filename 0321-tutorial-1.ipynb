{
 "cells": [
  {
   "cell_type": "code",
   "execution_count": null,
   "metadata": {},
   "outputs": [],
   "source": [
    "# 1.  設計一 func , 可以讓使用者輸入兩數字 (float), \n",
    "#      並計算兩數的總合及平均\n",
    "\n",
    "# 2.  設計一 func , 可回傳 1+2+3+…+n 的值 , \n",
    "#      其中n 為輸入參數 (int)\n",
    "\n",
    "# 3.  設計一 func , 功能如下：\n",
    "#          1) word 為輸入參數 , 必須為字串(str) , 若不為字串\n",
    "#     則顯示訊息 “[*] word must be str.” \n",
    "#          2) 若為字串, 將 word 字串反轉後回傳\n",
    "\n",
    "# 4. 費氏數列為 1,1,2,3,5,8,13,21,… \n",
    "#     試設計一 func , 輸入為 n , 回傳第n項費氏數列之值\n",
    "       \n",
    "# 5. 試撰寫一程式 , 顯示九九乘法表\n"
   ]
  },
  {
   "cell_type": "code",
   "execution_count": 5,
   "metadata": {},
   "outputs": [
    {
     "name": "stdout",
     "output_type": "stream",
     "text": [
      "請輸入數字1:123\n",
      "請輸入數字2:234\n",
      "Sum : 357.0\n",
      "Avg : 178.5\n"
     ]
    }
   ],
   "source": [
    "# 1.  設計一 func , 可以讓使用者輸入兩數字 (float), \n",
    "#      並計算兩數的總合及平均\n",
    "\n",
    "def answer1(num1,num2):\n",
    "    # num1 = float(input(\"請輸入數字1:\"))\n",
    "    # num2 = float(input(\"請輸入數字2:\"))\n",
    "    print(\"Sum :\",(num1+num2))\n",
    "    print(\"Avg :\",(num1+num2)/2)\n",
    "\n",
    "### main\n",
    "num1 = float(input(\"請輸入數字1:\"))\n",
    "num2 = float(input(\"請輸入數字2:\"))\n",
    "\n",
    "answer1(num1,num2)\n"
   ]
  },
  {
   "cell_type": "code",
   "execution_count": 15,
   "metadata": {},
   "outputs": [
    {
     "name": "stdout",
     "output_type": "stream",
     "text": [
      "55\n"
     ]
    }
   ],
   "source": [
    "# 2.  設計一 func , 可回傳 1+2+3+…+n 的值 , \n",
    "#      其中 n 為輸入參數 (int)\n",
    "\n",
    "def answer2(n):\n",
    "    # 1) for-loop\n",
    "#     result = 0\n",
    "    \n",
    "#     for i in range(1,n+1):\n",
    "#         # result = result + i\n",
    "#         result += i \n",
    "        \n",
    "#     return result\n",
    "\n",
    "    # 2) while-loop\n",
    "    result = 0\n",
    "    count  = 1\n",
    "    \n",
    "    while True:\n",
    "        result += count\n",
    "        count  += 1\n",
    "        \n",
    "        if count > n:\n",
    "            break\n",
    "            \n",
    "    return result\n",
    "        \n",
    "\n",
    "        \n",
    "    \n",
    "\n",
    "    \n",
    "    \n",
    "### main\n",
    "result = answer2(10)\n",
    "print(result)\n"
   ]
  },
  {
   "cell_type": "code",
   "execution_count": 9,
   "metadata": {},
   "outputs": [
    {
     "name": "stdout",
     "output_type": "stream",
     "text": [
      "[1, 2, 3, 4, 5, 6, 7]\n",
      "[1, 2, 3, 4, 5, 6, 7, 8, 9]\n"
     ]
    }
   ],
   "source": [
    "test = [1,2,3,4,5,6,7]\n",
    "print(test)\n",
    "print(list(range(1,10)))"
   ]
  }
 ],
 "metadata": {
  "kernelspec": {
   "display_name": "Python 3",
   "language": "python",
   "name": "python3"
  },
  "language_info": {
   "codemirror_mode": {
    "name": "ipython",
    "version": 3
   },
   "file_extension": ".py",
   "mimetype": "text/x-python",
   "name": "python",
   "nbconvert_exporter": "python",
   "pygments_lexer": "ipython3",
   "version": "3.7.6"
  }
 },
 "nbformat": 4,
 "nbformat_minor": 4
}
