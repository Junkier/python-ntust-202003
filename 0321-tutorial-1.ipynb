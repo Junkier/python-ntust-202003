{
 "cells": [
  {
   "cell_type": "code",
   "execution_count": null,
   "metadata": {},
   "outputs": [],
   "source": [
    "# 1.  設計一 func , 可以讓使用者輸入兩數字 (float), \n",
    "#      並計算兩數的總合及平均\n",
    "\n",
    "# 2.  設計一 func , 可回傳 1+2+3+…+n 的值 , \n",
    "#      其中n 為輸入參數 (int)\n",
    "\n",
    "# 3.  設計一 func , 功能如下：\n",
    "#          1) word 為輸入參數 , 必須為字串(str) , 若不為字串\n",
    "#     則顯示訊息 “[*] word must be str.” \n",
    "#          2) 若為字串, 將 word 字串反轉後回傳\n",
    "\n",
    "# 4. 費氏數列為 1,1,2,3,5,8,13,21,… \n",
    "#     試設計一 func , 輸入為 n , 回傳第n項費氏數列之值\n",
    "       \n",
    "# 5. 試撰寫一程式 , 顯示九九乘法表\n"
   ]
  },
  {
   "cell_type": "code",
   "execution_count": 5,
   "metadata": {},
   "outputs": [
    {
     "name": "stdout",
     "output_type": "stream",
     "text": [
      "請輸入數字1:123\n",
      "請輸入數字2:234\n",
      "Sum : 357.0\n",
      "Avg : 178.5\n"
     ]
    }
   ],
   "source": [
    "# 1.  設計一 func , 可以讓使用者輸入兩數字 (float), \n",
    "#      並計算兩數的總合及平均\n",
    "\n",
    "def answer1(num1,num2):\n",
    "    # num1 = float(input(\"請輸入數字1:\"))\n",
    "    # num2 = float(input(\"請輸入數字2:\"))\n",
    "    print(\"Sum :\",(num1+num2))\n",
    "    print(\"Avg :\",(num1+num2)/2)\n",
    "\n",
    "### main\n",
    "num1 = float(input(\"請輸入數字1:\"))\n",
    "num2 = float(input(\"請輸入數字2:\"))\n",
    "\n",
    "answer1(num1,num2)\n"
   ]
  },
  {
   "cell_type": "code",
   "execution_count": 18,
   "metadata": {},
   "outputs": [
    {
     "name": "stdout",
     "output_type": "stream",
     "text": [
      "55\n"
     ]
    }
   ],
   "source": [
    "# 2.  設計一 func , 可回傳 1+2+3+…+n 的值 , \n",
    "#      其中 n 為輸入參數 (int)\n",
    "\n",
    "def answer2(n):\n",
    "    # 1) for-loop\n",
    "#     result = 0\n",
    "    \n",
    "#     for i in range(1,n+1):\n",
    "#         # result = result + i\n",
    "#         result += i \n",
    "        \n",
    "#     return result\n",
    "\n",
    "    # 2) while-loop\n",
    "#     result = 0\n",
    "#     count  = 1\n",
    "    \n",
    "#     while True:\n",
    "#         result += count\n",
    "#         count  += 1\n",
    "        \n",
    "#         if count > n:\n",
    "#             break\n",
    "            \n",
    "#     return result\n",
    "\n",
    "    # 3) range\n",
    "    return sum(range(1,n+1))\n",
    "        \n",
    "\n",
    "    \n",
    "### main\n",
    "result = answer2(10)\n",
    "print(result)\n"
   ]
  },
  {
   "cell_type": "code",
   "execution_count": 43,
   "metadata": {},
   "outputs": [
    {
     "name": "stdout",
     "output_type": "stream",
     "text": [
      "診確例3爆加斯加達馬！守失土淨\n"
     ]
    }
   ],
   "source": [
    "# 3.  設計一 func , 功能如下：\n",
    "#      1) word 為輸入參數 , 必須為字串(str) , 若不為字串 則顯示訊息 “[*] word must be str.” \n",
    "#      2) 若為字串, 將 word 字串反轉後回傳\n",
    "\n",
    "def answer3(word):\n",
    "    if type(word) != str:\n",
    "        print(\"[*] word must be str.\")\n",
    "    else:\n",
    "        \n",
    "        # 1)\n",
    "#         result = \"\"\n",
    "        \n",
    "#         for w in word:\n",
    "#             # print(w)\n",
    "#             # result = result + w\n",
    "#             # \"B\" --> \"Bo\" --> \"Boo\"\n",
    "#             result = w + result \n",
    "#             # \"B\" --> \"oB\" --> \"ooB\" -->\n",
    "#         return result \n",
    "        # 2) \n",
    "    \n",
    "        return word[::-1]\n",
    "            \n",
    "        \n",
    "    \n",
    "    \n",
    "    \n",
    "### main \n",
    "message = \"淨土失守！馬達加斯加爆3例確診\"\n",
    "# message = 123456\n",
    "result3 = answer3(message)\n",
    "print(result3)\n",
    "\n"
   ]
  },
  {
   "cell_type": "code",
   "execution_count": 40,
   "metadata": {},
   "outputs": [
    {
     "name": "stdout",
     "output_type": "stream",
     "text": [
      "Hello world!!!\n",
      "ello worl\n",
      "el ol\n",
      "eoo\n",
      "ello world!!\n",
      "!!!dlrow \n",
      "!!lo \n"
     ]
    }
   ],
   "source": [
    "# name = \"jeff\"\n",
    "# print(type(name) == str)\n",
    "# print(type(name) == list)\n",
    "# print(type(name) == dict)\n",
    "# print(type(123)  == int)\n",
    "\n",
    "# print(name + \" , hello~~\")\n",
    "# print(\"I'm ,\" + name)\n",
    "\n",
    "message = \"Hello world!!!\"\n",
    "print(message)\n",
    "print(message[1:10])\n",
    "print(message[1:10:2])\n",
    "print(message[1:10:3])\n",
    "print(message[1:-1])\n",
    "print(message[-1:-10:-1])\n",
    "print(message[-1:-10:-2])"
   ]
  },
  {
   "cell_type": "code",
   "execution_count": null,
   "metadata": {},
   "outputs": [],
   "source": []
  },
  {
   "cell_type": "code",
   "execution_count": 9,
   "metadata": {
    "scrolled": true
   },
   "outputs": [
    {
     "name": "stdout",
     "output_type": "stream",
     "text": [
      "[1, 2, 3, 4, 5, 6, 7]\n",
      "[1, 2, 3, 4, 5, 6, 7, 8, 9]\n"
     ]
    }
   ],
   "source": [
    "test = [1,2,3,4,5,6,7]\n",
    "print(test)\n",
    "print(list(range(1,10)))"
   ]
  },
  {
   "cell_type": "code",
   "execution_count": null,
   "metadata": {},
   "outputs": [],
   "source": []
  },
  {
   "cell_type": "code",
   "execution_count": null,
   "metadata": {},
   "outputs": [],
   "source": []
  },
  {
   "cell_type": "code",
   "execution_count": null,
   "metadata": {},
   "outputs": [],
   "source": []
  },
  {
   "cell_type": "code",
   "execution_count": null,
   "metadata": {},
   "outputs": [],
   "source": []
  },
  {
   "cell_type": "code",
   "execution_count": null,
   "metadata": {},
   "outputs": [],
   "source": []
  },
  {
   "cell_type": "code",
   "execution_count": 20,
   "metadata": {
    "scrolled": true
   },
   "outputs": [
    {
     "name": "stdout",
     "output_type": "stream",
     "text": [
      "1*1=1\n",
      "1*2=2\n",
      "1*3=3\n",
      "1*4=4\n",
      "1*5=5\n",
      "1*6=6\n",
      "1*7=7\n",
      "1*8=8\n",
      "1*9=9\n",
      "--------------------------------------------------------------------------------\n",
      "2*1=2\n",
      "2*2=4\n",
      "2*3=6\n",
      "2*4=8\n",
      "2*5=10\n",
      "2*6=12\n",
      "2*7=14\n",
      "2*8=16\n",
      "2*9=18\n",
      "--------------------------------------------------------------------------------\n",
      "3*1=3\n",
      "3*2=6\n",
      "3*3=9\n",
      "3*4=12\n",
      "3*5=15\n",
      "3*6=18\n",
      "3*7=21\n",
      "3*8=24\n",
      "3*9=27\n",
      "--------------------------------------------------------------------------------\n",
      "4*1=4\n",
      "4*2=8\n",
      "4*3=12\n",
      "4*4=16\n",
      "4*5=20\n",
      "4*6=24\n",
      "4*7=28\n",
      "4*8=32\n",
      "4*9=36\n",
      "--------------------------------------------------------------------------------\n",
      "5*1=5\n",
      "5*2=10\n",
      "5*3=15\n",
      "5*4=20\n",
      "5*5=25\n",
      "5*6=30\n",
      "5*7=35\n",
      "5*8=40\n",
      "5*9=45\n",
      "--------------------------------------------------------------------------------\n",
      "6*1=6\n",
      "6*2=12\n",
      "6*3=18\n",
      "6*4=24\n",
      "6*5=30\n",
      "6*6=36\n",
      "6*7=42\n",
      "6*8=48\n",
      "6*9=54\n",
      "--------------------------------------------------------------------------------\n",
      "7*1=7\n",
      "7*2=14\n",
      "7*3=21\n",
      "7*4=28\n",
      "7*5=35\n",
      "7*6=42\n",
      "7*7=49\n",
      "7*8=56\n",
      "7*9=63\n",
      "--------------------------------------------------------------------------------\n",
      "8*1=8\n",
      "8*2=16\n",
      "8*3=24\n",
      "8*4=32\n",
      "8*5=40\n",
      "8*6=48\n",
      "8*7=56\n",
      "8*8=64\n",
      "8*9=72\n",
      "--------------------------------------------------------------------------------\n",
      "9*1=9\n",
      "9*2=18\n",
      "9*3=27\n",
      "9*4=36\n",
      "9*5=45\n",
      "9*6=54\n",
      "9*7=63\n",
      "9*8=72\n",
      "9*9=81\n",
      "--------------------------------------------------------------------------------\n"
     ]
    }
   ],
   "source": []
  },
  {
   "cell_type": "code",
   "execution_count": 22,
   "metadata": {},
   "outputs": [
    {
     "name": "stdout",
     "output_type": "stream",
     "text": [
      "1*1=1  1*2=2  1*3=3  1*4=4  1*5=5  1*6=6  1*7=7  1*8=8  1*9=9  \n",
      "2*1=2  2*2=4  2*3=6  2*4=8  2*5=10 2*6=12 2*7=14 2*8=16 2*9=18 \n",
      "3*1=3  3*2=6  3*3=9  3*4=12 3*5=15 3*6=18 3*7=21 3*8=24 3*9=27 \n",
      "4*1=4  4*2=8  4*3=12 4*4=16 4*5=20 4*6=24 4*7=28 4*8=32 4*9=36 \n",
      "5*1=5  5*2=10 5*3=15 5*4=20 5*5=25 5*6=30 5*7=35 5*8=40 5*9=45 \n",
      "6*1=6  6*2=12 6*3=18 6*4=24 6*5=30 6*6=36 6*7=42 6*8=48 6*9=54 \n",
      "7*1=7  7*2=14 7*3=21 7*4=28 7*5=35 7*6=42 7*7=49 7*8=56 7*9=63 \n",
      "8*1=8  8*2=16 8*3=24 8*4=32 8*5=40 8*6=48 8*7=56 8*8=64 8*9=72 \n",
      "9*1=9  9*2=18 9*3=27 9*4=36 9*5=45 9*6=54 9*7=63 9*8=72 9*9=81 \n"
     ]
    }
   ],
   "source": []
  }
 ],
 "metadata": {
  "kernelspec": {
   "display_name": "Python 3",
   "language": "python",
   "name": "python3"
  },
  "language_info": {
   "codemirror_mode": {
    "name": "ipython",
    "version": 3
   },
   "file_extension": ".py",
   "mimetype": "text/x-python",
   "name": "python",
   "nbconvert_exporter": "python",
   "pygments_lexer": "ipython3",
   "version": "3.7.6"
  }
 },
 "nbformat": 4,
 "nbformat_minor": 4
}
