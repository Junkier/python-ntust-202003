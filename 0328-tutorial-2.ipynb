{
 "cells": [
  {
   "cell_type": "code",
   "execution_count": 56,
   "metadata": {},
   "outputs": [
    {
     "name": "stdout",
     "output_type": "stream",
     "text": [
      "<!DOCTYPE html PUBLIC \"-//W3C//DTD XHTML 1.0 Strict//EN\" \"http://www.w3.org/TR/xhtml1/DTD/xhtml1-strict.dtd\">\r\n",
      "<html xmlns=\"http://www.w3.org/1999/xhtml\">\r\n",
      "<head>\r\n",
      "<meta http-equiv=\"Content-Type\" content=\"text/html; charset=big5\"/>\r\n",
      "<title>500 - ¤º³¡¦øªA¾¹¿ù»~¡C</title>\r\n",
      "<style type=\"text/css\">\r\n",
      "<!--\r\n",
      "body{margin:0;font-size:.7em;font-family:Verdana, Arial, Helvetica, sans-serif;background:#EEEEEE;}\r\n",
      "fieldset{padding:0 15px 10px 15px;} \r\n",
      "h1{font-size:2.4em;margin:0;color:#FFF;}\r\n",
      "h2{font-size:1.7em;margin:0;color:#CC0000;} \r\n",
      "h3{font-size:1.2em;margin:10px 0 0 0;color:#000000;} \r\n",
      "#header{width:96%;margin:0 0 0 0;padding:6px 2% 6px 2%;font-family:\"trebuchet MS\", Verdana, sans-serif;color:#FFF;\r\n",
      "background-color:#555555;}\r\n",
      "#content{margin:0 0 0 2%;position:relative;}\r\n",
      ".content-container{background:#FFF;width:96%;margin-top:9px;padding:10px;position:relative;}\r\n",
      "-->\r\n",
      "</style>\r\n",
      "</head>\r\n",
      "<body>\r\n",
      "<div id=\"header\"><h1>¦øªA¾¹¿ù»~</h1></div>\r\n",
      "<div id=\"content\">\r\n",
      " <div class=\"content-container\"><fieldset>\r\n",
      "  <h2>500 - ¤º³¡¦øªA¾¹¿ù»~¡C</h2>\r\n",
      "  <h3>±z­n´M§äªº¸ê·½¦³°ÝÃD¦ÓµLªkÅã¥Ü¡C</h3>\r\n",
      " </fieldset></div>\r\n",
      "</div>\r\n",
      "</body>\r\n",
      "</html>\r\n",
      "\n"
     ]
    }
   ],
   "source": [
    "### 大樂透\n",
    "\n",
    "### requests POST API\n",
    "import requests\n",
    "\n",
    "url = \"https://www.taiwanlottery.com.tw/Lotto/Lotto649/history.aspx\"\n",
    "\n",
    "headers = {\n",
    "    \"User-Agent\": \"Mozilla/5.0 (Windows NT 10.0; Win64; x64) AppleWebKit/537.36 (KHTML, like Gecko) Chrome/80.0.3987.149 Safari/537.36\",\n",
    "    \"Host\": \"www.taiwanlottery.com.tw\",\n",
    "    \"Origin\": \"https://www.taiwanlottery.com.tw\",\n",
    "    \"Referer\": \"https://www.taiwanlottery.com.tw/Lotto/Lotto649/history.aspx\"\n",
    "}\n",
    "\n",
    "\n",
    "payload = {\n",
    "    \"__EVENTTARGET\" : \"\", \n",
    "    \"__EVENTARGUMENT\": \"\",\n",
    "    \"__LASTFOCUS\": \"\",\n",
    "    \"__VIEWSTATE\": \"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\",\n",
    "    \"__VIEWSTATEGENERATOR\": \"11E838D2\",\n",
    "    \"__EVENTVALIDATION\": \"/JL+C6dHHa3NmyqQp1fG5TV5pTUXbiUE7TibIjvnS6O1wyyw8Qeh0Prcbhq2NvSXTC+0SxXEeZeRtfAggkqaW1EGaJi6j2Fn6peARYqVRMRK5Bf+CXsHObZdnE8eNqpjWYTcluOzwrbOF6AhCNyjYJqR5tF57SCK7FV4t/bS85Um6gxxGgFUBkiisgeXhuXC/u9p+xm9tPLGC4kTfqdZ9WhztvbFk82FsHRkYhVQmM08/DPCT11WXcRz7PIzrawHRJ16Ovx+RdDqO3OTas+M70zRWp2loONfeco1sl9x6KCD1mLZV5FJkR2Fu7ip9zFwRvM9zACAGzfenCGQ/8cui0ugkMYfOA2xnAMei6HBDXNkOPaWOHmkLjuuJ3W4kzhxfVcR2A+rbT3UwaE6/R4LSbuV4M8/8/1Xk+W5gDGJ+Ho9WpEW8G7UTkFH48egCjEwn9z00pyQIXc6K0wg3GjiaDoD0vkXHnBowZR4RocM9q/Rh9BOsi6GlN/ADY63aKtGVwtNMOWXQFMP23TmdLJ2/sB9fhPh8G6q4zFZdlflEaTP4uA7JovFa/GuXnFkkwGE6lMa9GYZEGvaKbAyjuVFrxcd63SCLiK7scZCRea/+B9zlrWYr95ToTU7pSDYDu/jz+81NWSknGAx753qp3o1h8EMMCi5zIBWMlkd1ugwXKqNQ9NFlcISgjPCdIimIS+9ni8vwiDWjaPhFclZtjjqNQdMBzPleLgFzbhJpje6Ermir2+fFnLsWtZnu8olknGWXG1+1OJ2WbLa6BK9HqbRoLVKNxDsmU3alq5sM4Mw02AdSXFu+N+yTcD5s6wrc+o8SI3zPlK5IzNTSMvzS5+ub1TdtC0=\",\n",
    "    \"Lotto649Control_history$DropDownList1\": \"2\" ,\n",
    "    \"Lotto649Control_history$chk\": \"radYM\" ,\n",
    "    \"Lotto649Control_history$dropYear\": \"108\" ,\n",
    "    \"Lotto649Control_history$dropMonth\": \"1\" ,\n",
    "    \"Lotto649Control_history$btnSubmit\": \"查詢\"\n",
    "}\n",
    "\n",
    "res = requests.post(url,headers=headers, data = payload )\n",
    "# res = requests.post(url,headers=headers)\n",
    "\n",
    "\n",
    "print(res.text)\n"
   ]
  },
  {
   "cell_type": "code",
   "execution_count": 51,
   "metadata": {
    "scrolled": false
   },
   "outputs": [
    {
     "name": "stdout",
     "output_type": "stream",
     "text": [
      "{'no': '108000009', 'time': '108/01/29', 'numbers': ['14', '20', '24', '30', '44', '48', '31']}\n",
      "{'no': '108000008', 'time': '108/01/25', 'numbers': ['03', '10', '14', '15', '20', '45', '02']}\n",
      "{'no': '108000007', 'time': '108/01/22', 'numbers': ['02', '20', '36', '37', '42', '46', '29']}\n",
      "{'no': '108000006', 'time': '108/01/18', 'numbers': ['04', '05', '10', '30', '39', '45', '14']}\n",
      "{'no': '108000005', 'time': '108/01/15', 'numbers': ['12', '20', '30', '38', '40', '41', '10']}\n",
      "{'no': '108000004', 'time': '108/01/11', 'numbers': ['13', '20', '22', '31', '34', '42', '09']}\n",
      "{'no': '108000003', 'time': '108/01/08', 'numbers': ['04', '19', '21', '28', '39', '43', '18']}\n",
      "{'no': '108000002', 'time': '108/01/04', 'numbers': ['06', '07', '08', '20', '47', '48', '30']}\n",
      "{'no': '108000001', 'time': '108/01/01', 'numbers': ['18', '23', '24', '25', '39', '42', '48']}\n"
     ]
    }
   ],
   "source": [
    "## parsing 資料\n",
    "\n",
    "from bs4 import BeautifulSoup as bs \n",
    "soup = bs(res.text,\"lxml\")\n",
    "# print(soup)\n",
    "\n",
    "# raw_data = soup.select(\"table.td_hm\")\n",
    "\n",
    "raw_data = soup.find_all(\"table\",{\"class\":[\"table_org\",\"table_gre\"]})\n",
    "\n",
    "# ele = raw_data[0]\n",
    "\n",
    "for ele in raw_data:\n",
    "\n",
    "    ## 期別\n",
    "    lotto_no = ele.select(\"tr\")[1].select(\"td\")[0].text\n",
    "    # print(lotto_no)\n",
    "\n",
    "    ## 開獎日\n",
    "    lotto_time = ele.select(\"tr\")[1].select(\"td\")[1].text.strip()\n",
    "    # print(lotto_time)\n",
    "\n",
    "    ## 號碼\n",
    "    td_tags = ele.select(\"tr\")[4].select(\"td\")\n",
    "\n",
    "    # lotto_numbers = []\n",
    "\n",
    "    # for td in td_tags[1:]:\n",
    "    #     print(td)\n",
    "    #     lotto_numbers.append(td.text.strip())\n",
    "\n",
    "    lotto_numbers = [ td.text.strip() for td in td_tags[1:] ]\n",
    "    # print(lotto_numbers)\n",
    "\n",
    "    data = {\n",
    "        \"no\"      : lotto_no,\n",
    "        \"time\"    : lotto_time,\n",
    "        \"numbers\" : lotto_numbers\n",
    "    }\n",
    "\n",
    "    print(data)\n",
    "    "
   ]
  },
  {
   "cell_type": "code",
   "execution_count": 48,
   "metadata": {},
   "outputs": [
    {
     "name": "stdout",
     "output_type": "stream",
     "text": [
      "[1, 4, 9, 16, 25]\n",
      "['aaa', 'bbb', 'ccc', 'ddd']\n"
     ]
    }
   ],
   "source": [
    "### list comprehension\n",
    "a = [1,2,3,4,5]\n",
    "# output --> [1,4,8,16,25]\n",
    "\n",
    "# list + for-loop\n",
    "# output = []\n",
    "# for num in a:\n",
    "#     output.append(num**2)\n",
    "# print(output)\n",
    "\n",
    "\n",
    "# list comprehension \n",
    "output = [ num**2 for num in a ]\n",
    "print(output)\n",
    "\n",
    "b = [\"a\",\"b\",\"c\",\"d\"]\n",
    "# output --> [\"aaa\",\"bbb\",\"ccc\",\"ddd\"]\n",
    "output2 = [ word*3 for word in b]\n",
    "print(output2)\n"
   ]
  },
  {
   "cell_type": "code",
   "execution_count": 40,
   "metadata": {},
   "outputs": [
    {
     "name": "stdout",
     "output_type": "stream",
     "text": [
      "'\\n108/01/29\\n'\n"
     ]
    }
   ],
   "source": [
    "### repr: 顯示字串原碼\n",
    "print(repr(lotto_time))"
   ]
  },
  {
   "cell_type": "code",
   "execution_count": 53,
   "metadata": {
    "scrolled": true
   },
   "outputs": [
    {
     "data": {
      "text/plain": [
       "[{'no': '108000009',\n",
       "  'time': '108/01/29',\n",
       "  'numbers': ['14', '20', '24', '30', '44', '48', '31']},\n",
       " {'no': '108000008',\n",
       "  'time': '108/01/25',\n",
       "  'numbers': ['03', '10', '14', '15', '20', '45', '02']},\n",
       " {'no': '108000007',\n",
       "  'time': '108/01/22',\n",
       "  'numbers': ['02', '20', '36', '37', '42', '46', '29']},\n",
       " {'no': '108000006',\n",
       "  'time': '108/01/18',\n",
       "  'numbers': ['04', '05', '10', '30', '39', '45', '14']},\n",
       " {'no': '108000005',\n",
       "  'time': '108/01/15',\n",
       "  'numbers': ['12', '20', '30', '38', '40', '41', '10']},\n",
       " {'no': '108000004',\n",
       "  'time': '108/01/11',\n",
       "  'numbers': ['13', '20', '22', '31', '34', '42', '09']},\n",
       " {'no': '108000003',\n",
       "  'time': '108/01/08',\n",
       "  'numbers': ['04', '19', '21', '28', '39', '43', '18']},\n",
       " {'no': '108000002',\n",
       "  'time': '108/01/04',\n",
       "  'numbers': ['06', '07', '08', '20', '47', '48', '30']},\n",
       " {'no': '108000001',\n",
       "  'time': '108/01/01',\n",
       "  'numbers': ['18', '23', '24', '25', '39', '42', '48']}]"
      ]
     },
     "execution_count": 53,
     "metadata": {},
     "output_type": "execute_result"
    }
   ],
   "source": [
    "from bs4 import BeautifulSoup as bs \n",
    "\n",
    "def get_clear_data(soup):\n",
    "   \n",
    "    raw_data = soup.find_all(\"table\",{\"class\":[\"table_org\",\"table_gre\"]})\n",
    "    \n",
    "    result = []\n",
    "\n",
    "    for ele in raw_data:\n",
    "\n",
    "        ## 期別\n",
    "        lotto_no = ele.select(\"tr\")[1].select(\"td\")[0].text\n",
    "        # print(lotto_no)\n",
    "\n",
    "        ## 開獎日\n",
    "        lotto_time = ele.select(\"tr\")[1].select(\"td\")[1].text.strip()\n",
    "        # print(lotto_time)\n",
    "\n",
    "        ## 號碼\n",
    "        td_tags = ele.select(\"tr\")[4].select(\"td\")\n",
    "\n",
    "        # lotto_numbers = []\n",
    "\n",
    "        # for td in td_tags[1:]:\n",
    "        #     print(td)\n",
    "        #     lotto_numbers.append(td.text.strip())\n",
    "\n",
    "        lotto_numbers = [ td.text.strip() for td in td_tags[1:] ]\n",
    "        # print(lotto_numbers)\n",
    "\n",
    "        data = {\n",
    "            \"no\"      : lotto_no,\n",
    "            \"time\"    : lotto_time,\n",
    "            \"numbers\" : lotto_numbers\n",
    "        }\n",
    "\n",
    "        result.append(data)\n",
    "\n",
    "        # print(data)\n",
    "        \n",
    "    return result\n",
    "        \n",
    "        \n",
    "## parsing 資料\n",
    "\n",
    "soup = bs(res.text,\"lxml\")\n",
    "\n",
    "result = get_clear_data(soup)\n",
    "# result"
   ]
  },
  {
   "cell_type": "code",
   "execution_count": 62,
   "metadata": {
    "scrolled": true
   },
   "outputs": [
    {
     "name": "stdout",
     "output_type": "stream",
     "text": [
      "{'__VIEWSTATEGENERATOR': '11E838D2', '__EVENTVALIDATION': 'zYzwgOVFa/ZbXEHF4MfTLYHTbnXWn9C4DLlJSBxu5aJN3FUvAimDCkl0lm4u2bWkmQE9knnXRA6Bgp9lt26pAcuRy60qwxbiPRb1aCSsQPa4IPeAsiWhoAmpUd/j802h0X8fA/7Qrh3OXFdOSZ6FwdVGWf0p8vdTNq9Z/0mTxndfdXY1ogMlO1/op/Qn3kCBrVy7CxLZAQ/vY1E8E8IVvZqy946BiC2qI8F41bw0lL0xMADooM8fe00iYBo2JkiFY92UZtDYQ9tQPxR2wFaKAXuDoArsn5KaahHU+V7R0QUwroJt7Guh5391G3f+DJy65Mh1oHarpDW+KmzrSWqJvwWeYiSakNdiRYXrzZuot2h9y2uQ0FfoXllD4T5tf3m/jMwfk3lfQp+cDCqxQmhOPdBmECh2I/v2MA55R2A383ILu9qpoF4AiAcmTU9mcI/WnB1GXoR6QgIWeE52c56dCU+K0UxIrvmsSBH1KJzBVOrXxc7T2YkCmeZY2RAAYbwoReE2aK+t7gquL/MFknrV8nA0YLsPshScG983PDdvq7Pww5VAXrCBCTMTFuXsjc9Nmqtcn/GkXCKmA2GTs68TQB3aqgxxBv5Nhzo6Pbn5Ue6zu+s7pNbfKutmwLKrZVCXQE3Wr0kNCPMXKTx47nVimNAxvfP7Py8Klqey4wEmEpEcglIeU1WUViPsOPZm+oiGzEWaTVmkrfSSOMSTW1P807Hk8zh+8pJtKb0O2eby65OQIHkMr58DvMElE8jP0R7ckrnHJ0N2/uy+/i8z5QoMyULeh/JtSLDXsg0VDIVlZ9H6cI8YiIiD5kkIoLvQSrJL/6LBAnm5ZCHOcXite5741HsMEaU=', '__VIEWSTATE': '6CqLExdfPWGDmfY6Ir8jL6+6p65pWbQcJsKrXNFHiaKpiKLJysNezxNJC8XybrxxlOm2fq42AsxxzGX30ao3ax5aTWe2D0XeCx9yIsc+TQsK5aKGL5IgEzlAUG6kIDAyIiIUaygK2HguOEbJ0pjLab6pFpASPPMYsoPTwuw0Q5SwxckhTdtbS0q+qycFuojfErQsrMbGq5WPoCSkygEOUGNm7VeDmrunmFGixjLpeSL5/d8WbK+M1badWiEEvogKdE1WaBISwGB1N2tI0NY1PK2mIBTJc6vlP/KgaDyE6zyZ8RnzvYYNuPfx7e8RT336CBvIaBj0rxadRVOjQsccMDckszi74C/MzfF4QiIz0g4mV4Xc4oArkCVTAj2k2P0f6T91/ZLyPIbcqgyH1v9DNCIflebgi2purXSiXy5ZiDi3BD9vzFKbNrNMUbUp+AC/8WY+Bagciy9C56/eecJyMv8gdhoAQfhw5VEriVeHlu2kDThCxotfzSXDNrfElCSjNUZh56Qcfu76vo0p32r8RQ72rvixIY15gaQgvjBxhFUqAjzAGigVdNAXmVSnA9bLCueU4cEZhBLD8RelKt5MU3QKyspNjU7BzMdhb+mn1lxptYGAKwSz1fWqoedGiGf914Js6UDSwAj6MWPO8vnjlIEzT4xW0xBp7vbgp5h/vP4Y8SVy7fTzD6/7fWTL6rnYQyZ5CEFkBUuOfwIecCBhhjdT3H763Gb72iaao+9chu6Uc5w1cuEvbhNL2/4Grqjpl21Am+qi4cCyZ7v2inpkvnCpxkMMi+tqZA1afdagrxbzoA8YRIhfgoC7ZWQRc46Q9HAn+QOVo62S1pXo0ybmqSiiq4SSuJRynJVn5vODcSljFseOBJwDZquG8/Qn5flLqql0mtAztnIpx2CklB8jdtN4ifVeHBmmkCJGhr7T3phNHUXHsw+RY+WaL6Bpd04gFGe9aFYCqfTXeMWz2dEcvc6iQTCpoInmcdXhU61T3+ZLNPendr3vfS25+HOEoTRDvLUXD4u5AcKfAVQIfY5KcMzvFw2a40WOTQOnAYYr3m3MqLlLGDfWKKJVtEdEMDBD5090N1Db9OrSi2DkAL8YRUboh19JwHv4+E2eaKi3y9LMicUU9ASogYbr2iI/G3GbiP1HItCLlKNU3URUzzw2dmNcK36PbS6G5aAYU1FvIEq7CWHLh2bJfT4HGMa8WWEXQ1ViitaFA0KCvGV3+M+sige4WGsvA4YJRXZPf5v0amYVDxE8k8I7DLuKED9+rY5OLcL+KDDoe5sYZvHSe0NfTtaiVZL2vIKZGRlMHhNuQMqxioeREAk52a+3WC+HqTNXEYhSqjqjMx0bousVsnNrRsDD4JVCY7IVpR2eOT/PrtAmg5YvMprsP8wUfwKR5DQ5ORcboeiIJk9Fncdb6h6COc/OzGsKdQ+FZXQ1oNAso4PZZW1cNzIU1/6NYbgBO4EWBs0ERtuQZqZqpBw2fhPwIEDg94jmosccYhnlKNRlqhXojCjqe5Qd7TeOOraKVgLniaPSJejavvlcoaSnWgMFf1Je22PmrPETSITUfJE28bFFT59fleG4Lj0v3q7fRb7kU598grbl2A9xxHu5mZFNSPJ+ZGKDzcMqkrfynPRAnXHfPvAjoT4OSe9169GPGh+Uvgxt6xxd7KnnkuUFfwhU1/QBb0peE7068KW81KDziOcaqWHGZuMiqvWn0R4JyVGU0BHBG28mJ1P7fQ1S0n0HeIuu86nxwG5Nzls3CLPNXbwzsgiLd1EuHRu4nWduP6YLfGFpKFbC06IRXn8R2YyLgReRNlxh5zoj+Vz0ksw7q2ImwCaJachWqbibC0h/A37QR6oC2TGAAO7b6FCg3B26dtXybEB6tYcc1IM+F1ubgFKjPHoGkIj7G5hyc25N67qhdPgl52IIBXFRcfJQbuaa8oXwQliLNbRjaQTB1JXzOaPUesxH/ousrXyDJq78h6zDgaIneYw71YhFikgD/rvebJO0ViTplCIamWRwTo/9PytdVnkqwXY8wgPE2UnLG40ljBl/gyLVRePX6T95Hs+foMxn92nn56QxYG7cmYtk2kmobjRaYc8yKMMIBAilucMm07+GeJ2/XXT7c5SfP41h4FfPuBYga5xUKg9i+Q8qUhzhDBJlSpn/vsvFmdhceVDuUE4rnScQkNcJ6ilx4apEy0fayDwl1Vx4QAjeb6aYtvxmNBtWFCw3t047OUN0D+CYZA9lLAtx/xbZWgoZfFGma6/nJ1q0QFM9eoKllXslNfozMeOjen/Agwvkszc609c+Zgu66A/oG2NQcECZZPhVUZKsFwF1gRZttHYbdyQYcv9H/RceJk9ccMgzKafPKntNPxFORZuqPlz+UbxEUX8sZffwcPr69bri5E8sCpz/lGwjsL2AkSRJZHCAUSIXJUVX/BCJAeXGe7Im3bdSSBDkvPOGpaAQpP12xYoJKPCcBJUB6uqf8zRLlM8l/D29tTx9cBjmxmBnlXhuUM3DxQ6+kmalNvmsItxuoGoikUXA5fa4Pq88rngyk6WXYpgkD9HdpH8AqoRWkdHC96QV1nMapmIm+D/H/hX5jfYzeKTutiRMAbTtt50B4Sfpcs47I4DxOO/kj+WWHHG7Uinorn6f4EO5F7w7anFwvIrorfsViOH7sTo3LHhiW7ZM2Z6YLSvoSRGXEphMB6egnkhONOnayDilWbw1b1NdtHsBB0gzjqxpq5by9i/iFpVRLWmkkdnfH4TEdX1IVd66vNFRytRciPzKtdw1zMfYvpV0rFBa0NwDCaIeI788vUC72fVztPoPLcS1PSZv/lxU20g3YR32UBJ4/0tBiFEtmxKY/LLpmr7nCP7wfSoBxOHnAeXUYWZ+NvYxY9F/rpIW8LGovlGpBsnccGOC3v5QN2GGK5AjzUDDbL3RsfG0wt+wxu9rzbS0Ag+zgCsE3SQ8Pr3xvcWB22uVDncIMCryu+X2Vk9sxkj2dJZNf7tHr8Cqba+apEuFYV+2ovOFolOoUD0/neo4zv+FLvt1LyP3ykWtIXhKzmnFQVCuwkolafNQk7Pu6lrj6Ya3R9oQglsCWgiBmWsOz0lA+n9gm58b/4jg3kGrM7/gbh1XpXUjq0fTS3j/ano9gmsj11p2Ankke93V/S6PuyIAv8jUv0pc/ndiKb0D9gmIezUVAPa4af84iUINAGIwYVthnIsvuJhGB9sATRMwavZzMSkG1yZ+LrHoIyaLVY5+FDr7ipOFYDb1wO2mlPMErQ+V2L/HD6FzARm1+3Tfmzooes39lUVrAf+JWtE4s2z242RIJ3tRpTRJI+IqJ24UceAi6iEsfle8PQpRcX3pKaO5MmCTBAM+kEY0IcMa2uqdi8Lb2Ox8HrucFXvzNkwvUrdjrtdkzf/bekCtswJ1b5CJGwEbZ2VRSaEcSY9NgDY8d6w8bANddiyyYKK7VJbHN49cG0Fr+5+tjfjzyKSd/AX3CI8E+z/2NzcJDoXe9lD1fD48mGDao1CTFN00ySethN7Rhv119R7TUZMX6MoHkSkOQMtmH3m6CmxuwC/66Dl8/50CycXf4Yrub44H9MjaKS/QR7ts8giNgAnuNXOhrSIGu4lUTFtdtDoad4utpBEZm8Nxr2oNsCAWC96UZa6mn75eOoQuBThT49WxdiFtbKL3fK3pJVyz1IY86jmoKOFjOazLfvkWk+FHXRLc21/WI+i3NXLXfWjCsoQkEmr7Ip3wKl1BL+D75igSFjHWYVLqKnmqFk+F40YyXLWk8Pd2QrnpWpYzxBp2fdN6/ocePj67np+MBB12ViwiAUs5hv6gyZ4WgC/smemAKi4ynf3q/KFqeSRDglDE0YSWqVzN2KeWE7jS5Y5T9KhBasxbaiqj4VL9D+pacwwzKtEkwI+zDWobmPyw+CM5D3Rwo6RZWNiJyGyBYypKCgz4KvzDgDmzYqz8BeaD/aWn+QF1bDcbP9/nNgpmCYrG3rkoKM8sk8BI4duhdXJagXhGwgFPHX9SHR4ZXFj/UFPAFMbm2wVQ/6aCUfkDTBDKDYzDfHF8wjyhNpXcxddpEvdyjg8Pz7+rDq9ZOj/wVruYTDMeBxc2WGn4hh+6RWFb8VuTMp9sZTs4OEdd1iTfiLgpxNL32XGCxNxOQQK8T01G1tf3JCUvxBgkMJ8SpooxEnyfHGlVEmSXpRz5wExznToGBGyDrZUDu368zxDcGpI3BCYaaYh44N2qRc6+vvelTWLmz1ez/fOykjlZypPWGJey4yNu73fehsEftOZe10v727AIXV57H3ZidabU/WOYzJ+GvzGer7HL0Dhfczckw9n2QTZQctuCKfdSFJqMNONDp79HO5JrGuetgAu0RElDTqH+h9AFa7CFQydofZtGTslrZSjYZAH5cPteOULYmHoKghbRAF3JtqhV+xtdtO7nIek0FO1K95x6PekkWnSyb9ApFB6TYfCiqqbDOyJ/YPcES1FAroxjPuAzikgDSLqWx1T630bUzKE0Rme05YtnbeB6n5KyNZIhQ/WMpIRQlYlO4gE+RsScSvrV7A0Db7yPwkzLMqZGeWg7OnJizvQP7Rby6VCIIcir0M9bDeFL0Rv9xHd8HP3jeaMyeYBq4F/R4JYSXjwsMPyqS3PVQC99Th0VTyCDl8xQE3cmM89QNxe2ogEbzz3MbF/u18m5rfVtOZ4/TtiPcY8vfWYYa0BL/rwTAeyhLVM7hQKBgc1cLXszCBBI6z56UJWTRpAh/bjzIJY5X3gAUeNbAYLB8sgsnVLjDw5H2PL0B8ftxNzv6wBVvX3ngMsMG85rpGRklGlhkNtMAG+Ajh4reXsRirtQkJJE2Ah/kB8N8z9YjbTyLPpedjFqPhjQ2wKSAEd/iMaO5aEHNLf/aP7hX8WWzQidZpVzqWaXxrFbTVkgfHy72fyulewqExkUYqWFEYSb66PiIG849MCVfcC7T+1nnFvDIKZ0x4cSdE/W12Ahx8e9SGzwErmft9v3FTYYqSNexpSmZ8acmZir3m+JBhcUsk/JHUmCh/+kBtffKTJKWkQ/GNng5vc3CD+SHNjk+wbMM726JmPwUKda325mTwTj3MdoPhVsPTPRpBZ0TkUD3+pHO+S11TWzbmSaAuwhms2o8j5f7LMaZPzopJH+USPYw+d5HWBfu/lWU76QazMATTMPiy8wRKbnUsKeRhqZH7gvTk/xsrafhAJrPsJt6f1eUccZShkMFCrA/xQhOq3/YS4PDwMHklpekXLaF4DbRCfn10xv3C7bUfw00tEPiUGDGn3cT3i0rDsiiK0RC1csOqL+6oCzsbXCXVWRrj1bASAYZzPieseNseaj528uXx+/oyCT485iSqEIndgjci5LdiApdQiftpzYfgvrJLOyj7NbJV9tOjLxXCSAd1D2xK/gAZaSDARnKU8riVFvQ70b7ViA9GrsEcH5rJWtCQiYOcPk5UnCQhVYdbFPysKaU48a42gAOCenmoA6baGLGOZqodwzk0/j3wxOaf//g1RMwhSnPTGmqZhCk3Kyf16C7z77L9p8E2vawUuae+lhoDiPtT2FPgWoIJBkp/yO5ly0i+T8dZHePV555Wkuqx4EJr+PYsAz0rRVyiIFLnBz/GaHKwv0+gOoFTUbNbyTNQO5diyMYJoIyyTVwNbwK7Ah3cE0KOsq02t8xzq7YO4vdra6VtWV2olxof5QLIiLV131OA+gLMvJp9HVxFqcoZLbwqOklxHn32YkoAugkmrLspPiXLiG5rpNqBEoM92DVW04FjSzobKh/bkThq3QPQFTMrnmT0/PqcfAtkTbUrRqira4nkRb0tZ5kvk+QHGVgx0PWvEsi3YAlKTCa4nUK2xByPrn9YUFBozKWi2yZMNcPNVd++8QNngW7xlte3++y4naZYBvTWebk+J2WDWbPQJgdioM24bRI7mk0FQRizhocw4xKegY5c2wECv+aqQ5srXYIhkMVmrnMu3wx2cIW5Qhto3E9x5BfICRFt3iVj/udS0sJuga29mzI766blt8J8CpxtHXp2HdilYVc+le4ifn01OlICZhFXROeBgzRHzzycYvXMgqJobP3FTtLXyMkUjnuk836Wg9rw5H8Xhgvd9fl7AivYRkd4vUTT6ye1mLVb3NtDTPiz4eqHfvwgzBe8nTtUZSKjzs8+Qg9F32S+468gJI/+L1Rbo8tSWwWrSV+2lDzXer7R6dlY0daTpYk/wuJgW23T6JCIR3SqPUcBg1W0tYRej+99r6fRcOzx+AYAeGBS3rlM0CxDogpri79XIKrFFUdCabulgcYs80r/7SmLyt6fz55CN1PJSTpSMGPhJJzTzvk29RkuWklELYpsvXtyH+rQJUbmbbAj27I4j8kfyDTNaYvJPP1kcdL92Tc1qSu4ZNxfPqRVS+sUphidoWEh0YaV/cxtxdtwCcZV54b6jZ6I7R7sf2dwk87n1KNboOpc/3rWIHsXqeFFk2tabJDlL9tCz2heFAZze06nUb2UDy1HPbgui/Wl65ey+WO5kh5Cnie5UVOtbnurQS7TCg1P+NWVDICpB8FpEOt8oZsQGuIy6Xre2aPNRjK97nwu38aSSRFO8E704Vbj+t8AGORQ6G2E60APRwEzYmn8ZtZx3FXzbukR5xlpWG7s6Enl4DHl0NzqCr+tAYh96uGp6BIUO/FDiumPwWcQ8mdLL3oiPB/J+93d/Hmo9VwcvDAz9u2M7HFtbqGdFwOq0VVPdgCB7AcfURFRneS2a/MSTZ9xtkYdeR61Otzl6tii2eWkwsoYOBgNXXnQtrctbEbnDrxrOuKVAa65YIgBtGuo2YBojUd4wsvSE1eaT7mdTfOU7ulQhVL4ETIR3RzqU0TlBP5lyeNN00hoTOdde7VTjjdmwFsqKcDiHx5EXEOvBPytcZIt/Wa+jRmxXMpO3rIUV1cdUYSjUmaXndFgP0PnkedGGN+Tkhh3/7hvYr7FwxyL16x0m0MLVV59GnHMXqCjK+6kvPN2Gz+mZWjm+dPeJVZaxfGFMPq2oTwI/lOB3G0ZIpbTOJSfl3phcLm72cHQm47VDu9TA/89nbwEJfHkSQGGIUoLAhrbxYa5+U416blJfHDQKgnz2kshoH38W3rauLeTiAPQD8GiXP1MTDPhKoH/C+dymJSUHh9aNVbUS8KfUExka3HZoPqZCxH3N3qLiDfeknCCFpef51EL6iVcWgIvVXeM1jlpDzGyj21/BLJXTHGtpF3FEsgf33ROKCAtxla6OGg5pFsKQcMizvNjPlqKeDna/ZDWBidvTDOPgAHSx8CeQYUVlDIZmiIZyPVUPz5edSQXlrrQ2/1YsdNUBpyUrP77j10J6iAfTnWXr6BDsheU+k7rF1lcXL6Ey+pC3Ox+F1zj3UEaES/nQiJJ6Ll/X/46Tdbz4qGScRWSIKS845QZmr3QP0dKBz+ZEkDbkjCAOEDEStRzZYSk22euylIUHQBSu8+eQUTCATIQhrqZEkdO/ewt0UXQJ9XClEWOVKf4PzCcs6EJ1RcMO5PDNYmoxeKJHszi0mVhBkmMVA15MvbhkxNBRjze9ejJueyM+lnjiEzEGM+B1NIJh5hfVdCAAyiRlHM9IOjINuTL6s9k1HKMhI62LB0SWh2oOEATACxULjzwKiJ9cqRThuPW8qNzZzFD9Y5OgAmXc2g4FtSMxY7DWUx9wpdAD0PxiaLBDB8AECbo2mUimDXI4sbzjNFS1r7nVyd+pcrP6JIqWjPIdo72Xqo+SbKLGRUGLFQ8oO+GL6ztJBEYS6FMpbgLI63qtaIMqyBheu/poY1q28ehfAX7WWzsZ6/Tc5/FYKevPIoMRT+damWTt4CHL4RkIkKS+WBh9EaJIReR680B7MsugbhntqJSbTCqyeM3EvX42cxHSiDZIjzokr2HT0FRojv2i7QDqvHzQvPn+L8kNumT2+wTGjfzA4TTqxCIIK5GDKmSR7WDXrSZsIPTfcjAPYn/y7aUumBdN8gPDvYRlz9M1h6y5ELgvAGIXyJSUufPCP4HL3XhPzE0LVHQAlBV6W3OvqACFEOZ8mc0YtRhC+AzHItd62q+MssWniXRYH32ByFU6iiqzBgH6i8c+/oZ923T4='}\n"
     ]
    }
   ],
   "source": [
    "### 隱藏參數抓取\n",
    "\n",
    "def parsing_hidden_params(soup):\n",
    "\n",
    "    __VIEWSTATEGENERATOR = soup.select(\"input#__VIEWSTATEGENERATOR\")[0][\"value\"]\n",
    "    __EVENTVALIDATION    = soup.select(\"input#__EVENTVALIDATION\")[0][\"value\"]\n",
    "    __VIEWSTATE          = soup.select(\"input#__VIEWSTATE\")[0][\"value\"]\n",
    "    \n",
    "    return {\n",
    "        \"__VIEWSTATEGENERATOR\" : __VIEWSTATEGENERATOR,\n",
    "        \"__EVENTVALIDATION\"    : __EVENTVALIDATION,\n",
    "        \"__VIEWSTATE\"          : __VIEWSTATE\n",
    "    }\n",
    "\n",
    "# print(__EVENTVALIDATION)\n",
    "# print(__VIEWSTATEGENERATOR)\n",
    "# print(__VIEWSTATE)\n",
    "\n",
    "\n",
    "hidden_params = parsing_hidden_params(soup)\n",
    "print(hidden_params)"
   ]
  },
  {
   "cell_type": "code",
   "execution_count": null,
   "metadata": {},
   "outputs": [],
   "source": []
  },
  {
   "cell_type": "code",
   "execution_count": null,
   "metadata": {},
   "outputs": [],
   "source": []
  }
 ],
 "metadata": {
  "kernelspec": {
   "display_name": "Python 3",
   "language": "python",
   "name": "python3"
  },
  "language_info": {
   "codemirror_mode": {
    "name": "ipython",
    "version": 3
   },
   "file_extension": ".py",
   "mimetype": "text/x-python",
   "name": "python",
   "nbconvert_exporter": "python",
   "pygments_lexer": "ipython3",
   "version": "3.7.6"
  }
 },
 "nbformat": 4,
 "nbformat_minor": 4
}
