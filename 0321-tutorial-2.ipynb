{
 "cells": [
  {
   "cell_type": "code",
   "execution_count": 87,
   "metadata": {},
   "outputs": [
    {
     "name": "stdout",
     "output_type": "stream",
     "text": [
      "<class 'str'>\n"
     ]
    }
   ],
   "source": [
    "# requests\n",
    "\n",
    "import requests\n",
    "\n",
    "url = \"https://www.nownews.com/cat/column/\"\n",
    "\n",
    "headers = {\n",
    "    #     :authority: www.nownews.com\n",
    "    #     :method: GET\n",
    "    #     :path: /cat/column/\n",
    "    #     :scheme: https\n",
    "    #     accept: text/html,application/xhtml+xml,application/xml;q=0.9,image/webp,image/apng,*/*;q=0.8,application/signed-exchange;v=b3;q=0.9\n",
    "    #     accept-encoding: gzip, deflate, br\n",
    "    #     accept-language: zh-TW,zh;q=0.9,en-US;q=0.8,en;q=0.7\n",
    "    #     cache-control: max-age=0\n",
    "    #     cookie: __cfduid=d701f5e73777b7088d72ae4297f1523401584769309; __cfruid=65c50de5a9cae71e283ab684107e93a0a045ff5b-1584769309; _ga=GA1.2.1103989353.1584769311; _gid=GA1.2.2026141546.1584769311; dable_uid=44657174.1584754251349; _ss_pp_id=13f37aa5ffa2f2d3e551584726679367; __gads=ID=eff99311521862c2:T=1584769314:S=ALNI_MY-uVNjKI1vYxkPUzxjfnxkA7wIjQ; __asc=5064b019170fb9cb097e38fd3a9; __auc=5064b019170fb9cb097e38fd3a9; _fbp=fb.1.1584769315433.1977075126; freq.58e1afd747e7046f3bb1c295=1; freq.5e661e8b47e7043d03000003=1; iUUID=764e15b599b30311cf29102469f3c386; innity.dmp.0.sess=1.1584769364361.1584769364361.1584769364361; innity.dmp.0.sess.id=127061259.0.1584769364361; innity.dmp.cks.appxs=1; innity.dmp.cks.innity=1; oid=%257B%2522oid%2522%253A%2522285e553a-6b11-11ea-a18a-0242ac120003%2522%252C%2522ts%2522%253A1584753202%252C%2522v%2522%253A%25221.0%2522%257D; innity.dmp.1.sess.id=127061259.1.1584769428170; truvid_protected={\"val\":\"c\",\"level\":1,\"geo\":\"TW\",\"timestamp\":1584769481}; truvid_oov={\"timesShown\":2}; innity.dmp.1.sess=7.1584769428170.1584769759448.1584769766370; _td=9a54ea03-d320-461d-818c-9a4c26db28cb; GED_PLAYLIST_ACTIVITY=W3sidSI6IkQrRSsiLCJ0c2wiOjE1ODQ3NzAwMTQsIm52IjowLCJ1cHQiOjE1ODQ3Njk3NDEsImx0IjoxNTg0NzY5NzgwfSx7InUiOiI4NDZhIiwidHNsIjoxNTg0NzY5ODA3LCJudiI6MCwidXB0IjoxNTg0NzY5ODAyLCJsdCI6MTU4NDc2OTgwMn0seyJ1IjoiRk04bSIsInRzbCI6MTU4NDc2OTU1MywibnYiOjEsInVwdCI6MTU4NDc2OTQ2OSwibHQiOjE1ODQ3Njk1NTN9XQ..\n",
    "    #     referer: https://www.nownews.com/cat/entertainment/\n",
    "    #     sec-fetch-dest: document\n",
    "    #     sec-fetch-mode: navigate\n",
    "    #     sec-fetch-site: same-origin\n",
    "    #     sec-fetch-user: ?1\n",
    "    #     upgrade-insecure-requests: 1\n",
    "    \"user-agent\": \"Mozilla/5.0 (Windows NT 10.0; Win64; x64) AppleWebKit/537.36 (KHTML, like Gecko) Chrome/80.0.3987.149 Safari/537.36\"\n",
    "}\n",
    "\n",
    "res = requests.get(url , headers = headers)\n",
    "\n",
    "# print(res)\n",
    "\n",
    "result = res.text\n",
    "\n",
    "print(type(result))\n",
    "# print(result)\n"
   ]
  },
  {
   "cell_type": "code",
   "execution_count": 88,
   "metadata": {},
   "outputs": [
    {
     "name": "stdout",
     "output_type": "stream",
     "text": [
      "<class 'str'>\n",
      "<class 'bs4.BeautifulSoup'>\n"
     ]
    }
   ],
   "source": [
    "from bs4 import BeautifulSoup as bs\n",
    "\n",
    "soup = bs(result,\"lxml\")\n",
    "\n",
    "# print(soup)\n",
    "print(type(result))\n",
    "print(type(soup))\n"
   ]
  },
  {
   "cell_type": "code",
   "execution_count": 18,
   "metadata": {
    "scrolled": true
   },
   "outputs": [
    {
     "name": "stdout",
     "output_type": "stream",
     "text": [
      "<h3 class=\"entry-title td-module-title\"><a href=\"https://www.nownews.com/news/20200321/3996972/\" rel=\"bookmark\" title=\"「民眾健康我來顧！」　侯友宜PO文籲：民眾麥擱趴趴走\">「民眾健康我來顧！」　侯友宜PO文籲：民眾麥擱趴趴走</a></h3>\n",
      "<h3 class=\"entry-title td-module-title\"><a href=\"https://www.nownews.com/news/20200321/3996995/\" rel=\"bookmark\" title=\"疫情燒各地鎖國！外交部：延長在台外籍人士30天\">疫情燒各地鎖國！外交部：延長在台外籍人士30天</a></h3>\n",
      "<h3 class=\"entry-title td-module-title\"><a href=\"https://www.nownews.com/news/20200321/3996945/\" rel=\"bookmark\" title=\"網紅馮提莫病倒　「高燒38度、無力又咳嗽」：我真的害怕\">網紅馮提莫病倒　「高燒38度、無力又咳嗽」：我真的害怕</a></h3>\n",
      "<h3 class=\"entry-title td-module-title\"><a href=\"https://www.nownews.com/news/20200321/3996969/\" rel=\"bookmark\" title=\"台灣捐贈巴拉圭百萬片口罩？　外交部澄清：是在當地採購\">台灣捐贈巴拉圭百萬片口罩？　外交部澄清：是在當地採購</a></h3>\n",
      "<h3 class=\"entry-title td-module-title\"><a href=\"https://www.nownews.com/news/20200321/3995977/\" rel=\"bookmark\" title=\"影／伍佰老師防疫宣導超霸氣　網友重溫狂笑：態度一百\">影／伍佰老師防疫宣導超霸氣　網友重溫狂笑：態度一百</a></h3>\n",
      "<h3 class=\"entry-title td-module-title\"><a href=\"https://www.nownews.com/news/20200321/3996941/\" rel=\"bookmark\" title=\"全聯新贈品曝光！婆媽一看「隱藏版」全暴動：有加碼福利\">全聯新贈品曝光！婆媽一看「隱藏版」全暴動：有加碼福利</a></h3>\n",
      "<h3 class=\"entry-title td-module-title\"><a href=\"https://www.nownews.com/news/20200321/3996956/\" rel=\"bookmark\" title=\"NBA／武漢肺炎影響　沃神指出4月中球員恐開始被扣薪\">NBA／武漢肺炎影響　沃神指出4月中球員恐開始被扣薪</a></h3>\n",
      "<h3 class=\"entry-title td-module-title\"><a href=\"https://www.nownews.com/news/20200321/3996944/\" rel=\"bookmark\" title=\"武漢肺炎怎結束？專家揭4結局　「最糟情況」曝光：可怕\">武漢肺炎怎結束？專家揭4結局　「最糟情況」曝光：可怕</a></h3>\n",
      "<h3 class=\"entry-title td-module-title\"><a href=\"https://www.nownews.com/news/20200321/3996939/\" rel=\"bookmark\" title=\"陸官媒胡錫進：港台病例激增，入境中國應隔離否則很危險\">陸官媒胡錫進：港台病例激增，入境中國應隔離否則很危險</a></h3>\n",
      "<h3 class=\"entry-title td-module-title\"><a href=\"https://www.nownews.com/news/20200321/3996902/\" rel=\"bookmark\" title=\"破億神曲24歲女星「確診武漢肺炎」 同台藝人陷染疫危機\">破億神曲24歲女星「確診武漢肺炎」 同台藝人陷染疫危機</a></h3>\n",
      "<h3 class=\"entry-title td-module-title\"><a href=\"https://www.nownews.com/news/20200321/3996891/\" rel=\"bookmark\" title=\"川普稱中國病毒　黃安「不生氣理由」陸網推爆：這是現實\">川普稱中國病毒　黃安「不生氣理由」陸網推爆：這是現實</a></h3>\n",
      "<h3 class=\"entry-title td-module-title\"><a href=\"https://www.nownews.com/news/20200321/3996777/\" rel=\"bookmark\" title=\"影／首次出國實習遇武漢肺炎　科大學生心驚驚\">影／首次出國實習遇武漢肺炎　科大學生心驚驚</a></h3>\n",
      "<h3 class=\"entry-title td-module-title\"><a href=\"https://www.nownews.com/news/20200321/3996904/\" rel=\"bookmark\" title=\"NBA／KD坦承自己確診武漢肺炎　湖人後衛：他很勇敢\">NBA／KD坦承自己確診武漢肺炎　湖人後衛：他很勇敢</a></h3>\n",
      "<h3 class=\"entry-title td-module-title\"><a href=\"https://www.nownews.com/news/20200321/3996860/\" rel=\"bookmark\" title=\"各地湧現搶購潮　經濟部信心喊話：衛生紙夠擦屁股300年\">各地湧現搶購潮　經濟部信心喊話：衛生紙夠擦屁股300年</a></h3>\n",
      "<h3 class=\"entry-title td-module-title\"><a href=\"https://www.nownews.com/news/20200321/3996850/\" rel=\"bookmark\" title=\"MLB／談武漢肺炎疫情　一朗：就像棒球突然消失\">MLB／談武漢肺炎疫情　一朗：就像棒球突然消失</a></h3>\n",
      "<h3 class=\"entry-title td-module-title\"><a href=\"https://www.nownews.com/news/20200321/3996878/\" rel=\"bookmark\" title=\"不要再囤了！賣場老翁心碎畫面曝光　20萬人淚呼：好難過\">不要再囤了！賣場老翁心碎畫面曝光　20萬人淚呼：好難過</a></h3>\n"
     ]
    }
   ],
   "source": [
    "# print(soup.select(\"div.td-animation-stack\"))\n",
    "\n",
    "# print(soup.select(\"a\"))\n",
    "\n",
    "# for ele in soup.select(\"a\"):\n",
    "#     print(ele)\n",
    "\n",
    "# print(soup.select(\"h3\"))\n",
    "\n",
    "for ele in soup.select(\"h3\"):\n",
    "    print(ele)"
   ]
  },
  {
   "cell_type": "code",
   "execution_count": 41,
   "metadata": {
    "scrolled": true
   },
   "outputs": [
    {
     "name": "stdout",
     "output_type": "stream",
     "text": [
      "<a href=\"https://www.nownews.com/news/20200321/3995977/\" rel=\"bookmark\" title=\"影／伍佰老師防疫宣導超霸氣　網友重溫狂笑：態度一百\">影／伍佰老師防疫宣導超霸氣　網友重溫狂笑：態度一百</a>\n",
      "<a href=\"https://www.nownews.com/news/20200321/3995977/\">Read more</a>\n",
      "<a href=\"https://www.nownews.com/news/20200321/3996941/\" rel=\"bookmark\" title=\"全聯新贈品曝光！婆媽一看「隱藏版」全暴動：有加碼福利\">全聯新贈品曝光！婆媽一看「隱藏版」全暴動：有加碼福利</a>\n",
      "<a href=\"https://www.nownews.com/news/20200321/3996941/\">Read more</a>\n",
      "<a href=\"https://www.nownews.com/news/20200321/3996956/\" rel=\"bookmark\" title=\"NBA／武漢肺炎影響　沃神指出4月中球員恐開始被扣薪\">NBA／武漢肺炎影響　沃神指出4月中球員恐開始被扣薪</a>\n",
      "<a href=\"https://www.nownews.com/news/20200321/3996956/\">Read more</a>\n",
      "<a href=\"https://www.nownews.com/news/20200321/3996944/\" rel=\"bookmark\" title=\"武漢肺炎怎結束？專家揭4結局　「最糟情況」曝光：可怕\">武漢肺炎怎結束？專家揭4結局　「最糟情況」曝光：可怕</a>\n",
      "<a href=\"https://www.nownews.com/news/20200321/3996944/\">Read more</a>\n",
      "<a href=\"https://www.nownews.com/news/20200321/3996939/\" rel=\"bookmark\" title=\"陸官媒胡錫進：港台病例激增，入境中國應隔離否則很危險\">陸官媒胡錫進：港台病例激增，入境中國應隔離否則很危險</a>\n",
      "<a href=\"https://www.nownews.com/news/20200321/3996939/\">Read more</a>\n",
      "<a href=\"https://www.nownews.com/news/20200321/3996902/\" rel=\"bookmark\" title=\"破億神曲24歲女星「確診武漢肺炎」 同台藝人陷染疫危機\">破億神曲24歲女星「確診武漢肺炎」 同台藝人陷染疫危機</a>\n",
      "<a href=\"https://www.nownews.com/news/20200321/3996902/\">Read more</a>\n",
      "<a href=\"https://www.nownews.com/news/20200321/3996891/\" rel=\"bookmark\" title=\"川普稱中國病毒　黃安「不生氣理由」陸網推爆：這是現實\">川普稱中國病毒　黃安「不生氣理由」陸網推爆：這是現實</a>\n",
      "<a href=\"https://www.nownews.com/news/20200321/3996891/\">Read more</a>\n",
      "<a href=\"https://www.nownews.com/news/20200321/3996777/\" rel=\"bookmark\" title=\"影／首次出國實習遇武漢肺炎　科大學生心驚驚\">影／首次出國實習遇武漢肺炎　科大學生心驚驚</a>\n",
      "<a href=\"https://www.nownews.com/news/20200321/3996777/\">Read more</a>\n",
      "<a href=\"https://www.nownews.com/news/20200321/3996904/\" rel=\"bookmark\" title=\"NBA／KD坦承自己確診武漢肺炎　湖人後衛：他很勇敢\">NBA／KD坦承自己確診武漢肺炎　湖人後衛：他很勇敢</a>\n",
      "<a href=\"https://www.nownews.com/news/20200321/3996904/\">Read more</a>\n",
      "<a href=\"https://www.nownews.com/news/20200321/3996860/\" rel=\"bookmark\" title=\"各地湧現搶購潮　經濟部信心喊話：衛生紙夠擦屁股300年\">各地湧現搶購潮　經濟部信心喊話：衛生紙夠擦屁股300年</a>\n",
      "<a href=\"https://www.nownews.com/news/20200321/3996860/\">Read more</a>\n",
      "<a href=\"https://www.nownews.com/news/20200321/3996850/\" rel=\"bookmark\" title=\"MLB／談武漢肺炎疫情　一朗：就像棒球突然消失\">MLB／談武漢肺炎疫情　一朗：就像棒球突然消失</a>\n",
      "<a href=\"https://www.nownews.com/news/20200321/3996850/\">Read more</a>\n",
      "<a href=\"https://www.nownews.com/news/20200321/3996878/\" rel=\"bookmark\" title=\"不要再囤了！賣場老翁心碎畫面曝光　20萬人淚呼：好難過\">不要再囤了！賣場老翁心碎畫面曝光　20萬人淚呼：好難過</a>\n",
      "<a href=\"https://www.nownews.com/news/20200321/3996878/\">Read more</a>\n",
      "--------------------------------------------------------------------------------\n",
      "<time class=\"entry-date updated td-module-date\" datetime=\"2020-03-21T13:12:56+00:00\">2020-03-21</time>\n",
      "<time class=\"entry-date updated td-module-date\" datetime=\"2020-03-21T12:30:48+00:00\">2020-03-21</time>\n",
      "<time class=\"entry-date updated td-module-date\" datetime=\"2020-03-21T12:15:33+00:00\">2020-03-21</time>\n",
      "<time class=\"entry-date updated td-module-date\" datetime=\"2020-03-21T12:06:21+00:00\">2020-03-21</time>\n",
      "<time class=\"entry-date updated td-module-date\" datetime=\"2020-03-21T11:59:38+00:00\">2020-03-21</time>\n",
      "<time class=\"entry-date updated td-module-date\" datetime=\"2020-03-21T11:57:33+00:00\">2020-03-21</time>\n",
      "<time class=\"entry-date updated td-module-date\" datetime=\"2020-03-21T11:54:24+00:00\">2020-03-21</time>\n",
      "<time class=\"entry-date updated td-module-date\" datetime=\"2020-03-21T11:47:01+00:00\">2020-03-21</time>\n",
      "<time class=\"entry-date updated td-module-date\" datetime=\"2020-03-21T11:40:01+00:00\">2020-03-21</time>\n",
      "<time class=\"entry-date updated td-module-date\" datetime=\"2020-03-21T11:15:13+00:00\">2020-03-21</time>\n",
      "<time class=\"entry-date updated td-module-date\" datetime=\"2020-03-21T11:00:06+00:00\">2020-03-21</time>\n",
      "<time class=\"entry-date updated td-module-date\" datetime=\"2020-03-21T10:58:45+00:00\">2020-03-21</time>\n",
      "<time class=\"entry-date updated td-module-date\" datetime=\"2020-03-21T10:48:32+00:00\">2020-03-21</time>\n"
     ]
    }
   ],
   "source": [
    "# html 原始程式碼 --> source code\n",
    "\n",
    "### tag name / class 定位\n",
    "\n",
    "# h3_tags = soup.select(\"h3\")\n",
    "\n",
    "# print(type(h3_tags))\n",
    "# print(h3_tags)\n",
    "\n",
    "# ele = h3_tags[0]\n",
    "# print(ele)\n",
    "\n",
    "\n",
    "# print(soup.select(\"h3\"))\n",
    "# print(soup.select(\"h3 a\"))\n",
    "\n",
    "# print(soup.select(\"div.td-module-meta-info a\"))\n",
    "# print(soup.select(\"div.td-module-meta-info span time\"))\n",
    "# for ele in soup.select(\"div.td-module-meta-info span time\"):\n",
    "#     print(ele)\n",
    "\n",
    "aTags = soup.select(\"div.td-module-meta-info a\")\n",
    "for ele in aTags:\n",
    "    print(ele)\n",
    "    \n",
    "print(\"-\"*80)\n",
    "    \n",
    "# timeTags = soup.select(\"div.td-module-meta-info span time\")\n",
    "timeTags = soup.select(\"div.td-module-meta-info time\")\n",
    "\n",
    "for ele2 in timeTags:\n",
    "    print(ele2)"
   ]
  },
  {
   "cell_type": "code",
   "execution_count": 55,
   "metadata": {},
   "outputs": [
    {
     "name": "stdout",
     "output_type": "stream",
     "text": [
      "[<li class=\"menu-item menu-item-type-post_type menu-item-object-page td-menu-item td-normal-menu menu-item-2895786\" id=\"menu-item-2895786\"><a href=\"https://www.nownews.com/copyright/\">著作權聲明</a></li>]\n",
      "[<li class=\"menu-item menu-item-type-post_type menu-item-object-page menu-item-first td-menu-item td-normal-menu menu-item-2895780\" id=\"menu-item-2895780\"><a href=\"https://www.nownews.com/disclaimer/\">免責聲明</a></li>]\n",
      "----------------------------------------------------------------------------------------------------\n",
      "[<li class=\"menu-item menu-item-type-post_type menu-item-object-page td-menu-item td-normal-menu menu-item-2895786\" id=\"menu-item-2895786\"><a href=\"https://www.nownews.com/copyright/\">著作權聲明</a></li>]\n"
     ]
    }
   ],
   "source": [
    "### id 定位\n",
    "\n",
    "# soup.select(\"div#td_uid_8_5e75a3b094630\")\n",
    "\n",
    "# print(soup.select(\"li#menu-item-2895786\"))\n",
    "print(soup.select(\"#menu-item-2895786\"))\n",
    "print(soup.select(\"li#menu-item-2895780\"))\n",
    "\n",
    "print(\"-\"*100)\n",
    "\n",
    "print(soup.select(\"div.td-container li#menu-item-2895786\"))"
   ]
  },
  {
   "cell_type": "code",
   "execution_count": 120,
   "metadata": {},
   "outputs": [],
   "source": [
    "url = \"https://petsmao.nownews.com/\"\n",
    "res2  = requests.get(url)\n",
    "soup2 = bs(res2.text,\"lxml\")\n",
    "# print(soup2)\n"
   ]
  },
  {
   "cell_type": "code",
   "execution_count": 86,
   "metadata": {
    "scrolled": true
   },
   "outputs": [
    {
     "name": "stdout",
     "output_type": "stream",
     "text": [
      "[<span class=\"item_text\">寵鮮聞</span>, <span class=\"item_text\">狗</span>, <span class=\"item_text\">貓</span>, <span class=\"item_text\">動物奇觀</span>]\n"
     ]
    }
   ],
   "source": [
    "### 屬性值定位\n",
    "\n",
    "# print(soup2.select(\"li.menu-item-type-custom.menu-item-object-custom\"))\n",
    "# print(soup2.select(\"div.eltd-vertical-menu-area-inner li.menu-item-type-custom.menu-item-object-custom\"))\n",
    "# print(soup2.select(\"div.eltd-vertical-menu-area-inner li.menu-item-type-custom.menu-item-object-custom span.item_outer\"))\n",
    "\n",
    "# data-nav-item-type=\"custom\"\n",
    "\n",
    "data = soup2.select(\"li[data-nav-item-type='custom']\")\n",
    "print(data[0].select(\"span.item_text\"))\n",
    "\n",
    "# print(soup2.select(\"a[target='_blank']\"))\n",
    "\n",
    "# print(soup2.select(\"div.eltd-wrapper-inner li span.item_text\"))"
   ]
  },
  {
   "cell_type": "code",
   "execution_count": 109,
   "metadata": {},
   "outputs": [
    {
     "name": "stdout",
     "output_type": "stream",
     "text": [
      "<a href=\"https://www.nownews.com/news/20200321/3996995/\" rel=\"bookmark\" title=\"疫情燒各地鎖國！外交部：延長在台外籍人士30天\">疫情燒各地鎖國！外交部：延長在台外籍人士30天</a>\n",
      "https://www.nownews.com/news/20200321/3996995/\n",
      "疫情燒各地鎖國！外交部：延長在台外籍人士30天\n",
      "['bookmark']\n",
      "<time class=\"entry-date updated td-module-date\" datetime=\"2020-03-21T12:43:18+00:00\">2020-03-21</time>\n",
      "2020-03-21T12:43:18+00:00\n",
      "2020-03-21\n",
      "['entry-date', 'updated', 'td-module-date']\n"
     ]
    }
   ],
   "source": [
    "### 屬性值抓取\n",
    "# data = soup.select(\"div.tdb_module_loop.td_module_wrap.td-animation-stack\")\n",
    "# print(data)\n",
    "# print(len(data))\n",
    "\n",
    "data = soup.select(\"div.td-fix-index div.td-animation-stack\")\n",
    "ele  = data[0]\n",
    "\n",
    "# print(ele)\n",
    "# print(\"-\"*80)\n",
    "aTag = ele.select(\"h3 a\")[0]\n",
    "print(aTag)\n",
    "print(aTag[\"href\"])\n",
    "print(aTag[\"title\"])\n",
    "\n",
    "\n",
    "timeTag = ele.select(\"time\")[0]\n",
    "print(timeTag)\n",
    "print(timeTag[\"datetime\"])\n",
    "print(timeTag.text)\n",
    "print(timeTag[\"class\"])"
   ]
  },
  {
   "cell_type": "code",
   "execution_count": 119,
   "metadata": {},
   "outputs": [],
   "source": [
    "### 動作流程開始\n",
    "import requests\n",
    "from bs4 import BeautifulSoup as bs\n",
    "\n",
    "url = \"https://www.nownews.com/cat/column/\"\n",
    "\n",
    "test = {\n",
    "    \"user-agent\": \"Mozilla/5.0 (Windows NT 10.0; Win64; x64) AppleWebKit/537.36 (KHTML, like Gecko) Chrome/80.0.3987.149 Safari/537.36\"\n",
    "}\n",
    "\n",
    "res = requests.get(url , headers = test )\n",
    "\n",
    "soup = bs(res.text,\"lxml\")\n",
    "\n",
    "# print(soup)\n"
   ]
  },
  {
   "cell_type": "code",
   "execution_count": 118,
   "metadata": {},
   "outputs": [
    {
     "name": "stdout",
     "output_type": "stream",
     "text": [
      "https://www.nownews.com/news/20200321/3997351/\n",
      "https://www.nownews.com/news/20200321/3997322/\n",
      "https://www.nownews.com/news/20200321/3997104/\n",
      "https://www.nownews.com/news/20200321/3997220/\n",
      "https://www.nownews.com/news/20200321/3997248/\n",
      "https://www.nownews.com/news/20200321/3997130/\n",
      "https://www.nownews.com/news/20200321/3997103/\n",
      "https://www.nownews.com/news/20200321/3997090/\n",
      "https://www.nownews.com/news/20200321/3997076/\n",
      "https://www.nownews.com/news/20200321/3997070/\n",
      "https://www.nownews.com/news/20200321/3997113/\n",
      "https://www.nownews.com/news/20200321/3997069/\n",
      "https://www.nownews.com/news/20200321/3997048/\n",
      "https://www.nownews.com/news/20200321/3997122/\n",
      "https://www.nownews.com/news/20200321/3997058/\n",
      "https://www.nownews.com/news/20200321/3997013/\n"
     ]
    }
   ],
   "source": [
    "## 抓取各文章連結\n",
    "\n",
    "data = soup.select(\"div.td-animation-stack\")\n",
    "# print(data[0])\n",
    "\n",
    "links = []\n",
    "\n",
    "for ele in data:\n",
    "    a_tag = ele.select(\"h3 a\")[0]\n",
    "    \n",
    "    url  = a_tag[\"href\"]\n",
    "    \n",
    "    links.append(url)\n",
    "    \n",
    "    # print(a_tag)\n",
    "    # print(a_tag[\"href\"])\n",
    "    \n",
    "for l in links:\n",
    "    print(l)"
   ]
  },
  {
   "cell_type": "code",
   "execution_count": 150,
   "metadata": {},
   "outputs": [
    {
     "name": "stdout",
     "output_type": "stream",
     "text": [
      "https://www.nownews.com/news/20200321/3997351/\n"
     ]
    }
   ],
   "source": [
    "url2 = links[0]\n",
    "print(url2)\n",
    "\n",
    "headers = {\n",
    "    \"user-agent\": \"Mozilla/5.0 (Windows NT 10.0; Win64; x64) AppleWebKit/537.36 (KHTML, like Gecko) Chrome/80.0.3987.149 Safari/537.36\"\n",
    "}\n",
    "\n",
    "res2  = requests.get(url2,headers=headers)\n",
    "soup2 = bs(res2.text,\"lxml\")\n",
    "\n",
    "# print(soup2)"
   ]
  },
  {
   "cell_type": "code",
   "execution_count": 149,
   "metadata": {},
   "outputs": [
    {
     "name": "stdout",
     "output_type": "stream",
     "text": [
      "category: NOWnews > 武漢肺炎\n",
      "title: 囤積上萬片口罩網路兜售高價賣　桃婦女15萬元交保\n",
      "time: 2020-03-21 15:35:26\n",
      "url: https://www.nownews.com/news/20200321/3997351/\n",
      "content: 趁武漢肺炎疫情發燒大賺不義之財！桃園邱姓婦人(54歲)透過臉書社團高價販售口罩，桃園地檢署日前獲報後，指派民生專組檢察官黃冠中偵辦，於20日指揮基隆市警局、桃園市警局大溪分局，並會同市府衛生局，持搜索票前往邱女大溪住處，當場查扣一萬多片的口罩。檢方指出，經查邱女自109年3月初起在網路臉書社團販售口罩，並宣稱販售的是醫療用口罩，以每50片900元的價格販售，顯然高於目前市價﹔訊後，邱女涉犯嚴重特殊傳染性肺炎防治及紓困振興特別條例第12條哄抬防疫物資價格罪，犯罪嫌疑重大，唯無羈押必要性，諭知以15萬元交保。桃園地檢署提醒，目前市場上民生物資充沛，並無匱乏之虞，民眾勿須囤積搶購物品，若有哄抬價格或無正當理由囤積而不應市銷售者，依法可處5年以下有期徒刑，得併科新台幣500萬元以下罰金；另外，對於其他有意圖抬高交易價格，囤積糧食、農產品或其他民生必需的飲食物品，或以強暴、脅迫妨害前開貨品販運，或有意圖影響前開貨品交易價格，而散布不實資訊等，依刑法、傳染病防治法等規定，均屬違法行為，呼籲民眾不要以身試法。※【NOWnews 今日新聞】提醒您：因應武漢肺炎疫情，疾管署持續加強疫情監測與邊境管制措施，國外入境後如有發燒、咳嗽等不適症狀，請撥打「1922」專線，或「0800-001922」，並依指示配戴口罩儘速就醫，同時主動告知醫師旅遊史及接觸史，以利及時診斷及通報。\n",
      "{'category': 'NOWnews > 武漢肺炎', 'title': '囤積上萬片口罩網路兜售高價賣\\u3000桃婦女15萬元交保', 'time': '2020-03-21 15:35:26', 'url': 'https://www.nownews.com/news/20200321/3997351/', 'content': '趁武漢肺炎疫情發燒大賺不義之財！桃園邱姓婦人(54歲)透過臉書社團高價販售口罩，桃園地檢署日前獲報後，指派民生專組檢察官黃冠中偵辦，於20日指揮基隆市警局、桃園市警局大溪分局，並會同市府衛生局，持搜索票前往邱女大溪住處，當場查扣一萬多片的口罩。檢方指出，經查邱女自109年3月初起在網路臉書社團販售口罩，並宣稱販售的是醫療用口罩，以每50片900元的價格販售，顯然高於目前市價﹔訊後，邱女涉犯嚴重特殊傳染性肺炎防治及紓困振興特別條例第12條哄抬防疫物資價格罪，犯罪嫌疑重大，唯無羈押必要性，諭知以15萬元交保。桃園地檢署提醒，目前市場上民生物資充沛，並無匱乏之虞，民眾勿須囤積搶購物品，若有哄抬價格或無正當理由囤積而不應市銷售者，依法可處5年以下有期徒刑，得併科新台幣500萬元以下罰金；另外，對於其他有意圖抬高交易價格，囤積糧食、農產品或其他民生必需的飲食物品，或以強暴、脅迫妨害前開貨品販運，或有意圖影響前開貨品交易價格，而散布不實資訊等，依刑法、傳染病防治法等規定，均屬違法行為，呼籲民眾不要以身試法。※【NOWnews 今日新聞】提醒您：因應武漢肺炎疫情，疾管署持續加強疫情監測與邊境管制措施，國外入境後如有發燒、咳嗽等不適症狀，請撥打「1922」專線，或「0800-001922」，並依指示配戴口罩儘速就醫，同時主動告知醫師旅遊史及接觸史，以利及時診斷及通報。'}\n"
     ]
    }
   ],
   "source": [
    "### 解析頁面資料\n",
    "# category \n",
    "category = soup2.select(\"div.td-crumb-container div.entry-crumbs\")[0].text.replace(\"  \",\" > \")\n",
    "print(\"category:\",category)\n",
    "\n",
    "# title \n",
    "title = soup2.select(\"header h1.entry-title\")[0].text\n",
    "print(\"title:\",title)\n",
    "\n",
    "# time  = soup2.select(\"header time\")\n",
    "time  = soup2.select(\"header div.td-module-meta-info time\")[0].text\n",
    "print(\"time:\",time)\n",
    "\n",
    "# url \n",
    "print(\"url:\",url2)\n",
    "\n",
    "# content \n",
    "content = \"\"\n",
    "p_tags = soup2.select(\"div.td-post-content span[itemprop='articleBody'] p\")\n",
    "\n",
    "for ele in p_tags:\n",
    "    # print(ele.text)\n",
    "    content += ele.text\n",
    "    \n",
    "print(\"content:\",content)\n",
    "\n",
    "data = {\n",
    "    \"category\" : category , \n",
    "    \"title\"    : title , \n",
    "    \"time\"     : time  ,\n",
    "    \"url\"      : url2 ,\n",
    "    \"content\"  : content\n",
    "}\n",
    "\n",
    "print(data)\n",
    "\n"
   ]
  },
  {
   "cell_type": "code",
   "execution_count": null,
   "metadata": {},
   "outputs": [],
   "source": []
  },
  {
   "cell_type": "code",
   "execution_count": null,
   "metadata": {},
   "outputs": [],
   "source": []
  },
  {
   "cell_type": "code",
   "execution_count": null,
   "metadata": {},
   "outputs": [],
   "source": []
  },
  {
   "cell_type": "code",
   "execution_count": null,
   "metadata": {},
   "outputs": [],
   "source": []
  },
  {
   "cell_type": "code",
   "execution_count": 127,
   "metadata": {},
   "outputs": [],
   "source": []
  }
 ],
 "metadata": {
  "kernelspec": {
   "display_name": "Python 3",
   "language": "python",
   "name": "python3"
  },
  "language_info": {
   "codemirror_mode": {
    "name": "ipython",
    "version": 3
   },
   "file_extension": ".py",
   "mimetype": "text/x-python",
   "name": "python",
   "nbconvert_exporter": "python",
   "pygments_lexer": "ipython3",
   "version": "3.7.6"
  }
 },
 "nbformat": 4,
 "nbformat_minor": 4
}
