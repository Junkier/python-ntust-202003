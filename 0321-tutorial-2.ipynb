{
 "cells": [
  {
   "cell_type": "code",
   "execution_count": 25,
   "metadata": {},
   "outputs": [
    {
     "name": "stdout",
     "output_type": "stream",
     "text": [
      "<class 'str'>\n"
     ]
    }
   ],
   "source": [
    "# requests\n",
    "\n",
    "import requests\n",
    "\n",
    "url = \"https://www.nownews.com/cat/column/\"\n",
    "\n",
    "headers = {\n",
    "    #     :authority: www.nownews.com\n",
    "    #     :method: GET\n",
    "    #     :path: /cat/column/\n",
    "    #     :scheme: https\n",
    "    #     accept: text/html,application/xhtml+xml,application/xml;q=0.9,image/webp,image/apng,*/*;q=0.8,application/signed-exchange;v=b3;q=0.9\n",
    "    #     accept-encoding: gzip, deflate, br\n",
    "    #     accept-language: zh-TW,zh;q=0.9,en-US;q=0.8,en;q=0.7\n",
    "    #     cache-control: max-age=0\n",
    "    #     cookie: __cfduid=d701f5e73777b7088d72ae4297f1523401584769309; __cfruid=65c50de5a9cae71e283ab684107e93a0a045ff5b-1584769309; _ga=GA1.2.1103989353.1584769311; _gid=GA1.2.2026141546.1584769311; dable_uid=44657174.1584754251349; _ss_pp_id=13f37aa5ffa2f2d3e551584726679367; __gads=ID=eff99311521862c2:T=1584769314:S=ALNI_MY-uVNjKI1vYxkPUzxjfnxkA7wIjQ; __asc=5064b019170fb9cb097e38fd3a9; __auc=5064b019170fb9cb097e38fd3a9; _fbp=fb.1.1584769315433.1977075126; freq.58e1afd747e7046f3bb1c295=1; freq.5e661e8b47e7043d03000003=1; iUUID=764e15b599b30311cf29102469f3c386; innity.dmp.0.sess=1.1584769364361.1584769364361.1584769364361; innity.dmp.0.sess.id=127061259.0.1584769364361; innity.dmp.cks.appxs=1; innity.dmp.cks.innity=1; oid=%257B%2522oid%2522%253A%2522285e553a-6b11-11ea-a18a-0242ac120003%2522%252C%2522ts%2522%253A1584753202%252C%2522v%2522%253A%25221.0%2522%257D; innity.dmp.1.sess.id=127061259.1.1584769428170; truvid_protected={\"val\":\"c\",\"level\":1,\"geo\":\"TW\",\"timestamp\":1584769481}; truvid_oov={\"timesShown\":2}; innity.dmp.1.sess=7.1584769428170.1584769759448.1584769766370; _td=9a54ea03-d320-461d-818c-9a4c26db28cb; GED_PLAYLIST_ACTIVITY=W3sidSI6IkQrRSsiLCJ0c2wiOjE1ODQ3NzAwMTQsIm52IjowLCJ1cHQiOjE1ODQ3Njk3NDEsImx0IjoxNTg0NzY5NzgwfSx7InUiOiI4NDZhIiwidHNsIjoxNTg0NzY5ODA3LCJudiI6MCwidXB0IjoxNTg0NzY5ODAyLCJsdCI6MTU4NDc2OTgwMn0seyJ1IjoiRk04bSIsInRzbCI6MTU4NDc2OTU1MywibnYiOjEsInVwdCI6MTU4NDc2OTQ2OSwibHQiOjE1ODQ3Njk1NTN9XQ..\n",
    "    #     referer: https://www.nownews.com/cat/entertainment/\n",
    "    #     sec-fetch-dest: document\n",
    "    #     sec-fetch-mode: navigate\n",
    "    #     sec-fetch-site: same-origin\n",
    "    #     sec-fetch-user: ?1\n",
    "    #     upgrade-insecure-requests: 1\n",
    "    \"user-agent\": \"Mozilla/5.0 (Windows NT 10.0; Win64; x64) AppleWebKit/537.36 (KHTML, like Gecko) Chrome/80.0.3987.149 Safari/537.36\"\n",
    "}\n",
    "\n",
    "res = requests.get(url , headers = headers)\n",
    "\n",
    "# print(res)\n",
    "\n",
    "result = res.text\n",
    "\n",
    "print(type(result))\n",
    "# print(result)\n"
   ]
  },
  {
   "cell_type": "code",
   "execution_count": 11,
   "metadata": {},
   "outputs": [
    {
     "name": "stdout",
     "output_type": "stream",
     "text": [
      "<class 'str'>\n",
      "<class 'bs4.BeautifulSoup'>\n"
     ]
    }
   ],
   "source": [
    "from bs4 import BeautifulSoup as bs\n",
    "\n",
    "soup = bs(result,\"lxml\")\n",
    "\n",
    "# print(soup)\n",
    "print(type(result))\n",
    "print(type(soup))\n"
   ]
  },
  {
   "cell_type": "code",
   "execution_count": 18,
   "metadata": {
    "scrolled": true
   },
   "outputs": [
    {
     "name": "stdout",
     "output_type": "stream",
     "text": [
      "<h3 class=\"entry-title td-module-title\"><a href=\"https://www.nownews.com/news/20200321/3996972/\" rel=\"bookmark\" title=\"「民眾健康我來顧！」　侯友宜PO文籲：民眾麥擱趴趴走\">「民眾健康我來顧！」　侯友宜PO文籲：民眾麥擱趴趴走</a></h3>\n",
      "<h3 class=\"entry-title td-module-title\"><a href=\"https://www.nownews.com/news/20200321/3996995/\" rel=\"bookmark\" title=\"疫情燒各地鎖國！外交部：延長在台外籍人士30天\">疫情燒各地鎖國！外交部：延長在台外籍人士30天</a></h3>\n",
      "<h3 class=\"entry-title td-module-title\"><a href=\"https://www.nownews.com/news/20200321/3996945/\" rel=\"bookmark\" title=\"網紅馮提莫病倒　「高燒38度、無力又咳嗽」：我真的害怕\">網紅馮提莫病倒　「高燒38度、無力又咳嗽」：我真的害怕</a></h3>\n",
      "<h3 class=\"entry-title td-module-title\"><a href=\"https://www.nownews.com/news/20200321/3996969/\" rel=\"bookmark\" title=\"台灣捐贈巴拉圭百萬片口罩？　外交部澄清：是在當地採購\">台灣捐贈巴拉圭百萬片口罩？　外交部澄清：是在當地採購</a></h3>\n",
      "<h3 class=\"entry-title td-module-title\"><a href=\"https://www.nownews.com/news/20200321/3995977/\" rel=\"bookmark\" title=\"影／伍佰老師防疫宣導超霸氣　網友重溫狂笑：態度一百\">影／伍佰老師防疫宣導超霸氣　網友重溫狂笑：態度一百</a></h3>\n",
      "<h3 class=\"entry-title td-module-title\"><a href=\"https://www.nownews.com/news/20200321/3996941/\" rel=\"bookmark\" title=\"全聯新贈品曝光！婆媽一看「隱藏版」全暴動：有加碼福利\">全聯新贈品曝光！婆媽一看「隱藏版」全暴動：有加碼福利</a></h3>\n",
      "<h3 class=\"entry-title td-module-title\"><a href=\"https://www.nownews.com/news/20200321/3996956/\" rel=\"bookmark\" title=\"NBA／武漢肺炎影響　沃神指出4月中球員恐開始被扣薪\">NBA／武漢肺炎影響　沃神指出4月中球員恐開始被扣薪</a></h3>\n",
      "<h3 class=\"entry-title td-module-title\"><a href=\"https://www.nownews.com/news/20200321/3996944/\" rel=\"bookmark\" title=\"武漢肺炎怎結束？專家揭4結局　「最糟情況」曝光：可怕\">武漢肺炎怎結束？專家揭4結局　「最糟情況」曝光：可怕</a></h3>\n",
      "<h3 class=\"entry-title td-module-title\"><a href=\"https://www.nownews.com/news/20200321/3996939/\" rel=\"bookmark\" title=\"陸官媒胡錫進：港台病例激增，入境中國應隔離否則很危險\">陸官媒胡錫進：港台病例激增，入境中國應隔離否則很危險</a></h3>\n",
      "<h3 class=\"entry-title td-module-title\"><a href=\"https://www.nownews.com/news/20200321/3996902/\" rel=\"bookmark\" title=\"破億神曲24歲女星「確診武漢肺炎」 同台藝人陷染疫危機\">破億神曲24歲女星「確診武漢肺炎」 同台藝人陷染疫危機</a></h3>\n",
      "<h3 class=\"entry-title td-module-title\"><a href=\"https://www.nownews.com/news/20200321/3996891/\" rel=\"bookmark\" title=\"川普稱中國病毒　黃安「不生氣理由」陸網推爆：這是現實\">川普稱中國病毒　黃安「不生氣理由」陸網推爆：這是現實</a></h3>\n",
      "<h3 class=\"entry-title td-module-title\"><a href=\"https://www.nownews.com/news/20200321/3996777/\" rel=\"bookmark\" title=\"影／首次出國實習遇武漢肺炎　科大學生心驚驚\">影／首次出國實習遇武漢肺炎　科大學生心驚驚</a></h3>\n",
      "<h3 class=\"entry-title td-module-title\"><a href=\"https://www.nownews.com/news/20200321/3996904/\" rel=\"bookmark\" title=\"NBA／KD坦承自己確診武漢肺炎　湖人後衛：他很勇敢\">NBA／KD坦承自己確診武漢肺炎　湖人後衛：他很勇敢</a></h3>\n",
      "<h3 class=\"entry-title td-module-title\"><a href=\"https://www.nownews.com/news/20200321/3996860/\" rel=\"bookmark\" title=\"各地湧現搶購潮　經濟部信心喊話：衛生紙夠擦屁股300年\">各地湧現搶購潮　經濟部信心喊話：衛生紙夠擦屁股300年</a></h3>\n",
      "<h3 class=\"entry-title td-module-title\"><a href=\"https://www.nownews.com/news/20200321/3996850/\" rel=\"bookmark\" title=\"MLB／談武漢肺炎疫情　一朗：就像棒球突然消失\">MLB／談武漢肺炎疫情　一朗：就像棒球突然消失</a></h3>\n",
      "<h3 class=\"entry-title td-module-title\"><a href=\"https://www.nownews.com/news/20200321/3996878/\" rel=\"bookmark\" title=\"不要再囤了！賣場老翁心碎畫面曝光　20萬人淚呼：好難過\">不要再囤了！賣場老翁心碎畫面曝光　20萬人淚呼：好難過</a></h3>\n"
     ]
    }
   ],
   "source": [
    "# print(soup.select(\"div.td-animation-stack\"))\n",
    "\n",
    "# print(soup.select(\"a\"))\n",
    "\n",
    "# for ele in soup.select(\"a\"):\n",
    "#     print(ele)\n",
    "\n",
    "# print(soup.select(\"h3\"))\n",
    "\n",
    "for ele in soup.select(\"h3\"):\n",
    "    print(ele)"
   ]
  },
  {
   "cell_type": "code",
   "execution_count": null,
   "metadata": {},
   "outputs": [],
   "source": []
  }
 ],
 "metadata": {
  "kernelspec": {
   "display_name": "Python 3",
   "language": "python",
   "name": "python3"
  },
  "language_info": {
   "codemirror_mode": {
    "name": "ipython",
    "version": 3
   },
   "file_extension": ".py",
   "mimetype": "text/x-python",
   "name": "python",
   "nbconvert_exporter": "python",
   "pygments_lexer": "ipython3",
   "version": "3.7.6"
  }
 },
 "nbformat": 4,
 "nbformat_minor": 4
}
